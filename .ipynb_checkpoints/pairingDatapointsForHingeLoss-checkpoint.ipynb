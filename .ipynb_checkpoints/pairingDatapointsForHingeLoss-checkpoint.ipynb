{
 "cells": [
  {
   "cell_type": "markdown",
   "id": "679e6c0b",
   "metadata": {},
   "source": [
    "# Data preaparation\n"
   ]
  },
  {
   "cell_type": "code",
   "execution_count": 1,
   "id": "55d34e4a",
   "metadata": {},
   "outputs": [],
   "source": [
    "import uproot\n",
    "import numpy as np\n",
    "import networkx as nx\n",
    "import matplotlib.pyplot as plt\n",
    "from scipy.spatial.distance import cdist\n",
    "from sklearn.model_selection import cross_val_score, cross_val_predict, train_test_split\n",
    "from collections import namedtuple, defaultdict\n",
    "import open3d as o3d\n",
    "import random\n",
    "import h5py\n",
    "import torch\n",
    "import torch.nn as nn\n",
    "import torch.optim as optim\n",
    "from torch.utils.data import DataLoader, Dataset\n",
    "from torchvision import transforms\n",
    "from sklearn.preprocessing import StandardScaler, MinMaxScaler"
   ]
  },
  {
   "cell_type": "code",
   "execution_count": 2,
   "id": "25e5d2cb",
   "metadata": {},
   "outputs": [
    {
     "data": {
      "text/plain": [
       "'5.0.9'"
      ]
     },
     "execution_count": 2,
     "metadata": {},
     "output_type": "execute_result"
    }
   ],
   "source": [
    "uproot.__version__"
   ]
  },
  {
   "cell_type": "code",
   "execution_count": 3,
   "id": "9d838e46",
   "metadata": {},
   "outputs": [
    {
     "name": "stdout",
     "output_type": "stream",
     "text": [
      "CaloGNN.png                          Untitled.ipynb\r\n",
      "GNNKeras.ipynb                       ZacClub.ipynb\r\n",
      "LLP_for_Calo.ipynb                   debottam@237.93.105.92\r\n",
      "LLP_time-Copy1.ipynb                 fixed_length.py\r\n",
      "LLP_time.ipynb                       input.txt\r\n",
      "LLP_time_1.ipynb                     karate.edgelist\r\n",
      "\u001b[34mMLBasedCaloClustering\u001b[m\u001b[m                mlp-0000.params\r\n",
      "\u001b[34mMLBasedCaloClusteringPipeLine\u001b[m\u001b[m        mlp-symbol.json\r\n",
      "ML_01.ipynb                          mxHybrid.ipynb\r\n",
      "\u001b[34mML_Cell_data\u001b[m\u001b[m                         mxnet_exported_mlp.onnx\r\n",
      "ML_for_Calo.ipynb                    \u001b[34mmy_env\u001b[m\u001b[m\r\n",
      "ML_for_Calo_students.ipynb           \u001b[34msaved_model\u001b[m\u001b[m\r\n",
      "MyxAODAnalysis_300evnts.outputs.root trackML.ipynb\r\n",
      "MyxAODAnalysis_withNB.outputs.root\r\n"
     ]
    }
   ],
   "source": [
    "!ls .."
   ]
  },
  {
   "cell_type": "code",
   "execution_count": 5,
   "id": "58bf9e0b",
   "metadata": {},
   "outputs": [],
   "source": [
    "file = uproot.open(\"../MyxAODAnalysis_withNB.outputs.root\")"
   ]
  },
  {
   "cell_type": "code",
   "execution_count": 6,
   "id": "107255ef",
   "metadata": {},
   "outputs": [
    {
     "data": {
      "text/plain": [
       "['analysis;1']"
      ]
     },
     "execution_count": 6,
     "metadata": {},
     "output_type": "execute_result"
    }
   ],
   "source": [
    "file.keys()"
   ]
  },
  {
   "cell_type": "code",
   "execution_count": 7,
   "id": "b0470332",
   "metadata": {},
   "outputs": [],
   "source": [
    "tree = file['analysis']"
   ]
  },
  {
   "cell_type": "code",
   "execution_count": 9,
   "id": "c2c0d132",
   "metadata": {},
   "outputs": [],
   "source": [
    "branches = tree.arrays()"
   ]
  },
  {
   "cell_type": "code",
   "execution_count": 10,
   "id": "45a3ccec",
   "metadata": {},
   "outputs": [],
   "source": [
    "# this one just dealing with 1 event (e.g. 0th event)\n",
    "cell_coordinate_x = branches['cell_x'][1]\n",
    "cell_coordinate_y = branches['cell_y'][1]\n",
    "cell_coordinate_z = branches['cell_z'][1]\n",
    "cell_eta = branches['cell_eta'][1]\n",
    "cell_phi = branches['cell_phi'][1]\n",
    "cell_subCalo = branches['cell_subCalo'][1]\n",
    "cell_sampling = branches['cell_sampling'][1]\n",
    "cell_weight = branches['cell_weight'][1]\n",
    "cell_truth = branches['cell_truth'][1]\n",
    "cell_to_cluster_e = branches['cell_to_cluster_e'][1]\n",
    "cell_noiseSigma = branches['cell_noiseSigma'][1]\n",
    "cell_SNR = branches['cell_SNR'][1]\n",
    "cell_time = branches['cell_time'][1]\n",
    "cellsNo_cluster = branches['cellsNo_cluster'][1]\n",
    "clustersNo_event = branches['clustersNo_event'][1]\n",
    "cell_cluster_index = branches['cell_cluster_index'][1]\n",
    "cell_e = branches['cell_e'][1]\n",
    "cluster_to_cell_indices = branches['cluster_to_cell_indices'][1]"
   ]
  },
  {
   "cell_type": "code",
   "execution_count": 11,
   "id": "70d77175",
   "metadata": {},
   "outputs": [],
   "source": [
    "# convert them to numpy array otherwise they I believe behave like lists\n",
    "cell_coordinate_x = np.array(cell_coordinate_x)\n",
    "cell_coordinate_y = np.array(cell_coordinate_y)\n",
    "cell_coordinate_z = np.array(cell_coordinate_z)\n",
    "cell_eta = np.array(cell_eta)\n",
    "cell_phi = np.array(cell_phi)\n",
    "cell_subCalo = np.array(cell_subCalo)\n",
    "cell_sampling = np.array(cell_sampling)\n",
    "cell_weight = np.array(cell_weight)\n",
    "cell_truth = np.array(cell_truth)\n",
    "cell_to_cluster_e = np.array(cell_to_cluster_e)\n",
    "cell_noiseSigma = np.array(cell_noiseSigma)\n",
    "cell_SNR = np.array(cell_SNR)\n",
    "cell_time = np.array(cell_time)\n",
    "cellsNo_cluster = np.array(cellsNo_cluster)\n",
    "clustersNo_event = np.array(clustersNo_event)\n",
    "cell_to_cluster_index = np.array(cell_cluster_index)\n",
    "cell_e = np.array(cell_e)\n",
    "#cluster_to_cell_indices = np.array(cluster_to_cell_indices)"
   ]
  },
  {
   "cell_type": "markdown",
   "id": "08f9a735",
   "metadata": {},
   "source": [
    "# Description of data set:\n",
    "We decided to use following features from an event\n",
    "### Geometric features:\n",
    "\n",
    "##### 1. cell_coordinate_x (mm)\n",
    "##### 2. cell_coordinate_y (mm)\n",
    "##### 3. cell_coordinate_z (mm)\n",
    "##### 4. cell_subCalo          : LAREM = 0, LARHEC = 1, LARFCAL = 2, TILE = 3, LARMINIFCAL = 4, NSUBCALO = 5,\n",
    "##### 5. cell_sampling         : More granular information of the subcalo above\n",
    "\n",
    "### Deposited energy related features:\n",
    "\n",
    "##### 6. cell_SNR          : signal to noise ratio of a cell\n",
    "##### 7. cell_e               : Energy deposited in a cell in MeV\n",
    "\n",
    "### Topocluster related cell features:\n",
    "\n",
    "##### 8. cell_truth             : 0/1 whether cell takes part in a cluster or not\n",
    "##### 9. cell_weight            : could have more than 1 entry (value 0 to 1) but using the max weight for simplicity\n",
    "##### 10. cell_to_cluster_index  : index/id of the cluster where the cell has maximum weight (again for initial study)\n",
    "##### 11. cell_to_cluster_e      : energy of the cluster where the cell has maximum weight (again for initial study)"
   ]
  },
  {
   "cell_type": "markdown",
   "id": "9438698b",
   "metadata": {},
   "source": [
    "# Visualization of cell geometry"
   ]
  },
  {
   "cell_type": "markdown",
   "id": "bfe4db19",
   "metadata": {},
   "source": [
    "### A. Y-Z coordinates (Tile cells are in red)"
   ]
  },
  {
   "cell_type": "code",
   "execution_count": 14,
   "id": "38c50549",
   "metadata": {},
   "outputs": [
    {
     "data": {
      "text/plain": [
       "Text(0, 0.5, 'y direction (mm)')"
      ]
     },
     "execution_count": 14,
     "metadata": {},
     "output_type": "execute_result"
    },
    {
     "data": {
      "image/png": "[encoded data removed]",
      "text/plain": [
       "<Figure size 432x288 with 1 Axes>"
      ]
     },
     "metadata": {
      "needs_background": "light"
     },
     "output_type": "display_data"
    }
   ],
   "source": [
    "s = 1\n",
    "col = np.where(cell_subCalo==3,'r','b')\n",
    "plt.scatter(cell_coordinate_z, cell_coordinate_y, marker='.', s=s, c=col)\n",
    "plt.xlabel(\"z direction (mm)\")\n",
    "plt.ylabel(\"y direction (mm)\")"
   ]
  },
  {
   "cell_type": "markdown",
   "id": "bfdacced",
   "metadata": {},
   "source": [
    "### B. X-Y coordinates (Tile cells are in red)"
   ]
  },
  {
   "cell_type": "code",
   "execution_count": 15,
   "id": "a445d2fc",
   "metadata": {},
   "outputs": [
    {
     "data": {
      "text/plain": [
       "Text(0, 0.5, 'y direction (mm)')"
      ]
     },
     "execution_count": 15,
     "metadata": {},
     "output_type": "execute_result"
    },
    {
     "data": {
      "image/png": "[encoded data removed]",
      "text/plain": [
       "<Figure size 432x288 with 1 Axes>"
      ]
     },
     "metadata": {
      "needs_background": "light"
     },
     "output_type": "display_data"
    }
   ],
   "source": [
    "plt.scatter(cell_coordinate_x, cell_coordinate_y, marker='.', s=s, c=col)\n",
    "plt.xlabel(\"x direction (mm)\")\n",
    "plt.ylabel(\"y direction (mm)\")"
   ]
  },
  {
   "cell_type": "markdown",
   "id": "2fd37b16",
   "metadata": {},
   "source": [
    "## Visualization of the features "
   ]
  },
  {
   "cell_type": "code",
   "execution_count": 13,
   "id": "f9d3343e",
   "metadata": {},
   "outputs": [
    {
     "data": {
      "image/png": "[encoded data removed]",
      "text/plain": [
       "<Figure size 432x288 with 1 Axes>"
      ]
     },
     "metadata": {
      "needs_background": "light"
     },
     "output_type": "display_data"
    }
   ],
   "source": [
    "plt.hist(cell_coordinate_x)\n",
    "plt.show()"
   ]
  },
  {
   "cell_type": "code",
   "execution_count": 14,
   "id": "cf2164fb",
   "metadata": {},
   "outputs": [
    {
     "data": {
      "image/png": "[encoded data removed]",
      "text/plain": [
       "<Figure size 432x288 with 1 Axes>"
      ]
     },
     "metadata": {
      "needs_background": "light"
     },
     "output_type": "display_data"
    }
   ],
   "source": [
    "plt.hist(cell_coordinate_y)\n",
    "plt.show()"
   ]
  },
  {
   "cell_type": "code",
   "execution_count": 15,
   "id": "d3f7ba73",
   "metadata": {},
   "outputs": [
    {
     "data": {
      "image/png": "[encoded data removed]",
      "text/plain": [
       "<Figure size 432x288 with 1 Axes>"
      ]
     },
     "metadata": {
      "needs_background": "light"
     },
     "output_type": "display_data"
    }
   ],
   "source": [
    "plt.hist(cell_coordinate_z)\n",
    "plt.show()"
   ]
  },
  {
   "cell_type": "code",
   "execution_count": 16,
   "id": "fd5a46cb",
   "metadata": {},
   "outputs": [
    {
     "data": {
      "image/png": "[encoded data removed]",
      "text/plain": [
       "<Figure size 432x288 with 1 Axes>"
      ]
     },
     "metadata": {
      "needs_background": "light"
     },
     "output_type": "display_data"
    }
   ],
   "source": [
    "plt.hist(cell_subCalo)\n",
    "plt.yscale(\"log\")\n",
    "plt.show()"
   ]
  },
  {
   "cell_type": "code",
   "execution_count": 17,
   "id": "ef68d5cf",
   "metadata": {},
   "outputs": [
    {
     "data": {
      "image/png": "[encoded data removed]",
      "text/plain": [
       "<Figure size 432x288 with 1 Axes>"
      ]
     },
     "metadata": {
      "needs_background": "light"
     },
     "output_type": "display_data"
    }
   ],
   "source": [
    "plt.hist(cell_sampling)\n",
    "plt.yscale(\"log\")\n",
    "plt.show()"
   ]
  },
  {
   "cell_type": "code",
   "execution_count": 18,
   "id": "44a72abc",
   "metadata": {},
   "outputs": [
    {
     "data": {
      "image/png": "[encoded data removed]",
      "text/plain": [
       "<Figure size 432x288 with 1 Axes>"
      ]
     },
     "metadata": {
      "needs_background": "light"
     },
     "output_type": "display_data"
    }
   ],
   "source": [
    "plt.hist(cell_SNR)\n",
    "plt.yscale(\"log\")\n",
    "plt.show()"
   ]
  },
  {
   "cell_type": "code",
   "execution_count": 19,
   "id": "9b5c77b3",
   "metadata": {},
   "outputs": [],
   "source": [
    "\n",
    "participatingCell_Indx = [i for i in range(len(cell_truth)) if cell_truth[i]==1]\n",
    "nonParticipatingCell_Indx = [i for i in range(len(cell_truth)) if cell_truth[i]==0]"
   ]
  },
  {
   "cell_type": "code",
   "execution_count": 26,
   "id": "82a42982",
   "metadata": {},
   "outputs": [],
   "source": [
    "participatingCell_SNR = cell_SNR[participatingCell_Indx]\n",
    "nonParticipatingCell_SNR = cell_SNR[nonParticipatingCell_Indx]"
   ]
  },
  {
   "cell_type": "code",
   "execution_count": 59,
   "id": "e317afcf",
   "metadata": {},
   "outputs": [
    {
     "data": {
      "image/png": "[encoded data removed]",
      "text/plain": [
       "<Figure size 432x288 with 1 Axes>"
      ]
     },
     "metadata": {
      "needs_background": "light"
     },
     "output_type": "display_data"
    }
   ],
   "source": [
    "plt.hist(participatingCell_SNR, bins=100)\n",
    "#plt.xlim(-7,1)\n",
    "plt.yscale(\"log\")\n",
    "plt.show()"
   ]
  },
  {
   "cell_type": "code",
   "execution_count": 79,
   "id": "30c89251",
   "metadata": {},
   "outputs": [],
   "source": [
    "cellsWithSNR0andless = [i for i in range(len(participatingCell_SNR)) if participatingCell_SNR[i]<=0]"
   ]
  },
  {
   "cell_type": "code",
   "execution_count": 80,
   "id": "86858dc3",
   "metadata": {},
   "outputs": [
    {
     "data": {
      "text/plain": [
       "10302"
      ]
     },
     "execution_count": 80,
     "metadata": {},
     "output_type": "execute_result"
    }
   ],
   "source": [
    "len(cellsWithSNR0andless)"
   ]
  },
  {
   "cell_type": "code",
   "execution_count": 71,
   "id": "447b3c74",
   "metadata": {},
   "outputs": [
    {
     "data": {
      "text/plain": [
       "27294"
      ]
     },
     "execution_count": 71,
     "metadata": {},
     "output_type": "execute_result"
    }
   ],
   "source": [
    "len(participatingCell_SNR)"
   ]
  },
  {
   "cell_type": "code",
   "execution_count": 60,
   "id": "68108bbb",
   "metadata": {},
   "outputs": [
    {
     "data": {
      "image/png": "[encoded data removed]",
      "text/plain": [
       "<Figure size 432x288 with 1 Axes>"
      ]
     },
     "metadata": {
      "needs_background": "light"
     },
     "output_type": "display_data"
    }
   ],
   "source": [
    "plt.hist(nonParticipatingCell_SNR, bins =100)\n",
    "#plt.xlim(-0.25,0.25)\n",
    "plt.yscale(\"log\")\n",
    "plt.show()"
   ]
  },
  {
   "cell_type": "code",
   "execution_count": null,
   "id": "8bb1b069",
   "metadata": {},
   "outputs": [],
   "source": []
  },
  {
   "cell_type": "code",
   "execution_count": 22,
   "id": "8a65cab3",
   "metadata": {},
   "outputs": [
    {
     "data": {
      "text/plain": [
       "394"
      ]
     },
     "execution_count": 22,
     "metadata": {},
     "output_type": "execute_result"
    }
   ],
   "source": [
    "min(participatingCell_Indx)"
   ]
  },
  {
   "cell_type": "code",
   "execution_count": 76,
   "id": "94e95570",
   "metadata": {},
   "outputs": [
    {
     "data": {
      "image/png": "[encoded data removed]",
      "text/plain": [
       "<Figure size 432x288 with 1 Axes>"
      ]
     },
     "metadata": {
      "needs_background": "light"
     },
     "output_type": "display_data"
    }
   ],
   "source": [
    "plt.hist(cell_e)\n",
    "plt.yscale(\"log\")\n",
    "plt.show()"
   ]
  },
  {
   "cell_type": "code",
   "execution_count": 74,
   "id": "74133d08",
   "metadata": {},
   "outputs": [],
   "source": [
    "participatingCellE=cell_e[participatingCell_Indx ]\n",
    "nonParticipatingCellE = cell_e[nonParticipatingCell_Indx ]"
   ]
  },
  {
   "cell_type": "code",
   "execution_count": 73,
   "id": "fb169b45",
   "metadata": {},
   "outputs": [
    {
     "data": {
      "image/png": "[encoded data removed]",
      "text/plain": [
       "<Figure size 432x288 with 1 Axes>"
      ]
     },
     "metadata": {
      "needs_background": "light"
     },
     "output_type": "display_data"
    }
   ],
   "source": [
    "plt.hist(participatingCellE)\n",
    "plt.yscale(\"log\")\n",
    "plt.show()"
   ]
  },
  {
   "cell_type": "code",
   "execution_count": 77,
   "id": "0f6212f6",
   "metadata": {},
   "outputs": [],
   "source": [
    "cellsWithE0andless = [i for i in range(len(participatingCellE)) if participatingCellE[i]<=0]"
   ]
  },
  {
   "cell_type": "code",
   "execution_count": 78,
   "id": "a9a0eff8",
   "metadata": {},
   "outputs": [
    {
     "data": {
      "text/plain": [
       "10302"
      ]
     },
     "execution_count": 78,
     "metadata": {},
     "output_type": "execute_result"
    }
   ],
   "source": [
    "len(cellsWithE0andless)"
   ]
  },
  {
   "cell_type": "code",
   "execution_count": 75,
   "id": "26ecc64f",
   "metadata": {},
   "outputs": [
    {
     "data": {
      "image/png": "[encoded data removed]",
      "text/plain": [
       "<Figure size 432x288 with 1 Axes>"
      ]
     },
     "metadata": {
      "needs_background": "light"
     },
     "output_type": "display_data"
    }
   ],
   "source": [
    "plt.hist(nonParticipatingCellE)\n",
    "plt.yscale(\"log\")\n",
    "plt.show()"
   ]
  },
  {
   "cell_type": "code",
   "execution_count": 20,
   "id": "2b044c79",
   "metadata": {},
   "outputs": [
    {
     "data": {
      "image/png": "[encoded data removed]",
      "text/plain": [
       "<Figure size 432x288 with 1 Axes>"
      ]
     },
     "metadata": {
      "needs_background": "light"
     },
     "output_type": "display_data"
    }
   ],
   "source": [
    "plt.hist(cell_truth)\n",
    "plt.show()"
   ]
  },
  {
   "cell_type": "code",
   "execution_count": 21,
   "id": "314821f7",
   "metadata": {},
   "outputs": [
    {
     "data": {
      "image/png": "[encoded data removed]",
      "text/plain": [
       "<Figure size 432x288 with 1 Axes>"
      ]
     },
     "metadata": {
      "needs_background": "light"
     },
     "output_type": "display_data"
    }
   ],
   "source": [
    "plt.hist(cell_weight)\n",
    "plt.yscale(\"log\")\n",
    "plt.show()"
   ]
  },
  {
   "cell_type": "code",
   "execution_count": 22,
   "id": "2c48f597",
   "metadata": {},
   "outputs": [
    {
     "data": {
      "image/png": "[encoded data removed]",
      "text/plain": [
       "<Figure size 432x288 with 1 Axes>"
      ]
     },
     "metadata": {
      "needs_background": "light"
     },
     "output_type": "display_data"
    }
   ],
   "source": [
    "plt.hist(cell_to_cluster_index)\n",
    "plt.yscale(\"log\")\n",
    "plt.show()"
   ]
  },
  {
   "cell_type": "code",
   "execution_count": 23,
   "id": "5939bf83",
   "metadata": {},
   "outputs": [
    {
     "data": {
      "image/png": "[encoded data removed]",
      "text/plain": [
       "<Figure size 432x288 with 1 Axes>"
      ]
     },
     "metadata": {
      "needs_background": "light"
     },
     "output_type": "display_data"
    }
   ],
   "source": [
    "plt.hist(cell_to_cluster_e)\n",
    "plt.yscale(\"log\")\n",
    "plt.show()"
   ]
  },
  {
   "cell_type": "markdown",
   "id": "041a63c1",
   "metadata": {},
   "source": [
    "# Dealing with shared cells:\n",
    "### To reduce complexity we are keeping shared cells (shared by >1 clusters) in only single cluster where it contributed the most. e.g. if cell c is shared between cluster a and b by 90% and 10% respectively then we are keeping cell c in cluster a only"
   ]
  },
  {
   "cell_type": "code",
   "execution_count": 16,
   "id": "a444fa89",
   "metadata": {},
   "outputs": [],
   "source": [
    "sharedCells = [i for i in range(len(cell_weight)) if cell_weight[i]>0 and cell_weight[i]<1]"
   ]
  },
  {
   "cell_type": "code",
   "execution_count": 17,
   "id": "620a21b0",
   "metadata": {},
   "outputs": [
    {
     "data": {
      "text/plain": [
       "757"
      ]
     },
     "execution_count": 17,
     "metadata": {},
     "output_type": "execute_result"
    }
   ],
   "source": [
    "len(sharedCells)"
   ]
  },
  {
   "cell_type": "markdown",
   "id": "0c2d20f1",
   "metadata": {},
   "source": [
    "#### keeping the shared cells in the cluster where they contribute most"
   ]
  },
  {
   "cell_type": "code",
   "execution_count": 18,
   "id": "3307bd17",
   "metadata": {},
   "outputs": [],
   "source": [
    "cluster_to_cell_indices_copy = []\n",
    "for i in range(len(cluster_to_cell_indices)):\n",
    "    cell_copy =[]\n",
    "    for cell in cluster_to_cell_indices[i]:\n",
    "        if cell in sharedCells and cell_to_cluster_index[cell] != i+1:\n",
    "            continue\n",
    "        cell_copy.append(cell)\n",
    "    cluster_to_cell_indices_copy.append(cell_copy)"
   ]
  },
  {
   "cell_type": "code",
   "execution_count": 19,
   "id": "9de2eb10",
   "metadata": {},
   "outputs": [
    {
     "data": {
      "text/plain": [
       "757"
      ]
     },
     "execution_count": 19,
     "metadata": {},
     "output_type": "execute_result"
    }
   ],
   "source": [
    "len(cluster_to_cell_indices_copy)"
   ]
  },
  {
   "cell_type": "code",
   "execution_count": null,
   "id": "7430b709",
   "metadata": {},
   "outputs": [],
   "source": []
  },
  {
   "cell_type": "markdown",
   "id": "25f0eb14",
   "metadata": {},
   "source": [
    "# Preparing data with required features"
   ]
  },
  {
   "cell_type": "code",
   "execution_count": 20,
   "id": "0504cc50",
   "metadata": {},
   "outputs": [],
   "source": [
    "cell_coordinate_xT = np.transpose(np.expand_dims(cell_coordinate_x , axis=0))\n",
    "cell_coordinate_yT = np.transpose(np.expand_dims(cell_coordinate_y , axis=0))\n",
    "cell_coordinate_zT = np.transpose(np.expand_dims(cell_coordinate_z , axis=0))\n",
    "cell_etaT = np.transpose(np.expand_dims(cell_eta , axis=0))\n",
    "cell_phiT = np.transpose(np.expand_dims(cell_phi , axis=0))\n",
    "cell_samplingT = np.transpose(np.expand_dims(cell_sampling , axis=0))\n",
    "cell_subCaloT = np.transpose(np.expand_dims(cell_subCalo , axis=0))\n",
    "cell_SNRT = np.transpose(np.expand_dims(cell_noiseSigma, axis=0))\n",
    "cell_eT = np.transpose(np.expand_dims(cell_e , axis=0))\n",
    "cell_weightT = np.transpose(np.expand_dims(cell_weight , axis=0))\n",
    "cell_to_cluster_indexT = np.transpose(np.expand_dims(cell_to_cluster_index, axis=0))\n",
    "cell_to_cluster_eT = np.transpose(np.expand_dims(cell_to_cluster_e, axis=0))"
   ]
  },
  {
   "cell_type": "code",
   "execution_count": 21,
   "id": "b8de8c77",
   "metadata": {},
   "outputs": [
    {
     "data": {
      "text/plain": [
       "(187652, 1)"
      ]
     },
     "execution_count": 21,
     "metadata": {},
     "output_type": "execute_result"
    }
   ],
   "source": [
    "cell_SNRT.shape"
   ]
  },
  {
   "cell_type": "code",
   "execution_count": 22,
   "id": "73ddefa0",
   "metadata": {},
   "outputs": [],
   "source": [
    "data = np.concatenate((cell_coordinate_xT, cell_coordinate_yT, cell_coordinate_zT,\n",
    "                       cell_etaT,cell_phiT,\n",
    "                       cell_samplingT,\n",
    "                       cell_SNRT,\n",
    "                       cell_eT),axis=1)"
   ]
  },
  {
   "cell_type": "code",
   "execution_count": 23,
   "id": "bf4e7663",
   "metadata": {},
   "outputs": [
    {
     "data": {
      "text/plain": [
       "(187652, 8)"
      ]
     },
     "execution_count": 23,
     "metadata": {},
     "output_type": "execute_result"
    }
   ],
   "source": [
    "data.shape"
   ]
  },
  {
   "cell_type": "code",
   "execution_count": 24,
   "id": "836bb161",
   "metadata": {},
   "outputs": [],
   "source": [
    "arr = np.argwhere(np.isnan(cell_SNR))"
   ]
  },
  {
   "cell_type": "code",
   "execution_count": 23,
   "id": "0b43f247",
   "metadata": {},
   "outputs": [
    {
     "data": {
      "text/plain": [
       "array([[186986],\n",
       "       [187352]])"
      ]
     },
     "execution_count": 23,
     "metadata": {},
     "output_type": "execute_result"
    }
   ],
   "source": [
    "arr"
   ]
  },
  {
   "cell_type": "markdown",
   "id": "d8bfbd0b",
   "metadata": {},
   "source": [
    "# Applying minmax scaler"
   ]
  },
  {
   "cell_type": "code",
   "execution_count": 81,
   "id": "c8315c45",
   "metadata": {},
   "outputs": [],
   "source": [
    "sc_X = MinMaxScaler()\n",
    "normalized = sc_X.fit_transform(data)"
   ]
  },
  {
   "cell_type": "markdown",
   "id": "cb17a1aa",
   "metadata": {},
   "source": [
    "# Pairing cell indices those belong to same cluster"
   ]
  },
  {
   "cell_type": "code",
   "execution_count": 25,
   "id": "83ee8003",
   "metadata": {},
   "outputs": [],
   "source": [
    "true_pairs = []\n",
    "for cluster in cluster_to_cell_indices_copy:\n",
    "    for i in range(len(cluster)):\n",
    "        for j in range(i + 1, len(cluster)):\n",
    "            true_pairs.append((cluster[i], cluster[j]))\n",
    "            "
   ]
  },
  {
   "cell_type": "code",
   "execution_count": 26,
   "id": "ab071c07",
   "metadata": {},
   "outputs": [
    {
     "data": {
      "text/plain": [
       "2199950"
      ]
     },
     "execution_count": 26,
     "metadata": {},
     "output_type": "execute_result"
    }
   ],
   "source": [
    "len(true_pairs)"
   ]
  },
  {
   "cell_type": "markdown",
   "id": "381ce9f0",
   "metadata": {},
   "source": [
    "# Random Pairng cells belonging different clusters or lone-cell"
   ]
  },
  {
   "cell_type": "code",
   "execution_count": 27,
   "id": "b10e8b91",
   "metadata": {},
   "outputs": [],
   "source": [
    "false_pairs = []\n",
    "for i in range(len(cluster_to_cell_indices_copy)):\n",
    "    i_list = cluster_to_cell_indices[i]\n",
    "    rand_idx = random.randrange(len(i_list))\n",
    "    random_inum = i_list[rand_idx]\n",
    "    for j in range(i + 1, len(cluster_to_cell_indices_copy)):\n",
    "        j_list = cluster_to_cell_indices_copy[j]\n",
    "        rand_jdx = random.randrange(len(j_list))\n",
    "        random_jnum = j_list[rand_jdx]\n",
    "        if random_jnum != random_inum:\n",
    "            false_pairs.append((random_inum,random_jnum))"
   ]
  },
  {
   "cell_type": "code",
   "execution_count": 28,
   "id": "1fd1dd3c",
   "metadata": {},
   "outputs": [
    {
     "data": {
      "text/plain": [
       "286145"
      ]
     },
     "execution_count": 28,
     "metadata": {},
     "output_type": "execute_result"
    }
   ],
   "source": [
    "len(false_pairs)"
   ]
  },
  {
   "cell_type": "code",
   "execution_count": 29,
   "id": "aae1b596",
   "metadata": {},
   "outputs": [],
   "source": [
    "loneCells_index = [i for i in range(len(cell_truth)) if cell_truth[i] == 0]"
   ]
  },
  {
   "cell_type": "code",
   "execution_count": 30,
   "id": "05bb80b5",
   "metadata": {},
   "outputs": [
    {
     "data": {
      "text/plain": [
       "163888"
      ]
     },
     "execution_count": 30,
     "metadata": {},
     "output_type": "execute_result"
    }
   ],
   "source": [
    "loneCells_index.index(186986)"
   ]
  },
  {
   "cell_type": "code",
   "execution_count": 31,
   "id": "b13c46fc",
   "metadata": {},
   "outputs": [
    {
     "data": {
      "text/plain": [
       "164189"
      ]
     },
     "execution_count": 31,
     "metadata": {},
     "output_type": "execute_result"
    }
   ],
   "source": [
    "loneCells_index.index(187352)"
   ]
  },
  {
   "cell_type": "code",
   "execution_count": 32,
   "id": "6dfca88e",
   "metadata": {},
   "outputs": [],
   "source": [
    "for i in range(len(loneCells_index)):\n",
    "    if i == 163888 or i == 164189:\n",
    "        continue\n",
    "    rand_clusterjdx = random.randrange(len(cluster_to_cell_indices_copy))\n",
    "    j_list = cluster_to_cell_indices_copy[rand_clusterjdx]\n",
    "    rand_jdx = random.randrange(len(j_list))\n",
    "    random_jnum = j_list[rand_jdx]\n",
    "    false_pairs.append((loneCells_index[i],random_jnum))"
   ]
  },
  {
   "cell_type": "code",
   "execution_count": 33,
   "id": "88ce98b2",
   "metadata": {},
   "outputs": [
    {
     "data": {
      "text/plain": [
       "450580"
      ]
     },
     "execution_count": 33,
     "metadata": {},
     "output_type": "execute_result"
    }
   ],
   "source": [
    "len(false_pairs)"
   ]
  },
  {
   "cell_type": "code",
   "execution_count": 66,
   "id": "a26e66e8",
   "metadata": {},
   "outputs": [],
   "source": [
    "nonParticipatingCell = [i for i in range(len(cell_truth)) if cell_truth[i]==0]"
   ]
  },
  {
   "cell_type": "code",
   "execution_count": 67,
   "id": "f37db0a0",
   "metadata": {},
   "outputs": [],
   "source": [
    "with h5py.File('./nonParticipatingCell.hdf5', 'w') as f: \n",
    "    dset = f.create_dataset(\"nonParticipatingCell\", data = nonParticipatingCell)"
   ]
  },
  {
   "cell_type": "code",
   "execution_count": 35,
   "id": "cb2c1c81",
   "metadata": {},
   "outputs": [],
   "source": [
    "# creating pair and no pair indices file\n",
    "with h5py.File('./true_pair_index_ev1.hdf5', 'w') as f: \n",
    "    dset = f.create_dataset(\"true_pair\", data = true_pairs)\n",
    "\n",
    "with h5py.File('./false_pair_index_ev1.hdf5', 'w') as f: \n",
    "    dset = f.create_dataset(\"false_pair\", data = false_pairs)\n",
    "    \n",
    "with h5py.File('./cellFeatures_ev1.hdf5', 'w') as f: \n",
    "    dset = f.create_dataset(\"cellFeatures\", data = data)\n",
    "    \n",
    "with h5py.File('./sharedCellsIndices.hdf5', 'w') as f: \n",
    "    dset = f.create_dataset(\"sharedCellsIndices\", data = sharedCells)\n"
   ]
  }
 ],
 "metadata": {
  "kernelspec": {
   "display_name": "my_env",
   "language": "python",
   "name": "my_env"
  },
  "language_info": {
   "codemirror_mode": {
    "name": "ipython",
    "version": 3
   },
   "file_extension": ".py",
   "mimetype": "text/x-python",
   "name": "python",
   "nbconvert_exporter": "python",
   "pygments_lexer": "ipython3",
   "version": "3.8.6"
  }
 },
 "nbformat": 4,
 "nbformat_minor": 5
}
