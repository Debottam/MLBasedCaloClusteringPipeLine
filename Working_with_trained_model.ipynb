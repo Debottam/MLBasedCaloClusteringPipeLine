{
 "cells": [
  {
   "cell_type": "code",
   "execution_count": 1,
   "id": "73ee3f66",
   "metadata": {},
   "outputs": [],
   "source": [
    "import uproot\n",
    "import numpy as np\n",
    "import networkx as nx\n",
    "import matplotlib.pyplot as plt\n",
    "from scipy.spatial.distance import cdist\n",
    "from sklearn.model_selection import cross_val_score, cross_val_predict, train_test_split\n",
    "from collections import namedtuple, defaultdict\n",
    "import open3d as o3d\n",
    "import random\n",
    "random.seed(42)\n",
    "import h5py\n",
    "import torch\n",
    "import torch.nn as nn\n",
    "import torch.optim as optim\n",
    "from torch.utils.data import DataLoader, Dataset\n",
    "from torchvision import transforms\n",
    "from sklearn.preprocessing import StandardScaler, MinMaxScaler"
   ]
  },
  {
   "cell_type": "code",
   "execution_count": 2,
   "id": "8591a7a0",
   "metadata": {},
   "outputs": [],
   "source": [
    "class SiameseNetwork(nn.Module):\n",
    "    def __init__(self, input_size):\n",
    "        super(SiameseNetwork, self).__init__()\n",
    "\n",
    "        # Define the architecture for one branch of the Siamese network\n",
    "        self.branch = nn.Sequential(\n",
    "            nn.Linear(input_size, 128),\n",
    "            #nn.BatchNorm1d(128),\n",
    "            nn.ReLU(inplace=True),\n",
    "            nn.Linear(128, 128),\n",
    "            #nn.BatchNorm1d(128),\n",
    "            nn.ReLU(inplace=True),\n",
    "            nn.Linear(128, 128),\n",
    "            #nn.BatchNorm1d(128),\n",
    "            nn.ReLU(inplace=True),\n",
    "            nn.Linear(128, 64),\n",
    "            #nn.BatchNorm1d(64),\n",
    "            nn.ReLU(inplace=True),\n",
    "            nn.Linear(64, 32),\n",
    "            #nn.BatchNorm1d(32),\n",
    "            nn.ReLU(inplace=True),\n",
    "            nn.Linear(32, 16),\n",
    "        )\n",
    "\n",
    "    def forward_one(self, x):\n",
    "        # Forward pass for one branch of the Siamese network\n",
    "        return self.branch(x)\n",
    "\n",
    "    def forward(self, input1, input2):\n",
    "        # Forward pass for both branches of the Siamese network\n",
    "        output1 = self.forward_one(input1)\n",
    "        output2 = self.forward_one(input2)\n",
    "        return output1, output2"
   ]
  },
  {
   "cell_type": "code",
   "execution_count": 3,
   "id": "3e9f3152",
   "metadata": {},
   "outputs": [],
   "source": [
    "input_size = 7\n",
    "path = \"/Users/bakshiguptad/ML/MLBasedCaloClusteringPipeLine/siamese_net.pth\"\n",
    "model = SiameseNetwork(input_size)\n",
    "#model.load(torch.load(path))\n",
    "model = torch.load(path)"
   ]
  },
  {
   "cell_type": "code",
   "execution_count": 4,
   "id": "af9d6d9e",
   "metadata": {},
   "outputs": [
    {
     "name": "stdout",
     "output_type": "stream",
     "text": [
      "SiameseNetwork(\n",
      "  (branch): Sequential(\n",
      "    (0): Linear(in_features=6, out_features=128, bias=True)\n",
      "    (1): ReLU(inplace=True)\n",
      "    (2): Linear(in_features=128, out_features=128, bias=True)\n",
      "    (3): ReLU(inplace=True)\n",
      "    (4): Linear(in_features=128, out_features=128, bias=True)\n",
      "    (5): ReLU(inplace=True)\n",
      "    (6): Linear(in_features=128, out_features=64, bias=True)\n",
      "    (7): ReLU(inplace=True)\n",
      "    (8): Linear(in_features=64, out_features=32, bias=True)\n",
      "    (9): ReLU(inplace=True)\n",
      "    (10): Linear(in_features=32, out_features=16, bias=True)\n",
      "  )\n",
      ")\n"
     ]
    }
   ],
   "source": [
    "print(model)"
   ]
  },
  {
   "cell_type": "code",
   "execution_count": 11,
   "id": "7f287a82",
   "metadata": {},
   "outputs": [
    {
     "ename": "TypeError",
     "evalue": "forward_one() missing 1 required positional argument: 'x'",
     "output_type": "error",
     "traceback": [
      "\u001b[0;31m---------------------------------------------------------------------------\u001b[0m",
      "\u001b[0;31mTypeError\u001b[0m                                 Traceback (most recent call last)",
      "Input \u001b[0;32mIn [11]\u001b[0m, in \u001b[0;36m<cell line: 1>\u001b[0;34m()\u001b[0m\n\u001b[0;32m----> 1\u001b[0m \u001b[43mmodel\u001b[49m\u001b[38;5;241;43m.\u001b[39;49m\u001b[43mforward_one\u001b[49m\u001b[43m(\u001b[49m\u001b[43m)\u001b[49m\n",
      "\u001b[0;31mTypeError\u001b[0m: forward_one() missing 1 required positional argument: 'x'"
     ]
    }
   ],
   "source": [
    "model.forward_one()"
   ]
  },
  {
   "cell_type": "markdown",
   "id": "9933b105",
   "metadata": {},
   "source": [
    "## Loading Cell data"
   ]
  },
  {
   "cell_type": "code",
   "execution_count": 5,
   "id": "db37120d",
   "metadata": {},
   "outputs": [],
   "source": [
    "hf_cellFeaturesScaled = h5py.File(\"./cellFeaturesScaled.hdf5\", 'r')\n",
    "hf_test_index_list = h5py.File(\"./test_index_list.hdf5\", 'r')\n",
    "hf_test_pair = h5py.File(\"./test_pair.hdf5\", 'r')\n",
    "hf_test_truth = h5py.File(\"./test_truth.hdf5\", 'r')\n",
    "#hf_pair_ev1 = h5py.File(\"./pair_index_ev1.hdf5\", 'r')\n",
    "#hf_nopair_ev1 = h5py.File(\"./nopair_index_ev1.hdf5\", 'r')\n",
    "#hf_cellFeaturesScaled_ev1 = h5py.File(\"./cellFeaturesScaled_ev1.hdf5\", 'r')"
   ]
  },
  {
   "cell_type": "code",
   "execution_count": 6,
   "id": "8737c4b4",
   "metadata": {},
   "outputs": [],
   "source": [
    "cellFeaturesScaled= hf_cellFeaturesScaled.get('cellFeaturesScaled')[:]\n",
    "#cellFeaturesScaled_ev1= hf_cellFeaturesScaled.get('cellFeaturesScaled')[:]\n",
    "test_index_list = hf_test_index_list.get('test_index_list')[:]\n",
    "test_pair = hf_test_pair.get('test_pair')[:]\n",
    "test_truth = hf_test_truth.get('test_truth_label')[:]\n",
    "#pair_ev1 = hf_pair_ev1.get(\"pair\")[:]\n",
    "#nopair_ev1 = hf_nopair_ev1.get(\"nopair\")[:]"
   ]
  },
  {
   "cell_type": "code",
   "execution_count": 7,
   "id": "f3fe5a50",
   "metadata": {},
   "outputs": [],
   "source": [
    "test_cellFeaturesScaled = cellFeaturesScaled[test_index_list]"
   ]
  },
  {
   "cell_type": "code",
   "execution_count": 8,
   "id": "94ce82a8",
   "metadata": {},
   "outputs": [
    {
     "data": {
      "text/plain": [
       "(187652, 6)"
      ]
     },
     "execution_count": 8,
     "metadata": {},
     "output_type": "execute_result"
    }
   ],
   "source": [
    "cellFeaturesScaled.shape"
   ]
  },
  {
   "cell_type": "code",
   "execution_count": 12,
   "id": "fbced909",
   "metadata": {},
   "outputs": [
    {
     "data": {
      "text/plain": [
       "71763"
      ]
     },
     "execution_count": 12,
     "metadata": {},
     "output_type": "execute_result"
    }
   ],
   "source": [
    "len(test_cellFeaturesScaled)"
   ]
  },
  {
   "cell_type": "code",
   "execution_count": 17,
   "id": "9574d25c",
   "metadata": {},
   "outputs": [],
   "source": [
    "# Convert data to PyTorch tensors\n",
    "testData = [torch.Tensor(data) for data in test_cellFeaturesScaled]"
   ]
  },
  {
   "cell_type": "code",
   "execution_count": 18,
   "id": "52610dd0",
   "metadata": {},
   "outputs": [],
   "source": [
    "testDataloader = DataLoader(testData, batch_size=71763, shuffle=False)"
   ]
  },
  {
   "cell_type": "code",
   "execution_count": 19,
   "id": "739a4530",
   "metadata": {},
   "outputs": [
    {
     "data": {
      "text/plain": [
       "<torch.utils.data.dataloader.DataLoader at 0x155949f70>"
      ]
     },
     "execution_count": 19,
     "metadata": {},
     "output_type": "execute_result"
    }
   ],
   "source": [
    "testDataloader"
   ]
  },
  {
   "cell_type": "code",
   "execution_count": 20,
   "id": "4f4d5da6",
   "metadata": {},
   "outputs": [],
   "source": [
    "#testData"
   ]
  },
  {
   "cell_type": "code",
   "execution_count": 21,
   "id": "a186f0c7",
   "metadata": {},
   "outputs": [
    {
     "ename": "ValueError",
     "evalue": "too many values to unpack (expected 2)",
     "output_type": "error",
     "traceback": [
      "\u001b[0;31m---------------------------------------------------------------------------\u001b[0m",
      "\u001b[0;31mValueError\u001b[0m                                Traceback (most recent call last)",
      "Input \u001b[0;32mIn [21]\u001b[0m, in \u001b[0;36m<cell line: 1>\u001b[0;34m()\u001b[0m\n\u001b[1;32m      1\u001b[0m \u001b[38;5;28;01mfor\u001b[39;00m batch \u001b[38;5;129;01min\u001b[39;00m testDataloader:\n\u001b[0;32m----> 2\u001b[0m         inputs, target \u001b[38;5;241m=\u001b[39m batch\n\u001b[1;32m      3\u001b[0m         input1, input2 \u001b[38;5;241m=\u001b[39m inputs\n\u001b[1;32m      5\u001b[0m         \u001b[38;5;66;03m# Forward pass\u001b[39;00m\n",
      "\u001b[0;31mValueError\u001b[0m: too many values to unpack (expected 2)"
     ]
    }
   ],
   "source": [
    "for batch in testDataloader:\n",
    "        inputs, target = batch\n",
    "        input1, input2 = inputs\n",
    "\n",
    "        # Forward pass\n",
    "        output1, output2 = model(input1, input2)\n",
    "        distances = torch.pairwise_distance(output1, output2)\n",
    "        dist.append(distances)\n",
    "        label.append(target)"
   ]
  },
  {
   "cell_type": "code",
   "execution_count": 22,
   "id": "3ad63554",
   "metadata": {},
   "outputs": [],
   "source": [
    "for batch in testDataloader:\n",
    "    testOutput = model.forward_one(batch)"
   ]
  },
  {
   "cell_type": "code",
   "execution_count": 23,
   "id": "6aa2b775",
   "metadata": {},
   "outputs": [
    {
     "data": {
      "text/plain": [
       "71763"
      ]
     },
     "execution_count": 23,
     "metadata": {},
     "output_type": "execute_result"
    }
   ],
   "source": [
    "len(testOutput)"
   ]
  },
  {
   "cell_type": "code",
   "execution_count": 24,
   "id": "7f9a08a0",
   "metadata": {},
   "outputs": [],
   "source": [
    "featuresIn16D = testOutput.detach().numpy()"
   ]
  },
  {
   "cell_type": "code",
   "execution_count": 25,
   "id": "4079541c",
   "metadata": {},
   "outputs": [
    {
     "data": {
      "text/plain": [
       "(71763, 16)"
      ]
     },
     "execution_count": 25,
     "metadata": {},
     "output_type": "execute_result"
    }
   ],
   "source": [
    "featuresIn16D.shape"
   ]
  },
  {
   "cell_type": "code",
   "execution_count": 69,
   "id": "212d31b4",
   "metadata": {},
   "outputs": [
    {
     "data": {
      "text/plain": [
       "206"
      ]
     },
     "execution_count": 69,
     "metadata": {},
     "output_type": "execute_result"
    }
   ],
   "source": [
    "len(trial_indices)"
   ]
  },
  {
   "cell_type": "code",
   "execution_count": 17,
   "id": "de569879",
   "metadata": {},
   "outputs": [],
   "source": [
    "featuresIn16D_60k = featuresIn16D[:60000]"
   ]
  },
  {
   "cell_type": "code",
   "execution_count": 70,
   "id": "cfa80a69",
   "metadata": {},
   "outputs": [],
   "source": [
    "featuresIn16D_trial = featuresIn16D[trial_indices]"
   ]
  },
  {
   "cell_type": "code",
   "execution_count": 316,
   "id": "7fadffb0",
   "metadata": {},
   "outputs": [],
   "source": [
    "from sklearn import metrics\n",
    "from sklearn.cluster import DBSCAN\n",
    "from sklearn.model_selection import GridSearchCV\n",
    "\n",
    "\n",
    "db = DBSCAN(eps=0.01, min_samples=8).fit(featuresIn16D)"
   ]
  },
  {
   "cell_type": "code",
   "execution_count": 317,
   "id": "5846fe23",
   "metadata": {},
   "outputs": [],
   "source": [
    "labels = db.labels_"
   ]
  },
  {
   "cell_type": "code",
   "execution_count": 318,
   "id": "b677605c",
   "metadata": {},
   "outputs": [
    {
     "data": {
      "text/plain": [
       "71763"
      ]
     },
     "execution_count": 318,
     "metadata": {},
     "output_type": "execute_result"
    }
   ],
   "source": [
    "len(labels)"
   ]
  },
  {
   "cell_type": "code",
   "execution_count": 319,
   "id": "84c62d9a",
   "metadata": {},
   "outputs": [],
   "source": [
    "# Number of clusters in labels, ignoring noise if present.\n",
    "n_clusters_ = len(set(labels)) - (1 if -1 in labels else 0)\n",
    "n_noise_ = list(labels).count(-1)"
   ]
  },
  {
   "cell_type": "code",
   "execution_count": 320,
   "id": "032bccf3",
   "metadata": {},
   "outputs": [
    {
     "data": {
      "text/plain": [
       "277"
      ]
     },
     "execution_count": 320,
     "metadata": {},
     "output_type": "execute_result"
    }
   ],
   "source": [
    "n_clusters_"
   ]
  },
  {
   "cell_type": "code",
   "execution_count": 321,
   "id": "962cb25a",
   "metadata": {},
   "outputs": [
    {
     "data": {
      "text/plain": [
       "36205"
      ]
     },
     "execution_count": 321,
     "metadata": {},
     "output_type": "execute_result"
    }
   ],
   "source": [
    "n_noise_"
   ]
  },
  {
   "cell_type": "code",
   "execution_count": 322,
   "id": "0128a804",
   "metadata": {},
   "outputs": [],
   "source": [
    "labelSet = set(labels)"
   ]
  },
  {
   "cell_type": "code",
   "execution_count": 323,
   "id": "c3fdd602",
   "metadata": {},
   "outputs": [
    {
     "data": {
      "text/plain": [
       "-1"
      ]
     },
     "execution_count": 323,
     "metadata": {},
     "output_type": "execute_result"
    }
   ],
   "source": [
    "min(labelSet)"
   ]
  },
  {
   "cell_type": "code",
   "execution_count": 324,
   "id": "599e606a",
   "metadata": {},
   "outputs": [
    {
     "data": {
      "text/plain": [
       "276"
      ]
     },
     "execution_count": 324,
     "metadata": {},
     "output_type": "execute_result"
    }
   ],
   "source": [
    "max(labelSet)"
   ]
  },
  {
   "cell_type": "code",
   "execution_count": 325,
   "id": "ab886df1",
   "metadata": {},
   "outputs": [],
   "source": [
    "labelList = list(labelSet)"
   ]
  },
  {
   "cell_type": "code",
   "execution_count": 326,
   "id": "981117c1",
   "metadata": {},
   "outputs": [
    {
     "data": {
      "text/plain": [
       "278"
      ]
     },
     "execution_count": 326,
     "metadata": {},
     "output_type": "execute_result"
    }
   ],
   "source": [
    "len(labelList)"
   ]
  },
  {
   "cell_type": "code",
   "execution_count": 327,
   "id": "0826e60d",
   "metadata": {},
   "outputs": [
    {
     "data": {
      "text/plain": [
       "-1"
      ]
     },
     "execution_count": 327,
     "metadata": {},
     "output_type": "execute_result"
    }
   ],
   "source": [
    "labelList.pop(277)"
   ]
  },
  {
   "cell_type": "code",
   "execution_count": 328,
   "id": "0e6faf48",
   "metadata": {},
   "outputs": [],
   "source": [
    "badLabels = [i for i in range(len(labels)) if labels[i]==-1]"
   ]
  },
  {
   "cell_type": "code",
   "execution_count": 329,
   "id": "47cd1c39",
   "metadata": {},
   "outputs": [],
   "source": [
    "test_index_list_bad = test_index_list[badLabels]"
   ]
  },
  {
   "cell_type": "code",
   "execution_count": 332,
   "id": "0603edbb",
   "metadata": {},
   "outputs": [],
   "source": [
    "clusters = []\n",
    "for item in labelList:\n",
    "    cellIndices = [i for i in range(len(labels)) if labels[i] == item]\n",
    "    clusters.append(cellIndices)"
   ]
  },
  {
   "cell_type": "code",
   "execution_count": 333,
   "id": "fa8d8619",
   "metadata": {},
   "outputs": [
    {
     "data": {
      "text/plain": [
       "277"
      ]
     },
     "execution_count": 333,
     "metadata": {},
     "output_type": "execute_result"
    }
   ],
   "source": [
    "len(clusters)"
   ]
  },
  {
   "cell_type": "code",
   "execution_count": 336,
   "id": "b5f0a660",
   "metadata": {},
   "outputs": [
    {
     "data": {
      "text/plain": [
       "1128"
      ]
     },
     "execution_count": 336,
     "metadata": {},
     "output_type": "execute_result"
    }
   ],
   "source": [
    "len(clusters[2])"
   ]
  },
  {
   "cell_type": "code",
   "execution_count": 199,
   "id": "e9fef7c6",
   "metadata": {},
   "outputs": [
    {
     "data": {
      "text/plain": [
       "(71763,)"
      ]
     },
     "execution_count": 199,
     "metadata": {},
     "output_type": "execute_result"
    }
   ],
   "source": [
    "test_index_list.shape"
   ]
  },
  {
   "cell_type": "code",
   "execution_count": 337,
   "id": "c7c05d24",
   "metadata": {},
   "outputs": [],
   "source": [
    "clustersCell_indices = []\n",
    "\n",
    "for item in clusters:\n",
    "    clustersCell_indices.append(test_index_list[item])\n"
   ]
  },
  {
   "cell_type": "code",
   "execution_count": 62,
   "id": "38f83667",
   "metadata": {},
   "outputs": [
    {
     "data": {
      "text/plain": [
       "38"
      ]
     },
     "execution_count": 62,
     "metadata": {},
     "output_type": "execute_result"
    }
   ],
   "source": [
    "len(clustersCell_indices[2])"
   ]
  },
  {
   "cell_type": "code",
   "execution_count": 530,
   "id": "ef82f9a5",
   "metadata": {},
   "outputs": [],
   "source": [
    "bad_cell = clustersCell_indices[0]"
   ]
  },
  {
   "cell_type": "code",
   "execution_count": 37,
   "id": "bf8251cd",
   "metadata": {},
   "outputs": [],
   "source": [
    "bad_cell_ev1 = clusters[0]"
   ]
  },
  {
   "cell_type": "code",
   "execution_count": 41,
   "id": "ff4603a9",
   "metadata": {},
   "outputs": [
    {
     "data": {
      "text/plain": [
       "50674"
      ]
     },
     "execution_count": 41,
     "metadata": {},
     "output_type": "execute_result"
    }
   ],
   "source": [
    "len(bad_cell_ev1)"
   ]
  },
  {
   "cell_type": "code",
   "execution_count": 204,
   "id": "eee88aa2",
   "metadata": {},
   "outputs": [],
   "source": [
    "hf_nonParticipatingCell = h5py.File(\"./nonParticipatingCell.hdf5\", 'r')\n",
    "nonParticipatingCell = hf_nonParticipatingCell.get('nonParticipatingCell')[:]"
   ]
  },
  {
   "cell_type": "code",
   "execution_count": 205,
   "id": "a3955bc1",
   "metadata": {},
   "outputs": [],
   "source": [
    "hf_nonParticipatingCell.close()"
   ]
  },
  {
   "cell_type": "code",
   "execution_count": 40,
   "id": "775c2284",
   "metadata": {},
   "outputs": [
    {
     "data": {
      "text/plain": [
       "164437"
      ]
     },
     "execution_count": 40,
     "metadata": {},
     "output_type": "execute_result"
    }
   ],
   "source": [
    "len(nonParticipatingCell)"
   ]
  },
  {
   "cell_type": "code",
   "execution_count": 330,
   "id": "1a5312a6",
   "metadata": {},
   "outputs": [],
   "source": [
    "sum_cell =0 \n",
    "for cell in test_index_list_bad:\n",
    "    if cell in nonParticipatingCell:\n",
    "        sum_cell = sum_cell+1"
   ]
  },
  {
   "cell_type": "code",
   "execution_count": 331,
   "id": "c2cd8480",
   "metadata": {},
   "outputs": [
    {
     "data": {
      "text/plain": [
       "27643"
      ]
     },
     "execution_count": 331,
     "metadata": {},
     "output_type": "execute_result"
    }
   ],
   "source": [
    "sum_cell"
   ]
  },
  {
   "cell_type": "code",
   "execution_count": 536,
   "id": "0f906cf2",
   "metadata": {},
   "outputs": [
    {
     "data": {
      "text/plain": [
       "422"
      ]
     },
     "execution_count": 536,
     "metadata": {},
     "output_type": "execute_result"
    }
   ],
   "source": [
    "len(clustersCell_indices)"
   ]
  },
  {
   "cell_type": "code",
   "execution_count": 44,
   "id": "1d9ea0ff",
   "metadata": {},
   "outputs": [],
   "source": [
    "good_clusters = clusters[1:]"
   ]
  },
  {
   "cell_type": "code",
   "execution_count": 45,
   "id": "7cfdf8b0",
   "metadata": {},
   "outputs": [
    {
     "data": {
      "text/plain": [
       "293"
      ]
     },
     "execution_count": 45,
     "metadata": {},
     "output_type": "execute_result"
    }
   ],
   "source": [
    "len(good_clusters)"
   ]
  },
  {
   "cell_type": "code",
   "execution_count": 338,
   "id": "a05871c6",
   "metadata": {},
   "outputs": [],
   "source": [
    "predictedPairs = []\n",
    "for cluster in clusters:\n",
    "    for i in range(len(cluster)):\n",
    "        for j in range(i + 1, len(cluster)):\n",
    "            predictedPairs.append((cluster[i], cluster[j]))"
   ]
  },
  {
   "cell_type": "code",
   "execution_count": 339,
   "id": "9db9861d",
   "metadata": {},
   "outputs": [
    {
     "data": {
      "text/plain": [
       "13533081"
      ]
     },
     "execution_count": 339,
     "metadata": {},
     "output_type": "execute_result"
    }
   ],
   "source": [
    "len(predictedPairs)"
   ]
  },
  {
   "cell_type": "code",
   "execution_count": 340,
   "id": "72900b15",
   "metadata": {},
   "outputs": [
    {
     "data": {
      "text/plain": [
       "300000"
      ]
     },
     "execution_count": 340,
     "metadata": {},
     "output_type": "execute_result"
    }
   ],
   "source": [
    "len(test_pair)"
   ]
  },
  {
   "cell_type": "code",
   "execution_count": 264,
   "id": "1fd3b129",
   "metadata": {},
   "outputs": [],
   "source": [
    "#predictedPairs"
   ]
  },
  {
   "cell_type": "code",
   "execution_count": 50,
   "id": "51e13841",
   "metadata": {},
   "outputs": [
    {
     "data": {
      "text/plain": [
       "<HDF5 dataset \"pair\": shape (2199950, 2), type \"<i4\">"
      ]
     },
     "execution_count": 50,
     "metadata": {},
     "output_type": "execute_result"
    }
   ],
   "source": [
    "pair_ev1"
   ]
  },
  {
   "cell_type": "code",
   "execution_count": 540,
   "id": "242e02c7",
   "metadata": {},
   "outputs": [],
   "source": [
    "truePair_indices = [i for i in range(len(test_truth)) if test_truth[i] == 1]"
   ]
  },
  {
   "cell_type": "code",
   "execution_count": 541,
   "id": "4e1adec5",
   "metadata": {},
   "outputs": [],
   "source": [
    "truePair = test_pair[truePair_indices]"
   ]
  },
  {
   "cell_type": "code",
   "execution_count": 542,
   "id": "e2349f26",
   "metadata": {},
   "outputs": [
    {
     "data": {
      "text/plain": [
       "149641"
      ]
     },
     "execution_count": 542,
     "metadata": {},
     "output_type": "execute_result"
    }
   ],
   "source": [
    "len(truePair)"
   ]
  },
  {
   "cell_type": "code",
   "execution_count": 543,
   "id": "46bfb448",
   "metadata": {},
   "outputs": [
    {
     "data": {
      "text/plain": [
       "100043"
      ]
     },
     "execution_count": 543,
     "metadata": {},
     "output_type": "execute_result"
    }
   ],
   "source": [
    "len(predictedPairs)"
   ]
  },
  {
   "cell_type": "code",
   "execution_count": 53,
   "id": "db95be8a",
   "metadata": {},
   "outputs": [
    {
     "data": {
      "text/plain": [
       "2199950"
      ]
     },
     "execution_count": 53,
     "metadata": {},
     "output_type": "execute_result"
    }
   ],
   "source": [
    "len(pair_ev1)"
   ]
  },
  {
   "cell_type": "code",
   "execution_count": 62,
   "id": "f77f7901",
   "metadata": {},
   "outputs": [],
   "source": [
    "pair_ev1_1 = pair_ev1[:219995]\n",
    "pair_ev1_2 = pair_ev1[219995:2*219995]\n",
    "pair_ev1_3 = pair_ev1[2*219995:3*219995]\n",
    "pair_ev1_4 = pair_ev1[3*219995:4*219995]\n",
    "pair_ev1_5 = pair_ev1[4*219995:5*219995]"
   ]
  },
  {
   "cell_type": "code",
   "execution_count": 58,
   "id": "6708180d",
   "metadata": {},
   "outputs": [],
   "source": [
    "predictedTruth = 0\n",
    "badPair = []\n",
    "for pair in predictedPairs:\n",
    "    if pair in pair_ev1_1:\n",
    "        predictedTruth = predictedTruth+1\n",
    "    else:\n",
    "        badPair.append(pair)"
   ]
  },
  {
   "cell_type": "code",
   "execution_count": 64,
   "id": "caef4b98",
   "metadata": {},
   "outputs": [
    {
     "data": {
      "text/plain": [
       "55668"
      ]
     },
     "execution_count": 64,
     "metadata": {},
     "output_type": "execute_result"
    }
   ],
   "source": [
    "predictedTruth"
   ]
  },
  {
   "cell_type": "code",
   "execution_count": 341,
   "id": "d7c3e80a",
   "metadata": {},
   "outputs": [
    {
     "ename": "KeyboardInterrupt",
     "evalue": "",
     "output_type": "error",
     "traceback": [
      "\u001b[0;31m---------------------------------------------------------------------------\u001b[0m",
      "\u001b[0;31mKeyboardInterrupt\u001b[0m                         Traceback (most recent call last)",
      "Input \u001b[0;32mIn [341]\u001b[0m, in \u001b[0;36m<cell line: 2>\u001b[0;34m()\u001b[0m\n\u001b[1;32m      1\u001b[0m predictedTruth \u001b[38;5;241m=\u001b[39m \u001b[38;5;241m0\u001b[39m\n\u001b[1;32m      2\u001b[0m \u001b[38;5;28;01mfor\u001b[39;00m pair \u001b[38;5;129;01min\u001b[39;00m predictedPairs:\n\u001b[0;32m----> 3\u001b[0m     \u001b[38;5;28;01mif\u001b[39;00m \u001b[43mpair\u001b[49m\u001b[43m \u001b[49m\u001b[38;5;129;43;01min\u001b[39;49;00m\u001b[43m \u001b[49m\u001b[43mtest_pair\u001b[49m:\n\u001b[1;32m      4\u001b[0m         predictedTruth \u001b[38;5;241m=\u001b[39m predictedTruth\u001b[38;5;241m+\u001b[39m\u001b[38;5;241m1\u001b[39m\n",
      "\u001b[0;31mKeyboardInterrupt\u001b[0m: "
     ]
    }
   ],
   "source": [
    "predictedTruth = 0\n",
    "for pair in predictedPairs:\n",
    "    if pair in test_pair:\n",
    "        predictedTruth = predictedTruth+1"
   ]
  },
  {
   "cell_type": "code",
   "execution_count": 546,
   "id": "541b7de2",
   "metadata": {},
   "outputs": [],
   "source": [
    "#badPair"
   ]
  },
  {
   "cell_type": "code",
   "execution_count": 547,
   "id": "56e4cd46",
   "metadata": {},
   "outputs": [],
   "source": [
    "hf_sharedCellsIndices = h5py.File(\"./sharedCellsIndices.hdf5\", 'r')\n",
    "sharedCells = hf_sharedCellsIndices.get('sharedCellsIndices')[:]\n",
    "hf_sharedCellsIndices.close()"
   ]
  },
  {
   "cell_type": "code",
   "execution_count": 548,
   "id": "b12fc5c1",
   "metadata": {},
   "outputs": [
    {
     "data": {
      "text/plain": [
       "15902"
      ]
     },
     "execution_count": 548,
     "metadata": {},
     "output_type": "execute_result"
    }
   ],
   "source": [
    "len(badPair)"
   ]
  },
  {
   "cell_type": "code",
   "execution_count": 549,
   "id": "4b0e1de6",
   "metadata": {},
   "outputs": [],
   "source": [
    "sharedPair = []\n",
    "for pair in badPair:\n",
    "    if pair[0] in sharedCells or pair[1] in sharedCells:\n",
    "        sharedPair.append(pair)"
   ]
  },
  {
   "cell_type": "code",
   "execution_count": 550,
   "id": "b77c26e5",
   "metadata": {},
   "outputs": [
    {
     "data": {
      "text/plain": [
       "228"
      ]
     },
     "execution_count": 550,
     "metadata": {},
     "output_type": "execute_result"
    }
   ],
   "source": [
    "len(sharedPair)"
   ]
  },
  {
   "cell_type": "code",
   "execution_count": null,
   "id": "39751428",
   "metadata": {},
   "outputs": [],
   "source": []
  }
 ],
 "metadata": {
  "kernelspec": {
   "display_name": "my_env",
   "language": "python",
   "name": "my_env"
  },
  "language_info": {
   "codemirror_mode": {
    "name": "ipython",
    "version": 3
   },
   "file_extension": ".py",
   "mimetype": "text/x-python",
   "name": "python",
   "nbconvert_exporter": "python",
   "pygments_lexer": "ipython3",
   "version": "3.8.6"
  }
 },
 "nbformat": 4,
 "nbformat_minor": 5
}
