{
 "cells": [
  {
   "cell_type": "code",
   "execution_count": 1,
   "id": "9210fe68",
   "metadata": {},
   "outputs": [],
   "source": [
    "import uproot\n",
    "import numpy as np\n",
    "import networkx as nx\n",
    "import matplotlib.pyplot as plt\n",
    "from scipy.spatial.distance import cdist\n",
    "from sklearn.model_selection import cross_val_score, cross_val_predict, train_test_split\n",
    "from collections import namedtuple, defaultdict\n",
    "import open3d as o3d\n",
    "import random\n",
    "random.seed(42)\n",
    "import h5py\n",
    "import torch\n",
    "import torch.nn as nn\n",
    "import torch.optim as optim\n",
    "from torch.utils.data import DataLoader, Dataset\n",
    "from torch_geometric.data import Data\n",
    "from torch_geometric.nn import GCNConv\n",
    "from torch_geometric.utils import add_self_loops\n",
    "from torch_geometric.transforms import ToUndirected\n",
    "from torchvision import transforms\n",
    "from sklearn.preprocessing import StandardScaler, MinMaxScaler\n",
    "import joblib"
   ]
  },
  {
   "cell_type": "code",
   "execution_count": 2,
   "id": "38c0aff2",
   "metadata": {},
   "outputs": [],
   "source": [
    "hf_cellFeaturesScaled_neighbor= h5py.File(\"./cellFeaturesScaled_neighbor.hdf5\", 'r')\n",
    "hf_train_edge_source_BD = h5py.File(\"./train_edge_source_BD.hdf5\", 'r')\n",
    "hf_test_edge_source_BD = h5py.File(\"./test_edge_source_BD.hdf5\", 'r')\n",
    "hf_train_edge_dest_BD = h5py.File(\"./train_edge_dest_BD.hdf5\", 'r')\n",
    "hf_test_edge_dest_BD = h5py.File(\"./test_edge_dest_BD.hdf5\", 'r')\n",
    "hf_train_edge_source_noBD = h5py.File(\"./train_edge_source_noBD.hdf5\", 'r')\n",
    "hf_test_edge_source_noBD = h5py.File(\"./test_edge_source_noBD.hdf5\", 'r')\n",
    "hf_train_edge_dest_noBD = h5py.File(\"./train_edge_dest_noBD.hdf5\", 'r')\n",
    "hf_test_edge_dest_noBD = h5py.File(\"./test_edge_dest_noBD.hdf5\", 'r')\n",
    "hf_truth_label_train_neighbor= h5py.File(\"./truth_label_train_neighbor.hdf5\", 'r')\n",
    "hf_truth_label_test_neighbor= h5py.File(\"./truth_label_test_neighbor.hdf5\", 'r')"
   ]
  },
  {
   "cell_type": "code",
   "execution_count": 3,
   "id": "493afa29",
   "metadata": {},
   "outputs": [],
   "source": [
    "cellFeaturesScaled = hf_cellFeaturesScaled_neighbor.get(\"cellFeaturesScaled\")[:]\n",
    "train_edge_source_BD = hf_train_edge_source_BD.get(\"train_edge_source_BD\")[:]\n",
    "test_edge_source_BD = hf_test_edge_source_BD.get(\"test_edge_source_BD\")[:]\n",
    "train_edge_dest_BD = hf_train_edge_dest_BD.get(\"train_edge_dest_BD\")[:]\n",
    "test_edge_dest_BD = hf_test_edge_dest_BD.get(\"test_edge_dest_BD\")[:]\n",
    "train_edge_source_noBD = hf_train_edge_source_noBD.get(\"train_edge_source_noBD\")[:]\n",
    "test_edge_source_noBD = hf_test_edge_source_noBD.get(\"test_edge_source_noBD\")[:]\n",
    "train_edge_dest_noBD = hf_train_edge_dest_noBD.get(\"train_edge_dest_noBD\")[:]\n",
    "test_edge_dest_noBD = hf_test_edge_dest_noBD.get(\"test_edge_dest_noBD\")[:]\n",
    "truth_label_train = hf_truth_label_train_neighbor.get(\"truth_label_train\")[:]\n",
    "truth_label_test = hf_truth_label_test_neighbor.get(\"truth_label_test\")[:]"
   ]
  },
  {
   "cell_type": "code",
   "execution_count": 4,
   "id": "e06cba73",
   "metadata": {},
   "outputs": [],
   "source": [
    "hf_cellFeaturesScaled_neighbor.close()\n",
    "hf_train_edge_source_BD.close()\n",
    "hf_test_edge_source_BD.close()\n",
    "hf_train_edge_dest_BD.close()\n",
    "hf_test_edge_dest_BD.close()\n",
    "hf_train_edge_source_noBD.close()\n",
    "hf_test_edge_source_noBD.close()\n",
    "hf_train_edge_dest_noBD.close()\n",
    "hf_test_edge_dest_noBD.close()\n",
    "hf_truth_label_train_neighbor.close()\n",
    "hf_truth_label_test_neighbor.close()"
   ]
  },
  {
   "cell_type": "code",
   "execution_count": 5,
   "id": "85fc1d7c",
   "metadata": {},
   "outputs": [],
   "source": [
    "x = torch.tensor(cellFeaturesScaled, dtype=torch.float)"
   ]
  },
  {
   "cell_type": "code",
   "execution_count": 6,
   "id": "eb6ebe83",
   "metadata": {},
   "outputs": [
    {
     "data": {
      "text/plain": [
       "torch.Size([187652, 8])"
      ]
     },
     "execution_count": 6,
     "metadata": {},
     "output_type": "execute_result"
    }
   ],
   "source": [
    "x.shape"
   ]
  },
  {
   "cell_type": "code",
   "execution_count": 7,
   "id": "066d56d9",
   "metadata": {},
   "outputs": [
    {
     "name": "stderr",
     "output_type": "stream",
     "text": [
      "/var/folders/k8/cklb1sxj1p35mft4gbkymsc091k_dc/T/ipykernel_44040/3333317026.py:1: UserWarning: Creating a tensor from a list of numpy.ndarrays is extremely slow. Please consider converting the list to a single numpy.ndarray with numpy.array() before converting to a tensor. (Triggered internally at /Users/runner/work/pytorch/pytorch/pytorch/torch/csrc/utils/tensor_new.cpp:264.)\n",
      "  edge_index = torch.tensor([train_edge_source_BD, train_edge_dest_BD], dtype=torch.long)\n"
     ]
    }
   ],
   "source": [
    "edge_index = torch.tensor([train_edge_source_BD, train_edge_dest_BD], dtype=torch.long)"
   ]
  },
  {
   "cell_type": "code",
   "execution_count": 8,
   "id": "78761a14",
   "metadata": {},
   "outputs": [
    {
     "data": {
      "text/plain": [
       "torch.Size([2, 700000])"
      ]
     },
     "execution_count": 8,
     "metadata": {},
     "output_type": "execute_result"
    }
   ],
   "source": [
    "edge_index.shape"
   ]
  },
  {
   "cell_type": "code",
   "execution_count": 9,
   "id": "ebc7400e",
   "metadata": {},
   "outputs": [],
   "source": [
    "edge_index_out = torch.tensor([train_edge_source_noBD, train_edge_dest_noBD], dtype=torch.long)"
   ]
  },
  {
   "cell_type": "code",
   "execution_count": 10,
   "id": "e031179d",
   "metadata": {},
   "outputs": [],
   "source": [
    "truth_label_train = np.expand_dims(truth_label_train, axis=1)"
   ]
  },
  {
   "cell_type": "code",
   "execution_count": 11,
   "id": "b3740e08",
   "metadata": {},
   "outputs": [
    {
     "data": {
      "text/plain": [
       "(350000, 1)"
      ]
     },
     "execution_count": 11,
     "metadata": {},
     "output_type": "execute_result"
    }
   ],
   "source": [
    "truth_label_train.shape"
   ]
  },
  {
   "cell_type": "code",
   "execution_count": 12,
   "id": "66454347",
   "metadata": {},
   "outputs": [],
   "source": [
    "y_train = torch.tensor(truth_label_train, dtype=torch.float)"
   ]
  },
  {
   "cell_type": "code",
   "execution_count": 13,
   "id": "8112ee62",
   "metadata": {},
   "outputs": [],
   "source": [
    "y_test = torch.tensor(truth_label_test, dtype=torch.float)"
   ]
  },
  {
   "cell_type": "code",
   "execution_count": 14,
   "id": "c04658ef",
   "metadata": {},
   "outputs": [
    {
     "data": {
      "text/plain": [
       "torch.Size([350000, 1])"
      ]
     },
     "execution_count": 14,
     "metadata": {},
     "output_type": "execute_result"
    }
   ],
   "source": [
    "y_train.shape"
   ]
  },
  {
   "cell_type": "code",
   "execution_count": null,
   "id": "e5d4321e",
   "metadata": {},
   "outputs": [],
   "source": []
  },
  {
   "cell_type": "code",
   "execution_count": 15,
   "id": "b4df7d19",
   "metadata": {},
   "outputs": [
    {
     "data": {
      "text/plain": [
       "torch.Size([150000])"
      ]
     },
     "execution_count": 15,
     "metadata": {},
     "output_type": "execute_result"
    }
   ],
   "source": [
    "y_test.shape"
   ]
  },
  {
   "cell_type": "code",
   "execution_count": 16,
   "id": "cf9dcf73",
   "metadata": {},
   "outputs": [],
   "source": [
    "# Ensure that bidirectional edges are treated correctly\n",
    "edge_index, _ = add_self_loops(edge_index)\n",
    "\n",
    "# Create a PyTorch Geometric Data object\n",
    "data = Data(x=x, edge_index=edge_index, y=y_train)\n",
    "data = ToUndirected()(data)"
   ]
  },
  {
   "cell_type": "code",
   "execution_count": 17,
   "id": "204b1c42",
   "metadata": {},
   "outputs": [
    {
     "data": {
      "text/plain": [
       "torch.Size([2, 887638])"
      ]
     },
     "execution_count": 17,
     "metadata": {},
     "output_type": "execute_result"
    }
   ],
   "source": [
    "data.edge_index.shape"
   ]
  },
  {
   "cell_type": "code",
   "execution_count": 18,
   "id": "4846a2bb",
   "metadata": {},
   "outputs": [
    {
     "data": {
      "text/plain": [
       "torch.Size([350000, 1])"
      ]
     },
     "execution_count": 18,
     "metadata": {},
     "output_type": "execute_result"
    }
   ],
   "source": [
    "data.y.shape"
   ]
  },
  {
   "cell_type": "code",
   "execution_count": 19,
   "id": "7f9dcb0b",
   "metadata": {},
   "outputs": [
    {
     "data": {
      "text/plain": [
       "8"
      ]
     },
     "execution_count": 19,
     "metadata": {},
     "output_type": "execute_result"
    }
   ],
   "source": [
    "x.size(1)"
   ]
  },
  {
   "cell_type": "code",
   "execution_count": 62,
   "id": "a9bcb4bd",
   "metadata": {},
   "outputs": [],
   "source": [
    "# Define the GNN model for edge classification\n",
    "class EdgeClassifier(nn.Module):\n",
    "    def __init__(self, input_dim, hidden_dim, output_dim):\n",
    "        super(EdgeClassifier, self).__init__()\n",
    "\n",
    "        # Node embedding layer\n",
    "        self.node_embedding = nn.Linear(input_dim, hidden_dim)\n",
    "\n",
    "        # Graph convolutional layers\n",
    "        self.conv1 = GCNConv(hidden_dim, 128)\n",
    "        self.conv2 = GCNConv(128, 64)\n",
    "    \n",
    "        # Edge classification layer\n",
    "        self.fc = nn.Linear(128 , output_dim)\n",
    "\n",
    "    def forward(self, x, edge_index, edge_index_out):\n",
    "        edge_index = edge_index\n",
    "        x = self.node_embedding(x)\n",
    "        x = self.conv1(x, edge_index)\n",
    "        x = torch.relu(x)\n",
    "        x = self.conv2(x, edge_index)\n",
    "        x = torch.relu(x)\n",
    "\n",
    "        # Edge representations\n",
    "        edge_index_to_compare = edge_index_out\n",
    "        edge_rep = torch.cat([x[edge_index_to_compare[0]], x[edge_index_to_compare[1]]], dim=1)\n",
    "\n",
    "        # Edge classification\n",
    "        edge_scores = torch.sigmoid(self.fc(edge_rep))\n",
    "\n",
    "        return edge_scores"
   ]
  },
  {
   "cell_type": "code",
   "execution_count": 63,
   "id": "aacde116",
   "metadata": {},
   "outputs": [],
   "source": [
    "# Instantiate the model\n",
    "input_dim = x.size(1)\n",
    "hidden_dim = 256\n",
    "output_dim = 1  # Binary classification (citing or not citing)\n",
    "model = EdgeClassifier(input_dim, hidden_dim, output_dim)\n",
    "\n",
    "# Define the loss function and optimizer\n",
    "criterion = nn.BCELoss()\n",
    "optimizer = optim.Adam(model.parameters(), lr=0.01)\n"
   ]
  },
  {
   "cell_type": "code",
   "execution_count": 64,
   "id": "e50b89b3",
   "metadata": {},
   "outputs": [
    {
     "name": "stdout",
     "output_type": "stream",
     "text": [
      "Epoch 0/400, Loss: 0.7112224698066711\n",
      "Epoch 10/400, Loss: 0.5646250247955322\n",
      "Epoch 20/400, Loss: 0.5162728428840637\n",
      "Epoch 30/400, Loss: 0.4904589354991913\n",
      "Epoch 40/400, Loss: 0.46999093890190125\n",
      "Epoch 50/400, Loss: 0.4456574618816376\n",
      "Epoch 60/400, Loss: 0.5389180183410645\n",
      "Epoch 70/400, Loss: 0.4798724949359894\n",
      "Epoch 80/400, Loss: 0.43912482261657715\n",
      "Epoch 90/400, Loss: 0.40814340114593506\n",
      "Epoch 100/400, Loss: 0.4917142987251282\n",
      "Epoch 110/400, Loss: 0.45872893929481506\n",
      "Epoch 120/400, Loss: 0.4338459074497223\n",
      "Epoch 130/400, Loss: 0.41201186180114746\n",
      "Epoch 140/400, Loss: 0.39236724376678467\n",
      "Epoch 150/400, Loss: 0.37373021245002747\n",
      "Epoch 160/400, Loss: 0.35776326060295105\n",
      "Epoch 170/400, Loss: 0.38945308327674866\n",
      "Epoch 180/400, Loss: 0.3478461802005768\n",
      "Epoch 190/400, Loss: 0.33631277084350586\n",
      "Epoch 200/400, Loss: 0.3288777768611908\n",
      "Epoch 210/400, Loss: 0.3259153962135315\n",
      "Epoch 220/400, Loss: 0.32553762197494507\n",
      "Epoch 230/400, Loss: 0.33378687500953674\n",
      "Epoch 240/400, Loss: 0.3435247540473938\n",
      "Epoch 250/400, Loss: 0.3380585014820099\n",
      "Epoch 260/400, Loss: 0.3193974196910858\n",
      "Epoch 270/400, Loss: 0.31499919295310974\n",
      "Epoch 280/400, Loss: 0.3085218369960785\n",
      "Epoch 290/400, Loss: 0.303947776556015\n",
      "Epoch 300/400, Loss: 0.3016934096813202\n",
      "Epoch 310/400, Loss: 0.29958465695381165\n",
      "Epoch 320/400, Loss: 0.30519309639930725\n",
      "Epoch 330/400, Loss: 0.3007640838623047\n",
      "Epoch 340/400, Loss: 0.30234864354133606\n",
      "Epoch 350/400, Loss: 0.3108088970184326\n",
      "Epoch 360/400, Loss: 0.36739128828048706\n",
      "Epoch 370/400, Loss: 0.3813137412071228\n",
      "Epoch 380/400, Loss: 0.34221673011779785\n",
      "Epoch 390/400, Loss: 0.319801390171051\n"
     ]
    }
   ],
   "source": [
    "# Training the model\n",
    "num_epochs = 400\n",
    "Loss =[]\n",
    "for epoch in range(num_epochs):\n",
    "    optimizer.zero_grad()\n",
    "    edge_scores = model(data.x, data.edge_index, edge_index_out)\n",
    "    loss = criterion(edge_scores, data.y)\n",
    "    loss.backward()\n",
    "    optimizer.step()\n",
    "\n",
    "    if epoch % 10 == 0:\n",
    "        Loss.append(loss.item())\n",
    "        print(f'Epoch {epoch}/{num_epochs}, Loss: {loss.item()}')\n"
   ]
  },
  {
   "cell_type": "code",
   "execution_count": 78,
   "id": "65754d7b",
   "metadata": {},
   "outputs": [
    {
     "data": {
      "image/png": "[encoded data removed]",
      "text/plain": [
       "<Figure size 432x288 with 1 Axes>"
      ]
     },
     "metadata": {
      "needs_background": "light"
     },
     "output_type": "display_data"
    }
   ],
   "source": [
    "plt.plot(Loss)\n",
    "plt.show()"
   ]
  },
  {
   "cell_type": "code",
   "execution_count": 79,
   "id": "a3d61d48",
   "metadata": {},
   "outputs": [],
   "source": [
    "edge_index_test = torch.tensor([test_edge_source_BD, test_edge_dest_BD], dtype=torch.long)\n",
    "edge_index_test_out = torch.tensor([test_edge_source_noBD, test_edge_dest_noBD], dtype=torch.long)"
   ]
  },
  {
   "cell_type": "code",
   "execution_count": 80,
   "id": "d874f0af",
   "metadata": {},
   "outputs": [],
   "source": [
    "# Ensure that bidirectional edges are treated correctly\n",
    "edge_index_test_loop, _ = add_self_loops(edge_index_test)"
   ]
  },
  {
   "cell_type": "code",
   "execution_count": 81,
   "id": "bb52c3d4",
   "metadata": {},
   "outputs": [],
   "source": [
    "# Evaluate the model on the test set\n",
    "with torch.no_grad():\n",
    "    model.eval()\n",
    "    test_edge_scores = model(data.x, edge_index_test_loop, edge_index_test_out)"
   ]
  },
  {
   "cell_type": "code",
   "execution_count": 82,
   "id": "75f99270",
   "metadata": {},
   "outputs": [
    {
     "data": {
      "text/plain": [
       "tensor([0.2016])"
      ]
     },
     "execution_count": 82,
     "metadata": {},
     "output_type": "execute_result"
    }
   ],
   "source": [
    "test_edge_scores[0]"
   ]
  },
  {
   "cell_type": "code",
   "execution_count": 83,
   "id": "9519d640",
   "metadata": {},
   "outputs": [],
   "source": [
    "test_edge_scores_np = test_edge_scores.detach().numpy()"
   ]
  },
  {
   "cell_type": "code",
   "execution_count": 84,
   "id": "c9e07a36",
   "metadata": {},
   "outputs": [
    {
     "data": {
      "text/plain": [
       "array([[0.20155497],\n",
       "       [0.9935802 ],\n",
       "       [1.        ],\n",
       "       ...,\n",
       "       [0.00575134],\n",
       "       [0.12666175],\n",
       "       [1.        ]], dtype=float32)"
      ]
     },
     "execution_count": 84,
     "metadata": {},
     "output_type": "execute_result"
    }
   ],
   "source": [
    "test_edge_scores_np"
   ]
  },
  {
   "cell_type": "code",
   "execution_count": 85,
   "id": "d921cf18",
   "metadata": {},
   "outputs": [],
   "source": [
    "trueEdges= test_edge_scores_np[np.where(truth_label_test==1)]\n",
    "falseEdges = test_edge_scores_np[np.where(truth_label_test==0)]"
   ]
  },
  {
   "cell_type": "code",
   "execution_count": 86,
   "id": "7499b934",
   "metadata": {},
   "outputs": [
    {
     "data": {
      "image/png": "[encoded data removed]",
      "text/plain": [
       "<Figure size 432x288 with 1 Axes>"
      ]
     },
     "metadata": {
      "needs_background": "light"
     },
     "output_type": "display_data"
    }
   ],
   "source": [
    "_=plt.hist(trueEdges,bins=100, histtype='step', label='signal')\n",
    "                           \n",
    "_=plt.hist(falseEdges,bins=100, histtype='step', color= 'red', label='background')\n",
    "\n",
    "_=plt.yscale('log')\n",
    "\n",
    "_=plt.legend(loc='upper center')"
   ]
  },
  {
   "cell_type": "code",
   "execution_count": 87,
   "id": "96efbdb7",
   "metadata": {},
   "outputs": [],
   "source": [
    "from sklearn.metrics import roc_curve, auc"
   ]
  },
  {
   "cell_type": "code",
   "execution_count": 88,
   "id": "8867466e",
   "metadata": {},
   "outputs": [
    {
     "data": {
      "image/png": "[encoded data removed]",
      "text/plain": [
       "<Figure size 432x288 with 1 Axes>"
      ]
     },
     "metadata": {
      "needs_background": "light"
     },
     "output_type": "display_data"
    }
   ],
   "source": [
    "fpr, tpr, thresholds = roc_curve(truth_label_test,test_edge_scores_np)\n",
    "plt.figure()\n",
    "plt.plot(fpr, tpr)\n",
    "#plt.plot(tpr, 1/fpr)\n",
    "#plt.xlim([0.75, 1])\n",
    "#plt.ylim([1, 10000])\n",
    "plt.ylabel('tpr')\n",
    "plt.xlabel('fpr')\n",
    "plt.title('Receiver operating characteristic')\n",
    "plt.yscale('log')\n",
    "plt.show()"
   ]
  },
  {
   "cell_type": "code",
   "execution_count": 89,
   "id": "ed0442f1",
   "metadata": {},
   "outputs": [
    {
     "data": {
      "text/plain": [
       "0.9076443920355171"
      ]
     },
     "execution_count": 89,
     "metadata": {},
     "output_type": "execute_result"
    }
   ],
   "source": [
    "auc(fpr, tpr)"
   ]
  },
  {
   "cell_type": "code",
   "execution_count": 77,
   "id": "ebd5d226",
   "metadata": {},
   "outputs": [],
   "source": [
    "path = \"/Users/bakshiguptad/ML/MLBasedCaloClusteringPipeLine/GNNCalo_net.pth\"\n",
    "torch.save(model, path)"
   ]
  }
 ],
 "metadata": {
  "kernelspec": {
   "display_name": "my_env",
   "language": "python",
   "name": "my_env"
  },
  "language_info": {
   "codemirror_mode": {
    "name": "ipython",
    "version": 3
   },
   "file_extension": ".py",
   "mimetype": "text/x-python",
   "name": "python",
   "nbconvert_exporter": "python",
   "pygments_lexer": "ipython3",
   "version": "3.8.6"
  }
 },
 "nbformat": 4,
 "nbformat_minor": 5
}
