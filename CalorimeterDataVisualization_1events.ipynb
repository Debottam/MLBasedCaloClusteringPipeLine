{
 "cells": [
  {
   "cell_type": "markdown",
   "id": "679e6c0b",
   "metadata": {},
   "source": [
    "# Data Visualization single event (using full scan activities)\n"
   ]
  },
  {
   "cell_type": "code",
   "execution_count": 1,
   "id": "55d34e4a",
   "metadata": {},
   "outputs": [],
   "source": [
    "import uproot\n",
    "import numpy as np\n",
    "import networkx as nx\n",
    "import matplotlib.pyplot as plt\n",
    "from scipy.spatial.distance import cdist\n",
    "from sklearn.model_selection import cross_val_score, cross_val_predict, train_test_split\n",
    "from collections import namedtuple, defaultdict\n",
    "import open3d as o3d\n",
    "import random\n",
    "import h5py\n",
    "import torch\n",
    "import torch.nn as nn\n",
    "import torch.optim as optim\n",
    "from torch.utils.data import DataLoader, Dataset\n",
    "from torchvision import transforms\n",
    "from sklearn.preprocessing import StandardScaler, MinMaxScaler\n",
    "import awkward as ak"
   ]
  },
  {
   "cell_type": "code",
   "execution_count": 2,
   "id": "25e5d2cb",
   "metadata": {},
   "outputs": [
    {
     "data": {
      "text/plain": [
       "'5.0.9'"
      ]
     },
     "execution_count": 2,
     "metadata": {},
     "output_type": "execute_result"
    }
   ],
   "source": [
    "uproot.__version__"
   ]
  },
  {
   "cell_type": "code",
   "execution_count": 3,
   "id": "9d838e46",
   "metadata": {},
   "outputs": [
    {
     "name": "stdout",
     "output_type": "stream",
     "text": [
      "CaloGNN.png                          Untitled.ipynb\r\n",
      "GNNKeras.ipynb                       ZacClub.ipynb\r\n",
      "LLP_for_Calo.ipynb                   debottam@237.93.105.92\r\n",
      "LLP_time-Copy1.ipynb                 fixed_length.py\r\n",
      "LLP_time.ipynb                       input.txt\r\n",
      "LLP_time_1.ipynb                     karate.edgelist\r\n",
      "\u001b[34mMLBasedCaloClustering\u001b[m\u001b[m                mlp-0000.params\r\n",
      "\u001b[34mMLBasedCaloClusteringPipeLine\u001b[m\u001b[m        mlp-symbol.json\r\n",
      "ML_01.ipynb                          mxHybrid.ipynb\r\n",
      "\u001b[34mML_Cell_data\u001b[m\u001b[m                         mxnet_exported_mlp.onnx\r\n",
      "ML_for_Calo.ipynb                    \u001b[34mmy_env\u001b[m\u001b[m\r\n",
      "ML_for_Calo_students.ipynb           \u001b[34msaved_model\u001b[m\u001b[m\r\n",
      "MyxAODAnalysis_300evnts.outputs.root trackML.ipynb\r\n",
      "MyxAODAnalysis_withNB.outputs.root\r\n"
     ]
    }
   ],
   "source": [
    "!ls .."
   ]
  },
  {
   "cell_type": "code",
   "execution_count": 4,
   "id": "58bf9e0b",
   "metadata": {},
   "outputs": [],
   "source": [
    "file = uproot.open(\"../MyxAODAnalysis_withNB.outputs.root\")"
   ]
  },
  {
   "cell_type": "code",
   "execution_count": 5,
   "id": "107255ef",
   "metadata": {},
   "outputs": [
    {
     "data": {
      "text/plain": [
       "['analysis;1']"
      ]
     },
     "execution_count": 5,
     "metadata": {},
     "output_type": "execute_result"
    }
   ],
   "source": [
    "file.keys()"
   ]
  },
  {
   "cell_type": "code",
   "execution_count": 9,
   "id": "b0470332",
   "metadata": {},
   "outputs": [],
   "source": [
    "tree = file['analysis']"
   ]
  },
  {
   "cell_type": "code",
   "execution_count": 7,
   "id": "c627b62c",
   "metadata": {
    "scrolled": true
   },
   "outputs": [
    {
     "data": {
      "text/plain": [
       "['RunNumber',\n",
       " 'EventNumber',\n",
       " 'cell_eta',\n",
       " 'cell_phi',\n",
       " 'cell_x',\n",
       " 'cell_y',\n",
       " 'cell_z',\n",
       " 'cell_subCalo',\n",
       " 'cell_sampling',\n",
       " 'cell_size',\n",
       " 'cell_hashID',\n",
       " 'neighbor',\n",
       " 'seedCell_id',\n",
       " 'cell_e',\n",
       " 'cell_noiseSigma',\n",
       " 'cell_SNR',\n",
       " 'cell_time',\n",
       " 'cell_weight',\n",
       " 'cell_truth',\n",
       " 'cell_truth_indices',\n",
       " 'cell_shared_indices',\n",
       " 'cell_cluster_index',\n",
       " 'cluster_to_cell_indices',\n",
       " 'cluster_to_cell_weights',\n",
       " 'cell_to_cluster_e',\n",
       " 'cell_to_cluster_eta',\n",
       " 'cell_to_cluster_phi',\n",
       " 'cluster_eta',\n",
       " 'cluster_phi',\n",
       " 'cluster_e',\n",
       " 'cellsNo_cluster',\n",
       " 'clustersNo_event',\n",
       " 'jet_energyWtdTimeAve']"
      ]
     },
     "execution_count": 7,
     "metadata": {},
     "output_type": "execute_result"
    }
   ],
   "source": [
    "tree.keys() # no. of variables per event"
   ]
  },
  {
   "cell_type": "code",
   "execution_count": 10,
   "id": "c2c0d132",
   "metadata": {},
   "outputs": [],
   "source": [
    "branches = tree.arrays()"
   ]
  },
  {
   "cell_type": "code",
   "execution_count": 69,
   "id": "9161a74c",
   "metadata": {},
   "outputs": [
    {
     "data": {
      "text/plain": [
       "839"
      ]
     },
     "execution_count": 69,
     "metadata": {},
     "output_type": "execute_result"
    }
   ],
   "source": [
    "len(branches['seedCell_id'][0])"
   ]
  },
  {
   "cell_type": "code",
   "execution_count": 82,
   "id": "22cabc86",
   "metadata": {},
   "outputs": [
    {
     "data": {
      "text/html": [
       "<pre>[23637,\n",
       " 187059,\n",
       " 76271,\n",
       " 179458,\n",
       " 185660,\n",
       " 179677,\n",
       " 180633,\n",
       " 19689,\n",
       " 79732,\n",
       " 6810,\n",
       " ...,\n",
       " 181760,\n",
       " 120426,\n",
       " 43384,\n",
       " 73809,\n",
       " 73639,\n",
       " 125593,\n",
       " 177308,\n",
       " 107868,\n",
       " 14425]\n",
       "-----------------\n",
       "type: 839 * int32</pre>"
      ],
      "text/plain": [
       "<Array [23637, 187059, 76271, ..., 177308, 107868, 14425] type='839 * int32'>"
      ]
     },
     "execution_count": 82,
     "metadata": {},
     "output_type": "execute_result"
    }
   ],
   "source": [
    "branches['seedCell_id'][0]"
   ]
  },
  {
   "cell_type": "code",
   "execution_count": 154,
   "id": "bbd134e1",
   "metadata": {},
   "outputs": [],
   "source": [
    "first_cluster = branches['cluster_to_cell_indices'][0][0]"
   ]
  },
  {
   "cell_type": "code",
   "execution_count": 155,
   "id": "77162238",
   "metadata": {},
   "outputs": [],
   "source": [
    "fstn = branches['neighbor'][0][23637]"
   ]
  },
  {
   "cell_type": "code",
   "execution_count": 143,
   "id": "5365f8ef",
   "metadata": {},
   "outputs": [
    {
     "data": {
      "text/html": [
       "<pre>[185648,\n",
       " 185672,\n",
       " 185663,\n",
       " 187041,\n",
       " 187042,\n",
       " 185651,\n",
       " 187035,\n",
       " 187036,\n",
       " 185675,\n",
       " 187047,\n",
       " 187048,\n",
       " 185662,\n",
       " 185664,\n",
       " 185661]\n",
       "----------------\n",
       "type: 14 * int32</pre>"
      ],
      "text/plain": [
       "<Array [185648, 185672, 185663, ..., 185662, 185664, 185661] type='14 * int32'>"
      ]
     },
     "execution_count": 143,
     "metadata": {},
     "output_type": "execute_result"
    }
   ],
   "source": [
    "fstn"
   ]
  },
  {
   "cell_type": "code",
   "execution_count": 144,
   "id": "9c840309",
   "metadata": {},
   "outputs": [
    {
     "data": {
      "text/html": [
       "<pre>[3,\n",
       " 3,\n",
       " 3,\n",
       " 3,\n",
       " 3,\n",
       " 3,\n",
       " 3,\n",
       " 3,\n",
       " 3,\n",
       " 3,\n",
       " 3,\n",
       " 3,\n",
       " 3,\n",
       " 3]\n",
       "----------------\n",
       "type: 14 * int32</pre>"
      ],
      "text/plain": [
       "<Array [3, 3, 3, 3, 3, 3, 3, 3, 3, 3, 3, 3, 3, 3] type='14 * int32'>"
      ]
     },
     "execution_count": 144,
     "metadata": {},
     "output_type": "execute_result"
    }
   ],
   "source": [
    "branches['cell_subCalo'][0][fstn]"
   ]
  },
  {
   "cell_type": "code",
   "execution_count": 39,
   "id": "e5dcc872",
   "metadata": {},
   "outputs": [],
   "source": [
    "tile_indices = [i for i in range(len(branches['cell_subCalo'][0])) if branches['cell_subCalo'][0][i] == 3]"
   ]
  },
  {
   "cell_type": "code",
   "execution_count": 40,
   "id": "441d7f26",
   "metadata": {},
   "outputs": [
    {
     "data": {
      "text/plain": [
       "[182468,\n",
       " 182469,\n",
       " 182470,\n",
       " 182471,\n",
       " 182472,\n",
       " 182473,\n",
       " 182474,\n",
       " 182475,\n",
       " 182476,\n",
       " 182477,\n",
       " 182478,\n",
       " 182479,\n",
       " 182480,\n",
       " 182481,\n",
       " 182482,\n",
       " 182483,\n",
       " 182484,\n",
       " 182485,\n",
       " 182486,\n",
       " 182487,\n",
       " 182488,\n",
       " 182489,\n",
       " 182490,\n",
       " 182491,\n",
       " 182492,\n",
       " 182493,\n",
       " 182494,\n",
       " 182495,\n",
       " 182496,\n",
       " 182497,\n",
       " 182498,\n",
       " 182499,\n",
       " 182500,\n",
       " 182501,\n",
       " 182502,\n",
       " 182503,\n",
       " 182504,\n",
       " 182505,\n",
       " 182506,\n",
       " 182507,\n",
       " 182508,\n",
       " 182509,\n",
       " 182510,\n",
       " 182511,\n",
       " 182512,\n",
       " 182513,\n",
       " 182514,\n",
       " 182515,\n",
       " 182516,\n",
       " 182517,\n",
       " 182518,\n",
       " 182519,\n",
       " 182520,\n",
       " 182521,\n",
       " 182522,\n",
       " 182523,\n",
       " 182524,\n",
       " 182525,\n",
       " 182526,\n",
       " 182527,\n",
       " 182528,\n",
       " 182529,\n",
       " 182530,\n",
       " 182531,\n",
       " 182532,\n",
       " 182533,\n",
       " 182534,\n",
       " 182535,\n",
       " 182536,\n",
       " 182537,\n",
       " 182538,\n",
       " 182539,\n",
       " 182540,\n",
       " 182541,\n",
       " 182542,\n",
       " 182543,\n",
       " 182544,\n",
       " 182545,\n",
       " 182546,\n",
       " 182547,\n",
       " 182548,\n",
       " 182549,\n",
       " 182550,\n",
       " 182551,\n",
       " 182552,\n",
       " 182553,\n",
       " 182554,\n",
       " 182555,\n",
       " 182556,\n",
       " 182557,\n",
       " 182558,\n",
       " 182559,\n",
       " 182560,\n",
       " 182561,\n",
       " 182562,\n",
       " 182563,\n",
       " 182564,\n",
       " 182565,\n",
       " 182566,\n",
       " 182567,\n",
       " 182568,\n",
       " 182569,\n",
       " 182570,\n",
       " 182571,\n",
       " 182572,\n",
       " 182573,\n",
       " 182574,\n",
       " 182575,\n",
       " 182576,\n",
       " 182577,\n",
       " 182578,\n",
       " 182579,\n",
       " 182580,\n",
       " 182581,\n",
       " 182582,\n",
       " 182583,\n",
       " 182584,\n",
       " 182585,\n",
       " 182586,\n",
       " 182587,\n",
       " 182588,\n",
       " 182589,\n",
       " 182590,\n",
       " 182591,\n",
       " 182592,\n",
       " 182593,\n",
       " 182594,\n",
       " 182595,\n",
       " 182596,\n",
       " 182597,\n",
       " 182598,\n",
       " 182599,\n",
       " 182600,\n",
       " 182601,\n",
       " 182602,\n",
       " 182603,\n",
       " 182604,\n",
       " 182605,\n",
       " 182606,\n",
       " 182607,\n",
       " 182608,\n",
       " 182609,\n",
       " 182610,\n",
       " 182611,\n",
       " 182612,\n",
       " 182613,\n",
       " 182614,\n",
       " 182615,\n",
       " 182616,\n",
       " 182617,\n",
       " 182618,\n",
       " 182619,\n",
       " 182620,\n",
       " 182621,\n",
       " 182622,\n",
       " 182623,\n",
       " 182624,\n",
       " 182625,\n",
       " 182626,\n",
       " 182627,\n",
       " 182628,\n",
       " 182629,\n",
       " 182630,\n",
       " 182631,\n",
       " 182632,\n",
       " 182633,\n",
       " 182634,\n",
       " 182635,\n",
       " 182636,\n",
       " 182637,\n",
       " 182638,\n",
       " 182639,\n",
       " 182640,\n",
       " 182641,\n",
       " 182642,\n",
       " 182643,\n",
       " 182644,\n",
       " 182645,\n",
       " 182646,\n",
       " 182647,\n",
       " 182648,\n",
       " 182649,\n",
       " 182650,\n",
       " 182651,\n",
       " 182652,\n",
       " 182653,\n",
       " 182654,\n",
       " 182655,\n",
       " 182656,\n",
       " 182657,\n",
       " 182658,\n",
       " 182659,\n",
       " 182660,\n",
       " 182661,\n",
       " 182662,\n",
       " 182663,\n",
       " 182664,\n",
       " 182665,\n",
       " 182666,\n",
       " 182667,\n",
       " 182668,\n",
       " 182669,\n",
       " 182670,\n",
       " 182671,\n",
       " 182672,\n",
       " 182673,\n",
       " 182674,\n",
       " 182675,\n",
       " 182676,\n",
       " 182677,\n",
       " 182678,\n",
       " 182679,\n",
       " 182680,\n",
       " 182681,\n",
       " 182682,\n",
       " 182683,\n",
       " 182684,\n",
       " 182685,\n",
       " 182686,\n",
       " 182687,\n",
       " 182688,\n",
       " 182689,\n",
       " 182690,\n",
       " 182691,\n",
       " 182692,\n",
       " 182693,\n",
       " 182694,\n",
       " 182695,\n",
       " 182696,\n",
       " 182697,\n",
       " 182698,\n",
       " 182699,\n",
       " 182700,\n",
       " 182701,\n",
       " 182702,\n",
       " 182703,\n",
       " 182704,\n",
       " 182705,\n",
       " 182706,\n",
       " 182707,\n",
       " 182708,\n",
       " 182709,\n",
       " 182710,\n",
       " 182711,\n",
       " 182712,\n",
       " 182713,\n",
       " 182714,\n",
       " 182715,\n",
       " 182716,\n",
       " 182717,\n",
       " 182718,\n",
       " 182719,\n",
       " 182720,\n",
       " 182721,\n",
       " 182722,\n",
       " 182723,\n",
       " 182724,\n",
       " 182725,\n",
       " 182726,\n",
       " 182727,\n",
       " 182728,\n",
       " 182729,\n",
       " 182730,\n",
       " 182731,\n",
       " 182732,\n",
       " 182733,\n",
       " 182734,\n",
       " 182735,\n",
       " 182736,\n",
       " 182737,\n",
       " 182738,\n",
       " 182739,\n",
       " 182740,\n",
       " 182741,\n",
       " 182742,\n",
       " 182743,\n",
       " 182744,\n",
       " 182745,\n",
       " 182746,\n",
       " 182747,\n",
       " 182748,\n",
       " 182749,\n",
       " 182750,\n",
       " 182751,\n",
       " 182752,\n",
       " 182753,\n",
       " 182754,\n",
       " 182755,\n",
       " 182756,\n",
       " 182757,\n",
       " 182758,\n",
       " 182759,\n",
       " 182760,\n",
       " 182761,\n",
       " 182762,\n",
       " 182763,\n",
       " 182764,\n",
       " 182765,\n",
       " 182766,\n",
       " 182767,\n",
       " 182768,\n",
       " 182769,\n",
       " 182770,\n",
       " 182771,\n",
       " 182772,\n",
       " 182773,\n",
       " 182774,\n",
       " 182775,\n",
       " 182776,\n",
       " 182777,\n",
       " 182778,\n",
       " 182779,\n",
       " 182780,\n",
       " 182781,\n",
       " 182782,\n",
       " 182783,\n",
       " 182784,\n",
       " 182785,\n",
       " 182786,\n",
       " 182787,\n",
       " 182788,\n",
       " 182789,\n",
       " 182790,\n",
       " 182791,\n",
       " 182792,\n",
       " 182793,\n",
       " 182794,\n",
       " 182795,\n",
       " 182796,\n",
       " 182797,\n",
       " 182798,\n",
       " 182799,\n",
       " 182800,\n",
       " 182801,\n",
       " 182802,\n",
       " 182803,\n",
       " 182804,\n",
       " 182805,\n",
       " 182806,\n",
       " 182807,\n",
       " 182808,\n",
       " 182809,\n",
       " 182810,\n",
       " 182811,\n",
       " 182812,\n",
       " 182813,\n",
       " 182814,\n",
       " 182815,\n",
       " 182816,\n",
       " 182817,\n",
       " 182818,\n",
       " 182819,\n",
       " 182820,\n",
       " 182821,\n",
       " 182822,\n",
       " 182823,\n",
       " 182824,\n",
       " 182825,\n",
       " 182826,\n",
       " 182827,\n",
       " 182828,\n",
       " 182829,\n",
       " 182830,\n",
       " 182831,\n",
       " 182832,\n",
       " 182833,\n",
       " 182834,\n",
       " 182835,\n",
       " 182836,\n",
       " 182837,\n",
       " 182838,\n",
       " 182839,\n",
       " 182840,\n",
       " 182841,\n",
       " 182842,\n",
       " 182843,\n",
       " 182844,\n",
       " 182845,\n",
       " 182846,\n",
       " 182847,\n",
       " 182848,\n",
       " 182849,\n",
       " 182850,\n",
       " 182851,\n",
       " 182852,\n",
       " 182853,\n",
       " 182854,\n",
       " 182855,\n",
       " 182856,\n",
       " 182857,\n",
       " 182858,\n",
       " 182859,\n",
       " 182860,\n",
       " 182861,\n",
       " 182862,\n",
       " 182863,\n",
       " 182864,\n",
       " 182865,\n",
       " 182866,\n",
       " 182867,\n",
       " 182868,\n",
       " 182869,\n",
       " 182870,\n",
       " 182871,\n",
       " 182872,\n",
       " 182873,\n",
       " 182874,\n",
       " 182875,\n",
       " 182876,\n",
       " 182877,\n",
       " 182878,\n",
       " 182879,\n",
       " 182880,\n",
       " 182881,\n",
       " 182882,\n",
       " 182883,\n",
       " 182884,\n",
       " 182885,\n",
       " 182886,\n",
       " 182887,\n",
       " 182888,\n",
       " 182889,\n",
       " 182890,\n",
       " 182891,\n",
       " 182892,\n",
       " 182893,\n",
       " 182894,\n",
       " 182895,\n",
       " 182896,\n",
       " 182897,\n",
       " 182898,\n",
       " 182899,\n",
       " 182900,\n",
       " 182901,\n",
       " 182902,\n",
       " 182903,\n",
       " 182904,\n",
       " 182905,\n",
       " 182906,\n",
       " 182907,\n",
       " 182908,\n",
       " 182909,\n",
       " 182910,\n",
       " 182911,\n",
       " 182912,\n",
       " 182913,\n",
       " 182914,\n",
       " 182915,\n",
       " 182916,\n",
       " 182917,\n",
       " 182918,\n",
       " 182919,\n",
       " 182920,\n",
       " 182921,\n",
       " 182922,\n",
       " 182923,\n",
       " 182924,\n",
       " 182925,\n",
       " 182926,\n",
       " 182927,\n",
       " 182928,\n",
       " 182929,\n",
       " 182930,\n",
       " 182931,\n",
       " 182932,\n",
       " 182933,\n",
       " 182934,\n",
       " 182935,\n",
       " 182936,\n",
       " 182937,\n",
       " 182938,\n",
       " 182939,\n",
       " 182940,\n",
       " 182941,\n",
       " 182942,\n",
       " 182943,\n",
       " 182944,\n",
       " 182945,\n",
       " 182946,\n",
       " 182947,\n",
       " 182948,\n",
       " 182949,\n",
       " 182950,\n",
       " 182951,\n",
       " 182952,\n",
       " 182953,\n",
       " 182954,\n",
       " 182955,\n",
       " 182956,\n",
       " 182957,\n",
       " 182958,\n",
       " 182959,\n",
       " 182960,\n",
       " 182961,\n",
       " 182962,\n",
       " 182963,\n",
       " 182964,\n",
       " 182965,\n",
       " 182966,\n",
       " 182967,\n",
       " 182968,\n",
       " 182969,\n",
       " 182970,\n",
       " 182971,\n",
       " 182972,\n",
       " 182973,\n",
       " 182974,\n",
       " 182975,\n",
       " 182976,\n",
       " 182977,\n",
       " 182978,\n",
       " 182979,\n",
       " 182980,\n",
       " 182981,\n",
       " 182982,\n",
       " 182983,\n",
       " 182984,\n",
       " 182985,\n",
       " 182986,\n",
       " 182987,\n",
       " 182988,\n",
       " 182989,\n",
       " 182990,\n",
       " 182991,\n",
       " 182992,\n",
       " 182993,\n",
       " 182994,\n",
       " 182995,\n",
       " 182996,\n",
       " 182997,\n",
       " 182998,\n",
       " 182999,\n",
       " 183000,\n",
       " 183001,\n",
       " 183002,\n",
       " 183003,\n",
       " 183004,\n",
       " 183005,\n",
       " 183006,\n",
       " 183007,\n",
       " 183008,\n",
       " 183009,\n",
       " 183010,\n",
       " 183011,\n",
       " 183012,\n",
       " 183013,\n",
       " 183014,\n",
       " 183015,\n",
       " 183016,\n",
       " 183017,\n",
       " 183018,\n",
       " 183019,\n",
       " 183020,\n",
       " 183021,\n",
       " 183022,\n",
       " 183023,\n",
       " 183024,\n",
       " 183025,\n",
       " 183026,\n",
       " 183027,\n",
       " 183028,\n",
       " 183029,\n",
       " 183030,\n",
       " 183031,\n",
       " 183032,\n",
       " 183033,\n",
       " 183034,\n",
       " 183035,\n",
       " 183036,\n",
       " 183037,\n",
       " 183038,\n",
       " 183039,\n",
       " 183040,\n",
       " 183041,\n",
       " 183042,\n",
       " 183043,\n",
       " 183044,\n",
       " 183045,\n",
       " 183046,\n",
       " 183047,\n",
       " 183048,\n",
       " 183049,\n",
       " 183050,\n",
       " 183051,\n",
       " 183052,\n",
       " 183053,\n",
       " 183054,\n",
       " 183055,\n",
       " 183056,\n",
       " 183057,\n",
       " 183058,\n",
       " 183059,\n",
       " 183060,\n",
       " 183061,\n",
       " 183062,\n",
       " 183063,\n",
       " 183064,\n",
       " 183065,\n",
       " 183066,\n",
       " 183067,\n",
       " 183068,\n",
       " 183069,\n",
       " 183070,\n",
       " 183071,\n",
       " 183072,\n",
       " 183073,\n",
       " 183074,\n",
       " 183075,\n",
       " 183076,\n",
       " 183077,\n",
       " 183078,\n",
       " 183079,\n",
       " 183080,\n",
       " 183081,\n",
       " 183082,\n",
       " 183083,\n",
       " 183084,\n",
       " 183085,\n",
       " 183086,\n",
       " 183087,\n",
       " 183088,\n",
       " 183089,\n",
       " 183090,\n",
       " 183091,\n",
       " 183092,\n",
       " 183093,\n",
       " 183094,\n",
       " 183095,\n",
       " 183096,\n",
       " 183097,\n",
       " 183098,\n",
       " 183099,\n",
       " 183100,\n",
       " 183101,\n",
       " 183102,\n",
       " 183103,\n",
       " 183104,\n",
       " 183105,\n",
       " 183106,\n",
       " 183107,\n",
       " 183108,\n",
       " 183109,\n",
       " 183110,\n",
       " 183111,\n",
       " 183112,\n",
       " 183113,\n",
       " 183114,\n",
       " 183115,\n",
       " 183116,\n",
       " 183117,\n",
       " 183118,\n",
       " 183119,\n",
       " 183120,\n",
       " 183121,\n",
       " 183122,\n",
       " 183123,\n",
       " 183124,\n",
       " 183125,\n",
       " 183126,\n",
       " 183127,\n",
       " 183128,\n",
       " 183129,\n",
       " 183130,\n",
       " 183131,\n",
       " 183132,\n",
       " 183133,\n",
       " 183134,\n",
       " 183135,\n",
       " 183136,\n",
       " 183137,\n",
       " 183138,\n",
       " 183139,\n",
       " 183140,\n",
       " 183141,\n",
       " 183142,\n",
       " 183143,\n",
       " 183144,\n",
       " 183145,\n",
       " 183146,\n",
       " 183147,\n",
       " 183148,\n",
       " 183149,\n",
       " 183150,\n",
       " 183151,\n",
       " 183152,\n",
       " 183153,\n",
       " 183154,\n",
       " 183155,\n",
       " 183156,\n",
       " 183157,\n",
       " 183158,\n",
       " 183159,\n",
       " 183160,\n",
       " 183161,\n",
       " 183162,\n",
       " 183163,\n",
       " 183164,\n",
       " 183165,\n",
       " 183166,\n",
       " 183167,\n",
       " 183168,\n",
       " 183169,\n",
       " 183170,\n",
       " 183171,\n",
       " 183172,\n",
       " 183173,\n",
       " 183174,\n",
       " 183175,\n",
       " 183176,\n",
       " 183177,\n",
       " 183178,\n",
       " 183179,\n",
       " 183180,\n",
       " 183181,\n",
       " 183182,\n",
       " 183183,\n",
       " 183184,\n",
       " 183185,\n",
       " 183186,\n",
       " 183187,\n",
       " 183188,\n",
       " 183189,\n",
       " 183190,\n",
       " 183191,\n",
       " 183192,\n",
       " 183193,\n",
       " 183194,\n",
       " 183195,\n",
       " 183196,\n",
       " 183197,\n",
       " 183198,\n",
       " 183199,\n",
       " 183200,\n",
       " 183201,\n",
       " 183202,\n",
       " 183203,\n",
       " 183204,\n",
       " 183205,\n",
       " 183206,\n",
       " 183207,\n",
       " 183208,\n",
       " 183209,\n",
       " 183210,\n",
       " 183211,\n",
       " 183212,\n",
       " 183213,\n",
       " 183214,\n",
       " 183215,\n",
       " 183216,\n",
       " 183217,\n",
       " 183218,\n",
       " 183219,\n",
       " 183220,\n",
       " 183221,\n",
       " 183222,\n",
       " 183223,\n",
       " 183224,\n",
       " 183225,\n",
       " 183226,\n",
       " 183227,\n",
       " 183228,\n",
       " 183229,\n",
       " 183230,\n",
       " 183231,\n",
       " 183232,\n",
       " 183233,\n",
       " 183234,\n",
       " 183235,\n",
       " 183236,\n",
       " 183237,\n",
       " 183238,\n",
       " 183239,\n",
       " 183240,\n",
       " 183241,\n",
       " 183242,\n",
       " 183243,\n",
       " 183244,\n",
       " 183245,\n",
       " 183246,\n",
       " 183247,\n",
       " 183248,\n",
       " 183249,\n",
       " 183250,\n",
       " 183251,\n",
       " 183252,\n",
       " 183253,\n",
       " 183254,\n",
       " 183255,\n",
       " 183256,\n",
       " 183257,\n",
       " 183258,\n",
       " 183259,\n",
       " 183260,\n",
       " 183261,\n",
       " 183262,\n",
       " 183263,\n",
       " 183264,\n",
       " 183265,\n",
       " 183266,\n",
       " 183267,\n",
       " 183268,\n",
       " 183269,\n",
       " 183270,\n",
       " 183271,\n",
       " 183272,\n",
       " 183273,\n",
       " 183274,\n",
       " 183275,\n",
       " 183276,\n",
       " 183277,\n",
       " 183278,\n",
       " 183279,\n",
       " 183280,\n",
       " 183281,\n",
       " 183282,\n",
       " 183283,\n",
       " 183284,\n",
       " 183285,\n",
       " 183286,\n",
       " 183287,\n",
       " 183288,\n",
       " 183289,\n",
       " 183290,\n",
       " 183291,\n",
       " 183292,\n",
       " 183293,\n",
       " 183294,\n",
       " 183295,\n",
       " 183296,\n",
       " 183297,\n",
       " 183298,\n",
       " 183299,\n",
       " 183300,\n",
       " 183301,\n",
       " 183302,\n",
       " 183303,\n",
       " 183304,\n",
       " 183305,\n",
       " 183306,\n",
       " 183307,\n",
       " 183308,\n",
       " 183309,\n",
       " 183310,\n",
       " 183311,\n",
       " 183312,\n",
       " 183313,\n",
       " 183314,\n",
       " 183315,\n",
       " 183316,\n",
       " 183317,\n",
       " 183318,\n",
       " 183319,\n",
       " 183320,\n",
       " 183321,\n",
       " 183322,\n",
       " 183323,\n",
       " 183324,\n",
       " 183325,\n",
       " 183326,\n",
       " 183327,\n",
       " 183328,\n",
       " 183329,\n",
       " 183330,\n",
       " 183331,\n",
       " 183332,\n",
       " 183333,\n",
       " 183334,\n",
       " 183335,\n",
       " 183336,\n",
       " 183337,\n",
       " 183338,\n",
       " 183339,\n",
       " 183340,\n",
       " 183341,\n",
       " 183342,\n",
       " 183343,\n",
       " 183344,\n",
       " 183345,\n",
       " 183346,\n",
       " 183347,\n",
       " 183348,\n",
       " 183349,\n",
       " 183350,\n",
       " 183351,\n",
       " 183352,\n",
       " 183353,\n",
       " 183354,\n",
       " 183355,\n",
       " 183356,\n",
       " 183357,\n",
       " 183358,\n",
       " 183359,\n",
       " 183360,\n",
       " 183361,\n",
       " 183362,\n",
       " 183363,\n",
       " 183364,\n",
       " 183365,\n",
       " 183366,\n",
       " 183367,\n",
       " 183368,\n",
       " 183369,\n",
       " 183370,\n",
       " 183371,\n",
       " 183372,\n",
       " 183373,\n",
       " 183374,\n",
       " 183375,\n",
       " 183376,\n",
       " 183377,\n",
       " 183378,\n",
       " 183379,\n",
       " 183380,\n",
       " 183381,\n",
       " 183382,\n",
       " 183383,\n",
       " 183384,\n",
       " 183385,\n",
       " 183386,\n",
       " 183387,\n",
       " 183388,\n",
       " 183389,\n",
       " 183390,\n",
       " 183391,\n",
       " 183392,\n",
       " 183393,\n",
       " 183394,\n",
       " 183395,\n",
       " 183396,\n",
       " 183397,\n",
       " 183398,\n",
       " 183399,\n",
       " 183400,\n",
       " 183401,\n",
       " 183402,\n",
       " 183403,\n",
       " 183404,\n",
       " 183405,\n",
       " 183406,\n",
       " 183407,\n",
       " 183408,\n",
       " 183409,\n",
       " 183410,\n",
       " 183411,\n",
       " 183412,\n",
       " 183413,\n",
       " 183414,\n",
       " 183415,\n",
       " 183416,\n",
       " 183417,\n",
       " 183418,\n",
       " 183419,\n",
       " 183420,\n",
       " 183421,\n",
       " 183422,\n",
       " 183423,\n",
       " 183424,\n",
       " 183425,\n",
       " 183426,\n",
       " 183427,\n",
       " 183428,\n",
       " 183429,\n",
       " 183430,\n",
       " 183431,\n",
       " 183432,\n",
       " 183433,\n",
       " 183434,\n",
       " 183435,\n",
       " 183436,\n",
       " 183437,\n",
       " 183438,\n",
       " 183439,\n",
       " 183440,\n",
       " 183441,\n",
       " 183442,\n",
       " 183443,\n",
       " 183444,\n",
       " 183445,\n",
       " 183446,\n",
       " 183447,\n",
       " 183448,\n",
       " 183449,\n",
       " 183450,\n",
       " 183451,\n",
       " 183452,\n",
       " 183453,\n",
       " 183454,\n",
       " 183455,\n",
       " 183456,\n",
       " 183457,\n",
       " 183458,\n",
       " 183459,\n",
       " 183460,\n",
       " 183461,\n",
       " 183462,\n",
       " 183463,\n",
       " 183464,\n",
       " 183465,\n",
       " 183466,\n",
       " 183467,\n",
       " ...]"
      ]
     },
     "execution_count": 40,
     "metadata": {},
     "output_type": "execute_result"
    }
   ],
   "source": [
    "tile_indices"
   ]
  },
  {
   "cell_type": "code",
   "execution_count": 15,
   "id": "45a3ccec",
   "metadata": {},
   "outputs": [],
   "source": [
    "# this one just dealing with 1 event (e.g. 0th event)\n",
    "cell_coordinate_x = branches['cell_x'][0]\n",
    "cell_coordinate_y = branches['cell_y'][0]\n",
    "cell_coordinate_z = branches['cell_z'][0]\n",
    "cell_eta = branches['cell_eta'][0]\n",
    "cell_phi = branches['cell_phi'][0]\n",
    "cell_subCalo = branches['cell_subCalo'][0]\n",
    "cell_sampling = branches['cell_sampling'][0]\n",
    "cell_weight = branches['cell_weight'][0]\n",
    "cell_truth = branches['cell_truth'][0]\n",
    "cell_to_cluster_e = branches['cell_to_cluster_e'][0]\n",
    "cell_noiseSigma = branches['cell_noiseSigma'][0]\n",
    "cell_SNR = branches['cell_SNR'][0]\n",
    "cell_time = branches['cell_time'][0]\n",
    "cellsNo_cluster = branches['cellsNo_cluster'][0]\n",
    "clustersNo_event = branches['clustersNo_event'][0]\n",
    "cell_cluster_index = branches['cell_cluster_index'][0]\n",
    "cell_e = branches['cell_e'][0]\n",
    "cluster_to_cell_indices = branches['cluster_to_cell_indices'][0]\n",
    "cell_truth_indices = branches['cell_truth_indices'][0]\n",
    "cell_shared_indices = branches['cell_shared_indices'][0]"
   ]
  },
  {
   "cell_type": "code",
   "execution_count": 16,
   "id": "70d77175",
   "metadata": {},
   "outputs": [],
   "source": [
    "# convert them to numpy array otherwise they I believe behave like lists\n",
    "cell_coordinate_x = np.array(cell_coordinate_x)\n",
    "cell_coordinate_y = np.array(cell_coordinate_y)\n",
    "cell_coordinate_z = np.array(cell_coordinate_z)\n",
    "cell_eta = branches['cell_eta'][0]\n",
    "cell_phi = branches['cell_phi'][0]\n",
    "cell_subCalo = np.array(cell_subCalo)\n",
    "cell_sampling = np.array(cell_sampling)\n",
    "cell_weight = np.array(cell_weight)\n",
    "cell_truth = np.array(cell_truth)\n",
    "cell_to_cluster_e = np.array(cell_to_cluster_e)\n",
    "cell_SNR = np.array(cell_SNR)\n",
    "cell_noiseSigma = np.array(cell_noiseSigma)\n",
    "cell_time = np.array(cell_time)\n",
    "cellsNo_cluster = np.array(cellsNo_cluster)\n",
    "clustersNo_event = np.array(clustersNo_event)\n",
    "cell_to_cluster_index = np.array(cell_cluster_index)\n",
    "cell_e = np.array(cell_e)\n",
    "#cluster_to_cell_indices = np.array(cluster_to_cell_indices)"
   ]
  },
  {
   "cell_type": "code",
   "execution_count": 13,
   "id": "043c43be",
   "metadata": {},
   "outputs": [
    {
     "name": "stdout",
     "output_type": "stream",
     "text": [
      "no. of cells in Calorimeter:  187652\n"
     ]
    }
   ],
   "source": [
    "## No. of cell per event\n",
    "cellsInCalorimeter = len(cell_e)\n",
    "print(\"no. of cells in Calorimeter: \", cellsInCalorimeter)"
   ]
  },
  {
   "cell_type": "markdown",
   "id": "08f9a735",
   "metadata": {},
   "source": [
    "# Description of data set:\n",
    "We decided to use following features from an event\n",
    "### Geometric features:\n",
    "\n",
    "##### 1. cell_coordinate_x (mm)\n",
    "##### 2. cell_coordinate_y (mm)\n",
    "##### 3. cell_coordinate_z (mm)\n",
    "##### 4. cell_subCalo          : LAREM = 0, LARHEC = 1, LARFCAL = 2, TILE = 3, LARMINIFCAL = 4, NSUBCALO = 5,\n",
    "##### 5. cell_sampling         : More granular information of the subcalo above\n",
    "\n",
    "### Deposited energy related features:\n",
    "\n",
    "##### 6. cell_SNR          : signal to noise ratio of a cell\n",
    "##### 7. cell_e               : Energy deposited in a cell in MeV\n",
    "\n",
    "### Topocluster related cell features:\n",
    "\n",
    "##### 8. cell_truth             : 0/1 whether cell takes part in a cluster or not\n",
    "##### 9. cell_weight            : could have more than 1 entry (value 0 to 1) but using the max weight for simplicity\n",
    "##### 10. cell_to_cluster_index  : index/id of the cluster where the cell has maximum weight (again for initial study)\n",
    "##### 11. cell_to_cluster_e      : energy of the cluster where the cell has maximum weight (again for initial study)"
   ]
  },
  {
   "cell_type": "markdown",
   "id": "9438698b",
   "metadata": {},
   "source": [
    "# Visualization of cell geometry"
   ]
  },
  {
   "cell_type": "markdown",
   "id": "bfe4db19",
   "metadata": {},
   "source": [
    "### A. Y-Z coordinates (Tile cells are in red)"
   ]
  },
  {
   "cell_type": "code",
   "execution_count": 156,
   "id": "ff682007",
   "metadata": {},
   "outputs": [],
   "source": [
    "first_cell_coordinate_z = cell_coordinate_z[first_cluster]\n",
    "first_cell_coordinate_y = cell_coordinate_y[first_cluster]\n",
    "first_cell_coordinate_x = cell_coordinate_x[first_cluster]\n",
    "first_cell_subCalo = cell_subCalo[first_cluster]"
   ]
  },
  {
   "cell_type": "code",
   "execution_count": 160,
   "id": "2fb8f06b",
   "metadata": {},
   "outputs": [],
   "source": [
    "fstn_cell_coordinate_z = cell_coordinate_z[fstn]\n",
    "fstn_cell_coordinate_y = cell_coordinate_y[fstn]\n",
    "fstn_cell_coordinate_x = cell_coordinate_x[fstn]\n",
    "fstn_cell_subCalo = cell_subCalo[fstn]\n",
    "s = 20"
   ]
  },
  {
   "cell_type": "code",
   "execution_count": 158,
   "id": "38c50549",
   "metadata": {},
   "outputs": [
    {
     "data": {
      "text/plain": [
       "Text(0, 0.5, 'y direction (mm)')"
      ]
     },
     "execution_count": 158,
     "metadata": {},
     "output_type": "execute_result"
    },
    {
     "data": {
      "image/png": "[encoded data removed]",
      "text/plain": [
       "<Figure size 432x288 with 1 Axes>"
      ]
     },
     "metadata": {
      "needs_background": "light"
     },
     "output_type": "display_data"
    }
   ],
   "source": [
    "s = 10\n",
    "col = np.where(first_cell_subCalo==3,'r','b')\n",
    "plt.scatter(first_cell_coordinate_z, first_cell_coordinate_y, marker='.', s=s, c=col)\n",
    "#plt.xlim(0, -5000)\n",
    "plt.xlabel(\"z direction (mm)\")\n",
    "plt.ylabel(\"y direction (mm)\")"
   ]
  },
  {
   "cell_type": "code",
   "execution_count": 161,
   "id": "d3dfd317",
   "metadata": {},
   "outputs": [
    {
     "data": {
      "text/plain": [
       "Text(0, 0.5, 'y direction (mm)')"
      ]
     },
     "execution_count": 161,
     "metadata": {},
     "output_type": "execute_result"
    },
    {
     "data": {
      "image/png": "[encoded data removed]",
      "text/plain": [
       "<Figure size 432x288 with 1 Axes>"
      ]
     },
     "metadata": {
      "needs_background": "light"
     },
     "output_type": "display_data"
    }
   ],
   "source": [
    "col = np.where(fstn_cell_subCalo==3,'r','b')\n",
    "plt.scatter(fstn_cell_coordinate_z, fstn_cell_coordinate_y, marker='.', s=s, c=col)\n",
    "#plt.xlim(0, -5000)\n",
    "plt.xlabel(\"z direction (mm)\")\n",
    "plt.ylabel(\"y direction (mm)\")"
   ]
  },
  {
   "cell_type": "markdown",
   "id": "bfdacced",
   "metadata": {},
   "source": [
    "### B. X-Y coordinates (Tile cells are in red)"
   ]
  },
  {
   "cell_type": "code",
   "execution_count": 159,
   "id": "a445d2fc",
   "metadata": {},
   "outputs": [
    {
     "data": {
      "text/plain": [
       "Text(0, 0.5, 'y direction (mm)')"
      ]
     },
     "execution_count": 159,
     "metadata": {},
     "output_type": "execute_result"
    },
    {
     "data": {
      "image/png": "[encoded data removed]",
      "text/plain": [
       "<Figure size 432x288 with 1 Axes>"
      ]
     },
     "metadata": {
      "needs_background": "light"
     },
     "output_type": "display_data"
    }
   ],
   "source": [
    "plt.scatter(first_cell_coordinate_x, first_cell_coordinate_y, marker='.', s=s, c=col)\n",
    "plt.xlabel(\"x direction (mm)\")\n",
    "plt.ylabel(\"y direction (mm)\")"
   ]
  },
  {
   "cell_type": "code",
   "execution_count": 162,
   "id": "de75339a",
   "metadata": {},
   "outputs": [
    {
     "data": {
      "text/plain": [
       "Text(0, 0.5, 'y direction (mm)')"
      ]
     },
     "execution_count": 162,
     "metadata": {},
     "output_type": "execute_result"
    },
    {
     "data": {
      "image/png": "[encoded data removed]",
      "text/plain": [
       "<Figure size 432x288 with 1 Axes>"
      ]
     },
     "metadata": {
      "needs_background": "light"
     },
     "output_type": "display_data"
    }
   ],
   "source": [
    "plt.scatter(fstn_cell_coordinate_x, fstn_cell_coordinate_y, marker='.', s=s, c=col)\n",
    "plt.xlabel(\"x direction (mm)\")\n",
    "plt.ylabel(\"y direction (mm)\")"
   ]
  },
  {
   "cell_type": "markdown",
   "id": "2fd37b16",
   "metadata": {},
   "source": [
    "## Visualization of the features "
   ]
  },
  {
   "cell_type": "code",
   "execution_count": 14,
   "id": "f9d3343e",
   "metadata": {},
   "outputs": [
    {
     "name": "stdout",
     "output_type": "stream",
     "text": [
      "xbin_count:  113\n"
     ]
    },
    {
     "data": {
      "image/png": "[encoded data removed]",
      "text/plain": [
       "<Figure size 432x288 with 1 Axes>"
      ]
     },
     "metadata": {
      "needs_background": "light"
     },
     "output_type": "display_data"
    }
   ],
   "source": [
    "q1, q3 = np.percentile(cell_coordinate_x, 25), np.percentile(cell_coordinate_x, 75)\n",
    "iqr = q3 - q1\n",
    "bin_width = (2 * iqr) / (len(cell_coordinate_x) ** (1 / 3))\n",
    "xbin_count = int(np.ceil((cell_coordinate_x.max() - cell_coordinate_x.min()) / bin_width))\n",
    "print(\"xbin_count: \",xbin_count)\n",
    "plt.hist(cell_coordinate_x, bins=xbin_count)\n",
    "plt.title(\"x_coordinate dist.\")\n",
    "plt.xlabel(\"x_coordinate\")\n",
    "plt.ylabel(\"entries\")\n",
    "plt.show()"
   ]
  },
  {
   "cell_type": "code",
   "execution_count": 15,
   "id": "cf2164fb",
   "metadata": {},
   "outputs": [
    {
     "name": "stdout",
     "output_type": "stream",
     "text": [
      "ybin_count:  113\n"
     ]
    },
    {
     "data": {
      "image/png": "[encoded data removed]",
      "text/plain": [
       "<Figure size 432x288 with 1 Axes>"
      ]
     },
     "metadata": {
      "needs_background": "light"
     },
     "output_type": "display_data"
    }
   ],
   "source": [
    "q1, q3 = np.percentile(cell_coordinate_y, 25), np.percentile(cell_coordinate_y, 75)\n",
    "iqr = q3 - q1\n",
    "bin_width = (2 * iqr) / (len(cell_coordinate_y) ** (1 / 3))\n",
    "ybin_count = int(np.ceil((cell_coordinate_y.max() - cell_coordinate_y.min()) / bin_width))\n",
    "print(\"ybin_count: \",ybin_count)\n",
    "plt.hist(cell_coordinate_y, bins=ybin_count)\n",
    "plt.title(\"y_coordinate dist.\")\n",
    "plt.xlabel(\"y_coordinate\")\n",
    "plt.ylabel(\"entries\")\n",
    "plt.show()"
   ]
  },
  {
   "cell_type": "code",
   "execution_count": 16,
   "id": "d3f7ba73",
   "metadata": {},
   "outputs": [
    {
     "name": "stdout",
     "output_type": "stream",
     "text": [
      "zbin_count:  71\n"
     ]
    },
    {
     "data": {
      "image/png": "[encoded data removed]",
      "text/plain": [
       "<Figure size 432x288 with 1 Axes>"
      ]
     },
     "metadata": {
      "needs_background": "light"
     },
     "output_type": "display_data"
    }
   ],
   "source": [
    "q1, q3 = np.percentile(cell_coordinate_z, 25), np.percentile(cell_coordinate_z, 75)\n",
    "iqr = q3 - q1\n",
    "bin_width = (2 * iqr) / (len(cell_coordinate_z) ** (1 / 3))\n",
    "zbin_count = int(np.ceil((cell_coordinate_z.max() - cell_coordinate_z.min()) / bin_width))\n",
    "print(\"zbin_count: \",zbin_count)\n",
    "plt.hist(cell_coordinate_z, bins=zbin_count)\n",
    "plt.title(\"z_coordinate dist.\")\n",
    "plt.xlabel(\"z_coordinate\")\n",
    "plt.ylabel(\"entries\")\n",
    "plt.show()"
   ]
  },
  {
   "cell_type": "code",
   "execution_count": 17,
   "id": "a54199b8",
   "metadata": {},
   "outputs": [
    {
     "data": {
      "image/png": "[encoded data removed]",
      "text/plain": [
       "<Figure size 432x288 with 1 Axes>"
      ]
     },
     "metadata": {
      "needs_background": "light"
     },
     "output_type": "display_data"
    }
   ],
   "source": [
    "#q1, q3 = np.percentile(cell_truth, 25), np.percentile(cell_truth, 75)\n",
    "#iqr = q3 - q1\n",
    "#bin_width = (2 * iqr) / (len(cell_truth) ** (1 / 3))\n",
    "#truthbin_count = int(np.ceil((cell_truth.max() - cell_truth.min()) / bin_width))\n",
    "plt.hist(cell_truth, bins=100)\n",
    "#print(\"bin count: \",truthbin_count)\n",
    "plt.title(\"cell_truth dist.\")\n",
    "plt.xlabel(\"cell_truth\")\n",
    "plt.ylabel(\"entries\")\n",
    "plt.show()"
   ]
  },
  {
   "cell_type": "code",
   "execution_count": 18,
   "id": "c5913d26",
   "metadata": {},
   "outputs": [],
   "source": [
    "participatingCell_Indx = [i for i in range(len(cell_truth)) if cell_truth[i]==1]\n",
    "nonParticipatingCell_Indx = [i for i in range(len(cell_truth)) if cell_truth[i]==0]"
   ]
  },
  {
   "cell_type": "code",
   "execution_count": 19,
   "id": "9f7a42e6",
   "metadata": {},
   "outputs": [
    {
     "data": {
      "image/png": "[encoded data removed]",
      "text/plain": [
       "<Figure size 432x288 with 1 Axes>"
      ]
     },
     "metadata": {
      "needs_background": "light"
     },
     "output_type": "display_data"
    }
   ],
   "source": [
    "participatingSamplingLayer = cell_sampling[participatingCell_Indx]\n",
    "plt.hist(participatingSamplingLayer, bins=100)\n",
    "plt.title(\"participatingSamplingLayer dist.\")\n",
    "plt.xlabel(\"participatingSamplingLayer\")\n",
    "plt.yscale(\"log\")\n",
    "plt.ylabel(\"entries\")\n",
    "plt.show()"
   ]
  },
  {
   "cell_type": "code",
   "execution_count": 20,
   "id": "1340d4d1",
   "metadata": {},
   "outputs": [
    {
     "data": {
      "image/png": "[encoded data removed]",
      "text/plain": [
       "<Figure size 432x288 with 1 Axes>"
      ]
     },
     "metadata": {
      "needs_background": "light"
     },
     "output_type": "display_data"
    }
   ],
   "source": [
    "nonParticipatingSamplingLayer = cell_sampling[nonParticipatingCell_Indx]\n",
    "plt.hist(nonParticipatingSamplingLayer, bins=100)\n",
    "plt.title(\"nonParticipatingSamplingLayer dist.\")\n",
    "plt.xlabel(\"nonParticipatingSamplingLayer\")\n",
    "plt.yscale(\"log\")\n",
    "plt.ylabel(\"entries\")\n",
    "plt.show()"
   ]
  },
  {
   "cell_type": "code",
   "execution_count": 21,
   "id": "d56faecd",
   "metadata": {},
   "outputs": [
    {
     "data": {
      "image/png": "[encoded data removed]",
      "text/plain": [
       "<Figure size 432x288 with 1 Axes>"
      ]
     },
     "metadata": {
      "needs_background": "light"
     },
     "output_type": "display_data"
    }
   ],
   "source": [
    "#LAREM = 0, LARHEC = 1, LARFCAL = 2, TILE = 3, LARMINIFCAL = 4, NSUBCALO = 5,\n",
    "participatingSubCalo = cell_subCalo[participatingCell_Indx]\n",
    "plt.hist(participatingSubCalo, bins=100)\n",
    "plt.title(\"participatingSubCalo dist.\")\n",
    "plt.xlabel(\"participatingSubCalo\")\n",
    "plt.yscale(\"log\")\n",
    "plt.ylabel(\"entries\")\n",
    "plt.show()"
   ]
  },
  {
   "cell_type": "code",
   "execution_count": 22,
   "id": "dbe8fa00",
   "metadata": {},
   "outputs": [
    {
     "data": {
      "image/png": "[encoded data removed]",
      "text/plain": [
       "<Figure size 432x288 with 1 Axes>"
      ]
     },
     "metadata": {
      "needs_background": "light"
     },
     "output_type": "display_data"
    }
   ],
   "source": [
    "#LAREM = 0, LARHEC = 1, LARFCAL = 2, TILE = 3, LARMINIFCAL = 4, NSUBCALO = 5,\n",
    "nonParticipatingSubCalo = cell_subCalo[nonParticipatingCell_Indx]\n",
    "plt.hist(nonParticipatingSubCalo, bins=100)\n",
    "plt.title(\"nonParticipatingSubCalo dist.\")\n",
    "plt.xlabel(\"nonParticipatingSubCalo\")\n",
    "plt.yscale(\"log\")\n",
    "plt.ylabel(\"entries\")\n",
    "plt.show()"
   ]
  },
  {
   "cell_type": "code",
   "execution_count": 23,
   "id": "85fb8d5c",
   "metadata": {},
   "outputs": [
    {
     "name": "stdout",
     "output_type": "stream",
     "text": [
      "bin count:  7390\n"
     ]
    },
    {
     "data": {
      "image/png": "[encoded data removed]",
      "text/plain": [
       "<Figure size 432x288 with 1 Axes>"
      ]
     },
     "metadata": {
      "needs_background": "light"
     },
     "output_type": "display_data"
    }
   ],
   "source": [
    "q1, q3 = np.percentile(cell_noiseSigma, 25), np.percentile(cell_noiseSigma, 75)\n",
    "iqr = q3 - q1\n",
    "bin_width = (2 * iqr) / (len(cell_noiseSigma) ** (1 / 3))\n",
    "noisebin_count = int(np.ceil((cell_noiseSigma.max() - cell_noiseSigma.min()) / bin_width))\n",
    "print(\"bin count: \", noisebin_count)\n",
    "plt.hist(cell_noiseSigma, bins=1000)\n",
    "plt.title(\"cell_noiseSigma dist.\")\n",
    "plt.xlabel(\"cell_noiseSigma\")\n",
    "plt.yscale(\"log\")\n",
    "plt.ylabel(\"entries\")\n",
    "plt.show()"
   ]
  },
  {
   "cell_type": "code",
   "execution_count": 24,
   "id": "fb99be3b",
   "metadata": {},
   "outputs": [
    {
     "data": {
      "image/png": "[encoded data removed]",
      "text/plain": [
       "<Figure size 432x288 with 1 Axes>"
      ]
     },
     "metadata": {
      "needs_background": "light"
     },
     "output_type": "display_data"
    }
   ],
   "source": [
    "participatingCell_noiseSigma = cell_noiseSigma[participatingCell_Indx]\n",
    "plt.hist(participatingCell_noiseSigma, bins=1000)\n",
    "plt.title(\"participatingCell_noiseSigma dist.\")\n",
    "plt.xlabel(\"participatingCell_noiseSigma\")\n",
    "plt.yscale(\"log\")\n",
    "plt.ylabel(\"entries\")\n",
    "plt.show()\n"
   ]
  },
  {
   "cell_type": "code",
   "execution_count": 25,
   "id": "1af2c34a",
   "metadata": {},
   "outputs": [
    {
     "data": {
      "image/png": "[encoded data removed]",
      "text/plain": [
       "<Figure size 432x288 with 1 Axes>"
      ]
     },
     "metadata": {
      "needs_background": "light"
     },
     "output_type": "display_data"
    }
   ],
   "source": [
    "nonParticipatingCell_noiseSigma = cell_noiseSigma[nonParticipatingCell_Indx]\n",
    "plt.hist(nonParticipatingCell_noiseSigma, bins=1000)\n",
    "plt.title(\"nonParticipatingCell_noiseSigma dist.\")\n",
    "plt.xlabel(\"nonParticipatingCell_noiseSigma\")\n",
    "plt.yscale(\"log\")\n",
    "plt.ylabel(\"entries\")\n",
    "plt.show()\n"
   ]
  },
  {
   "cell_type": "code",
   "execution_count": 26,
   "id": "dcade06d",
   "metadata": {},
   "outputs": [
    {
     "name": "stdout",
     "output_type": "stream",
     "text": [
      "bin_count:  37888\n"
     ]
    },
    {
     "data": {
      "image/png": "[encoded data removed]",
      "text/plain": [
       "<Figure size 432x288 with 1 Axes>"
      ]
     },
     "metadata": {
      "needs_background": "light"
     },
     "output_type": "display_data"
    }
   ],
   "source": [
    "q1, q3 = np.percentile(cell_e, 25), np.percentile(cell_e, 75)\n",
    "iqr = q3 - q1\n",
    "bin_width = (2 * iqr) / (len(cell_e) ** (1 / 3))\n",
    "cellEnergybin_count = int(np.ceil((cell_e.max() - cell_e.min()) / bin_width))\n",
    "print(\"bin_count: \",cellEnergybin_count)\n",
    "plt.hist(cell_e, 500)\n",
    "plt.title(\"cell_energy dist.\")\n",
    "plt.xlabel(\"cell_energy (MeV)\")\n",
    "plt.ylabel(\"entries\")\n",
    "plt.yscale(\"log\")\n",
    "plt.show()"
   ]
  },
  {
   "cell_type": "code",
   "execution_count": 27,
   "id": "24f1275c",
   "metadata": {},
   "outputs": [
    {
     "data": {
      "image/png": "[encoded data removed]",
      "text/plain": [
       "<Figure size 432x288 with 1 Axes>"
      ]
     },
     "metadata": {
      "needs_background": "light"
     },
     "output_type": "display_data"
    }
   ],
   "source": [
    "participating_cellEnergy = cell_e[participatingCell_Indx]\n",
    "plt.hist(participating_cellEnergy, 500)\n",
    "plt.title(\"participating_cellEnergy dist.\")\n",
    "plt.xlabel(\"participating_cellEnergy (MeV)\")\n",
    "plt.ylabel(\"entries\")\n",
    "plt.yscale(\"log\")\n",
    "plt.show()"
   ]
  },
  {
   "cell_type": "code",
   "execution_count": 28,
   "id": "588be840",
   "metadata": {},
   "outputs": [
    {
     "data": {
      "image/png": "[encoded data removed]",
      "text/plain": [
       "<Figure size 432x288 with 1 Axes>"
      ]
     },
     "metadata": {
      "needs_background": "light"
     },
     "output_type": "display_data"
    }
   ],
   "source": [
    "nonParticipating_cellEnergy = cell_e[nonParticipatingCell_Indx]\n",
    "plt.hist(nonParticipating_cellEnergy, 500)\n",
    "plt.title(\"nonParticipating_cellEnergy dist.\")\n",
    "plt.xlabel(\"nonParticipating_cellEnergy (MeV)\")\n",
    "plt.ylabel(\"entries\")\n",
    "plt.yscale(\"log\")\n",
    "plt.show()"
   ]
  },
  {
   "cell_type": "code",
   "execution_count": 29,
   "id": "8b608566",
   "metadata": {
    "scrolled": true
   },
   "outputs": [
    {
     "name": "stdout",
     "output_type": "stream",
     "text": [
      "bin_count:  6956\n"
     ]
    },
    {
     "data": {
      "image/png": "[encoded data removed]",
      "text/plain": [
       "<Figure size 432x288 with 1 Axes>"
      ]
     },
     "metadata": {
      "needs_background": "light"
     },
     "output_type": "display_data"
    }
   ],
   "source": [
    "q1, q3 = np.nanpercentile(cell_SNR, 25), np.nanpercentile(cell_SNR, 75)\n",
    "iqr = q3 - q1\n",
    "bin_width = (2 * iqr) / (len(cell_SNR) ** (1 / 3))\n",
    "cellSNRbin_count = int((max(cell_SNR) - min(cell_SNR)) / bin_width)\n",
    "print(\"bin_count: \",cellSNRbin_count)\n",
    "plt.hist(cell_SNR, 500)\n",
    "plt.title(\"cell_SNR dist.\")\n",
    "plt.xlabel(\"cell_SNR\")\n",
    "plt.ylabel(\"entries\")\n",
    "plt.yscale(\"log\")\n",
    "plt.show()"
   ]
  },
  {
   "cell_type": "code",
   "execution_count": 30,
   "id": "83b4b747",
   "metadata": {},
   "outputs": [
    {
     "data": {
      "image/png": "[encoded data removed]",
      "text/plain": [
       "<Figure size 432x288 with 1 Axes>"
      ]
     },
     "metadata": {
      "needs_background": "light"
     },
     "output_type": "display_data"
    }
   ],
   "source": [
    "participating_cellSNR = cell_SNR[participatingCell_Indx]\n",
    "plt.hist(participating_cellSNR, 500)\n",
    "plt.title(\"participating cellSNR dist.\")\n",
    "plt.xlabel(\"participating cellSNR\")\n",
    "plt.ylabel(\"entries\")\n",
    "plt.yscale(\"log\")\n",
    "plt.show()"
   ]
  },
  {
   "cell_type": "code",
   "execution_count": 31,
   "id": "6112a0f2",
   "metadata": {},
   "outputs": [
    {
     "data": {
      "image/png": "[encoded data removed]",
      "text/plain": [
       "<Figure size 432x288 with 1 Axes>"
      ]
     },
     "metadata": {
      "needs_background": "light"
     },
     "output_type": "display_data"
    }
   ],
   "source": [
    "nonParticipating_cellSNR = cell_SNR[nonParticipatingCell_Indx]\n",
    "plt.hist(nonParticipating_cellSNR, 500)\n",
    "plt.title(\"nonParticipating cellSNR dist.\")\n",
    "plt.xlabel(\"nonParticipating cellSNR\")\n",
    "plt.ylabel(\"entries\")\n",
    "plt.yscale(\"log\")\n",
    "plt.show()"
   ]
  }
 ],
 "metadata": {
  "kernelspec": {
   "display_name": "my_env",
   "language": "python",
   "name": "my_env"
  },
  "language_info": {
   "codemirror_mode": {
    "name": "ipython",
    "version": 3
   },
   "file_extension": ".py",
   "mimetype": "text/x-python",
   "name": "python",
   "nbconvert_exporter": "python",
   "pygments_lexer": "ipython3",
   "version": "3.8.6"
  }
 },
 "nbformat": 4,
 "nbformat_minor": 5
}
