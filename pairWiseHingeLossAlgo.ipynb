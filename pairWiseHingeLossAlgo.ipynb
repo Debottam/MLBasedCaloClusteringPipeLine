{
 "cells": [
  {
   "cell_type": "code",
   "execution_count": 1,
   "id": "1c40c8e7",
   "metadata": {},
   "outputs": [],
   "source": [
    "import uproot\n",
    "import numpy as np\n",
    "import networkx as nx\n",
    "import matplotlib.pyplot as plt\n",
    "from scipy.spatial.distance import cdist\n",
    "from sklearn.model_selection import cross_val_score, cross_val_predict, train_test_split\n",
    "from collections import namedtuple, defaultdict\n",
    "import open3d as o3d\n",
    "import random\n",
    "random.seed(42)\n",
    "import h5py\n",
    "import torch\n",
    "import torch.nn as nn\n",
    "import torch.optim as optim\n",
    "from torch.utils.data import DataLoader, Dataset\n",
    "from torchvision import transforms\n",
    "from sklearn.preprocessing import StandardScaler, MinMaxScaler\n",
    "import joblib"
   ]
  },
  {
   "cell_type": "code",
   "execution_count": 2,
   "id": "7ac1feb0",
   "metadata": {},
   "outputs": [],
   "source": [
    "hf_true_neighbor_indices= h5py.File(\"./true_neighbor_200k.hdf5\", 'r')"
   ]
  },
  {
   "cell_type": "code",
   "execution_count": 3,
   "id": "5453cd14",
   "metadata": {},
   "outputs": [],
   "source": [
    "true_neighbor = hf_true_neighbor_indices.get('true_neighbor')[:]"
   ]
  },
  {
   "cell_type": "code",
   "execution_count": 4,
   "id": "cdba9b53",
   "metadata": {},
   "outputs": [],
   "source": [
    "hf_true_neighbor_indices.close()"
   ]
  },
  {
   "cell_type": "code",
   "execution_count": 6,
   "id": "baf1e536",
   "metadata": {},
   "outputs": [
    {
     "data": {
      "text/plain": [
       "200000"
      ]
     },
     "execution_count": 6,
     "metadata": {},
     "output_type": "execute_result"
    }
   ],
   "source": [
    "len(true_neighbor)"
   ]
  },
  {
   "cell_type": "markdown",
   "id": "c9b377ad",
   "metadata": {},
   "source": [
    "## Opening files containing features in pairs of cells from same cluster (+ve e.g.) and different cluster (-ve e.g)"
   ]
  },
  {
   "cell_type": "code",
   "execution_count": 2,
   "id": "040e7bd3",
   "metadata": {},
   "outputs": [],
   "source": [
    "hf_pair_indices= h5py.File(\"./true_pair_index.hdf5\", 'r')\n",
    "hf_nopair_indices = h5py.File(\"./false_pair_index.hdf5\", 'r')\n",
    "hf_cellFeatures = h5py.File(\"./cellFeatures.hdf5\", 'r')\n",
    "hf_sharedCellsIndices = h5py.File(\"./sharedCellsIndices.hdf5\", 'r')\n",
    "hf_cellFeatures_ev1 = h5py.File(\"./cellFeatures.hdf5\", 'r')\n",
    "hf_sharedCellsIndices_ev1 = h5py.File(\"./sharedCellsIndices.hdf5\", 'r')"
   ]
  },
  {
   "cell_type": "code",
   "execution_count": 3,
   "id": "207778da",
   "metadata": {},
   "outputs": [],
   "source": [
    "true_pair = hf_pair_indices.get('true_pair')[:]\n",
    "false_pair = hf_nopair_indices.get('false_pair')[:]\n",
    "cellFeatures = hf_cellFeatures.get('cellFeatures')[:]\n",
    "sharedCells = hf_sharedCellsIndices.get('sharedCellsIndices')[:]\n",
    "cellFeatures_ev1 = hf_cellFeatures_ev1.get('cellFeatures')[:]\n",
    "sharedCells_ev1 = hf_sharedCellsIndices_ev1.get('sharedCellsIndices')[:]"
   ]
  },
  {
   "cell_type": "code",
   "execution_count": 4,
   "id": "3f3f78b3",
   "metadata": {},
   "outputs": [],
   "source": [
    "hf_pair_indices.close()\n",
    "hf_nopair_indices.close()\n",
    "hf_cellFeatures.close()\n",
    "hf_sharedCellsIndices.close()\n",
    "hf_cellFeatures_ev1.close()\n",
    "hf_sharedCellsIndices_ev1.close()"
   ]
  },
  {
   "cell_type": "code",
   "execution_count": 6,
   "id": "344bc784",
   "metadata": {},
   "outputs": [
    {
     "name": "stdout",
     "output_type": "stream",
     "text": [
      "true_pair.shape:  (673264, 2)\n",
      "false_pair.shape:  (511897, 2)\n",
      "cellFeatures.shape:  (187652, 8)\n",
      "sharedCells.shape:  (757,)\n",
      "cellFeatures_ev1.shape:  (187652, 8)\n",
      "sharedCells_ev1.shape:  (757,)\n"
     ]
    }
   ],
   "source": [
    "print(\"true_pair.shape: \",true_pair.shape)\n",
    "print(\"false_pair.shape: \",false_pair.shape)\n",
    "print(\"cellFeatures.shape: \",cellFeatures.shape)\n",
    "print(\"sharedCells.shape: \",sharedCells.shape)\n",
    "print(\"cellFeatures_ev1.shape: \",cellFeatures.shape)\n",
    "print(\"sharedCells_ev1.shape: \",sharedCells.shape)"
   ]
  },
  {
   "cell_type": "code",
   "execution_count": 8,
   "id": "f3a8ef99",
   "metadata": {},
   "outputs": [],
   "source": [
    "false_pair_500k = false_pair[:500000] # using 500k nopais\n",
    "true_pair_500k = true_pair[:500000]          # using 500k pais"
   ]
  },
  {
   "cell_type": "code",
   "execution_count": 10,
   "id": "4d101eb8",
   "metadata": {},
   "outputs": [
    {
     "name": "stdout",
     "output_type": "stream",
     "text": [
      "pair_500k.shape:  (500000, 2)\n",
      "nopair_500k.shape:  (500000, 2)\n"
     ]
    }
   ],
   "source": [
    "print(\"pair_500k.shape: \",true_pair_500k.shape)\n",
    "print(\"nopair_500k.shape: \",false_pair_500k.shape)"
   ]
  },
  {
   "cell_type": "markdown",
   "id": "b552cd00",
   "metadata": {},
   "source": [
    "## Concatenating +ve and -ve examples"
   ]
  },
  {
   "cell_type": "code",
   "execution_count": 12,
   "id": "a364e434",
   "metadata": {},
   "outputs": [],
   "source": [
    "total_indices = np.concatenate((true_pair_500k,false_pair_500k),axis=0)"
   ]
  },
  {
   "cell_type": "code",
   "execution_count": 13,
   "id": "83b77813",
   "metadata": {},
   "outputs": [
    {
     "data": {
      "text/plain": [
       "(1000000, 2)"
      ]
     },
     "execution_count": 13,
     "metadata": {},
     "output_type": "execute_result"
    }
   ],
   "source": [
    "total_indices.shape"
   ]
  },
  {
   "cell_type": "markdown",
   "id": "af218752",
   "metadata": {},
   "source": [
    "## Making labels 1 for +ve e.g and -1 for -ve e.g"
   ]
  },
  {
   "cell_type": "code",
   "execution_count": 16,
   "id": "bcad52cc",
   "metadata": {},
   "outputs": [],
   "source": [
    "total_label = np.concatenate(([1]*500000,[-1]*500000),axis=0)"
   ]
  },
  {
   "cell_type": "code",
   "execution_count": 17,
   "id": "1aead390",
   "metadata": {},
   "outputs": [
    {
     "data": {
      "text/plain": [
       "(1000000,)"
      ]
     },
     "execution_count": 17,
     "metadata": {},
     "output_type": "execute_result"
    }
   ],
   "source": [
    "total_label.shape"
   ]
  },
  {
   "cell_type": "code",
   "execution_count": 18,
   "id": "e4e03535",
   "metadata": {},
   "outputs": [
    {
     "data": {
      "text/plain": [
       "array([ 1,  1,  1, ..., -1, -1, -1])"
      ]
     },
     "execution_count": 18,
     "metadata": {},
     "output_type": "execute_result"
    }
   ],
   "source": [
    "total_label"
   ]
  },
  {
   "cell_type": "markdown",
   "id": "408583a1",
   "metadata": {},
   "source": [
    "## Randomizing data and dividing into train, test parts"
   ]
  },
  {
   "cell_type": "code",
   "execution_count": 20,
   "id": "b63afb5f",
   "metadata": {},
   "outputs": [],
   "source": [
    "arr = np.arange(1000000)\n",
    "np.random.shuffle(arr)"
   ]
  },
  {
   "cell_type": "code",
   "execution_count": 21,
   "id": "020d62a0",
   "metadata": {},
   "outputs": [],
   "source": [
    "total_indices_rand = total_indices[arr]\n",
    "total_label_rand =  total_label[arr]"
   ]
  },
  {
   "cell_type": "code",
   "execution_count": 22,
   "id": "dde465d0",
   "metadata": {},
   "outputs": [],
   "source": [
    "total_indices_train, total_indices_test, truth_label_train, truth_label_test = train_test_split(\n",
    "    total_indices_rand, total_label_rand, train_size=0.70)"
   ]
  },
  {
   "cell_type": "code",
   "execution_count": 23,
   "id": "2334e95b",
   "metadata": {},
   "outputs": [
    {
     "data": {
      "text/plain": [
       "(700000, 2)"
      ]
     },
     "execution_count": 23,
     "metadata": {},
     "output_type": "execute_result"
    }
   ],
   "source": [
    "total_indices_train.shape"
   ]
  },
  {
   "cell_type": "code",
   "execution_count": 24,
   "id": "ff77069a",
   "metadata": {},
   "outputs": [
    {
     "data": {
      "text/plain": [
       "(300000, 2)"
      ]
     },
     "execution_count": 24,
     "metadata": {},
     "output_type": "execute_result"
    }
   ],
   "source": [
    "total_indices_test.shape"
   ]
  },
  {
   "cell_type": "code",
   "execution_count": 25,
   "id": "8054d0dd",
   "metadata": {},
   "outputs": [],
   "source": [
    "# creating pair and no pair indices file\n",
    "with h5py.File('./test_pair.hdf5', 'w') as f: \n",
    "    dset = f.create_dataset(\"test_pair\", data = total_indices_test)\n",
    "\n",
    "with h5py.File('./test_truth.hdf5', 'w') as f: \n",
    "    dset = f.create_dataset(\"test_truth_label\", data = truth_label_test)"
   ]
  },
  {
   "cell_type": "markdown",
   "id": "19f39723",
   "metadata": {},
   "source": [
    "### Based on the train-test cell indices find the cell features and scale them"
   ]
  },
  {
   "cell_type": "code",
   "execution_count": 26,
   "id": "d42fa2b7",
   "metadata": {},
   "outputs": [],
   "source": [
    "# find the unique cell indices in the pair\n",
    "train_index_set = set()\n",
    "for item in total_indices_train:\n",
    "    if item[0] not in train_index_set:\n",
    "        train_index_set.add(item[0])\n",
    "    elif item[1] not in train_index_set:\n",
    "        train_index_set.add(item[1])\n"
   ]
  },
  {
   "cell_type": "code",
   "execution_count": 27,
   "id": "004ba95c",
   "metadata": {},
   "outputs": [
    {
     "data": {
      "text/plain": [
       "130893"
      ]
     },
     "execution_count": 27,
     "metadata": {},
     "output_type": "execute_result"
    }
   ],
   "source": [
    "len(train_index_set)"
   ]
  },
  {
   "cell_type": "code",
   "execution_count": 28,
   "id": "71dc62e0",
   "metadata": {},
   "outputs": [],
   "source": [
    "# find the unique cell indices in the pair\n",
    "test_index_set = set()\n",
    "for item in total_indices_test:\n",
    "    if item[0] not in test_index_set:\n",
    "        test_index_set.add(item[0])\n",
    "    elif item[1] not in test_index_set:\n",
    "        test_index_set.add(item[1])"
   ]
  },
  {
   "cell_type": "code",
   "execution_count": 29,
   "id": "4473d6de",
   "metadata": {},
   "outputs": [
    {
     "data": {
      "text/plain": [
       "71844"
      ]
     },
     "execution_count": 29,
     "metadata": {},
     "output_type": "execute_result"
    }
   ],
   "source": [
    "len(test_index_set)"
   ]
  },
  {
   "cell_type": "markdown",
   "id": "29b6e17d",
   "metadata": {},
   "source": [
    "## MinMax Scaling training set"
   ]
  },
  {
   "cell_type": "code",
   "execution_count": 30,
   "id": "641866f1",
   "metadata": {},
   "outputs": [],
   "source": [
    "train_index_list = list(train_index_set)\n",
    "test_index_list = list(test_index_set)"
   ]
  },
  {
   "cell_type": "code",
   "execution_count": 31,
   "id": "03bf3dd7",
   "metadata": {},
   "outputs": [],
   "source": [
    "with h5py.File('./test_index_list.hdf5', 'w') as f: \n",
    "    dset = f.create_dataset(\"test_index_list\", data = test_index_list)"
   ]
  },
  {
   "cell_type": "code",
   "execution_count": 32,
   "id": "460edec7",
   "metadata": {},
   "outputs": [],
   "source": [
    "for item in test_index_list:\n",
    "    if item in train_index_list:\n",
    "        index = test_index_list.index(item)\n",
    "        test_index_list.pop(index)"
   ]
  },
  {
   "cell_type": "code",
   "execution_count": 33,
   "id": "55fd18fd",
   "metadata": {},
   "outputs": [
    {
     "data": {
      "text/plain": [
       "55429"
      ]
     },
     "execution_count": 33,
     "metadata": {},
     "output_type": "execute_result"
    }
   ],
   "source": [
    "len(test_index_list)"
   ]
  },
  {
   "cell_type": "code",
   "execution_count": 34,
   "id": "5c4dd5e0",
   "metadata": {},
   "outputs": [],
   "source": [
    "cellFeatures_train = cellFeatures[train_index_list]\n",
    "cellFeatures_test = cellFeatures[test_index_list]"
   ]
  },
  {
   "cell_type": "code",
   "execution_count": 36,
   "id": "55b3bdd0",
   "metadata": {},
   "outputs": [
    {
     "data": {
      "text/plain": [
       "['./scaler.save']"
      ]
     },
     "execution_count": 36,
     "metadata": {},
     "output_type": "execute_result"
    }
   ],
   "source": [
    "scaler = MinMaxScaler()\n",
    "cellFeatures_trainS = scaler.fit_transform(cellFeatures_train)\n",
    "scaler_filename = \"./scaler.save\"\n",
    "joblib.dump(scaler, scaler_filename)\n",
    "#cellFeatures_testS = scaler.transform(cellFeatures_test)\n",
    "#cellFeatures_testS_ev1 = scaler.transform(cellFeatures_ev1)"
   ]
  },
  {
   "cell_type": "code",
   "execution_count": 37,
   "id": "7c0f41a5",
   "metadata": {},
   "outputs": [],
   "source": [
    "scaler = joblib.load('./scaler.save') "
   ]
  },
  {
   "cell_type": "code",
   "execution_count": 38,
   "id": "0248d2cf",
   "metadata": {},
   "outputs": [],
   "source": [
    "cellFeatures_testS = scaler.transform(cellFeatures_test)"
   ]
  },
  {
   "cell_type": "code",
   "execution_count": 39,
   "id": "7aa6a7ae",
   "metadata": {},
   "outputs": [
    {
     "data": {
      "text/plain": [
       "(187652, 8)"
      ]
     },
     "execution_count": 39,
     "metadata": {},
     "output_type": "execute_result"
    }
   ],
   "source": [
    "cellFeatures.shape"
   ]
  },
  {
   "cell_type": "markdown",
   "id": "2bdb09e9",
   "metadata": {},
   "source": [
    "### Insert cellFeatures_train/test in a cellFeaturesScaled array "
   ]
  },
  {
   "cell_type": "code",
   "execution_count": 40,
   "id": "b605b59c",
   "metadata": {},
   "outputs": [],
   "source": [
    "cellFeaturesScaled =np.zeros((187652, 8))\n",
    "cell = 0\n",
    "for i in train_index_list:\n",
    "    cellFeaturesScaled[i] = cellFeatures_trainS[cell]\n",
    "    cell = cell+1"
   ]
  },
  {
   "cell_type": "code",
   "execution_count": 41,
   "id": "53b349c0",
   "metadata": {},
   "outputs": [],
   "source": [
    "cell = 0\n",
    "for i in test_index_list:\n",
    "    cellFeaturesScaled[i] = cellFeatures_testS[cell]\n",
    "    cell = cell+1"
   ]
  },
  {
   "cell_type": "code",
   "execution_count": 42,
   "id": "c32f216b",
   "metadata": {},
   "outputs": [
    {
     "ename": "NameError",
     "evalue": "name 'cellFeatures_testS_ev1' is not defined",
     "output_type": "error",
     "traceback": [
      "\u001b[0;31m---------------------------------------------------------------------------\u001b[0m",
      "\u001b[0;31mNameError\u001b[0m                                 Traceback (most recent call last)",
      "Input \u001b[0;32mIn [42]\u001b[0m, in \u001b[0;36m<cell line: 5>\u001b[0;34m()\u001b[0m\n\u001b[1;32m      3\u001b[0m     dset \u001b[38;5;241m=\u001b[39m f\u001b[38;5;241m.\u001b[39mcreate_dataset(\u001b[38;5;124m\"\u001b[39m\u001b[38;5;124mcellFeaturesScaled\u001b[39m\u001b[38;5;124m\"\u001b[39m, data \u001b[38;5;241m=\u001b[39m cellFeaturesScaled)\n\u001b[1;32m      5\u001b[0m \u001b[38;5;28;01mwith\u001b[39;00m h5py\u001b[38;5;241m.\u001b[39mFile(\u001b[38;5;124m'\u001b[39m\u001b[38;5;124m./cellFeaturesScaled_ev1.hdf5\u001b[39m\u001b[38;5;124m'\u001b[39m, \u001b[38;5;124m'\u001b[39m\u001b[38;5;124mw\u001b[39m\u001b[38;5;124m'\u001b[39m) \u001b[38;5;28;01mas\u001b[39;00m f: \n\u001b[0;32m----> 6\u001b[0m     dset \u001b[38;5;241m=\u001b[39m f\u001b[38;5;241m.\u001b[39mcreate_dataset(\u001b[38;5;124m\"\u001b[39m\u001b[38;5;124mcellFeaturesScaled\u001b[39m\u001b[38;5;124m\"\u001b[39m, data \u001b[38;5;241m=\u001b[39m \u001b[43mcellFeatures_testS_ev1\u001b[49m)\n",
      "\u001b[0;31mNameError\u001b[0m: name 'cellFeatures_testS_ev1' is not defined"
     ]
    }
   ],
   "source": [
    "# creating Scaled Cell Feature file\n",
    "with h5py.File('./cellFeaturesScaled.hdf5', 'w') as f: \n",
    "    dset = f.create_dataset(\"cellFeaturesScaled\", data = cellFeaturesScaled)\n",
    "    \n",
    "with h5py.File('./cellFeaturesScaled_ev1.hdf5', 'w') as f: \n",
    "    dset = f.create_dataset(\"cellFeaturesScaled\", data = cellFeatures_testS_ev1)"
   ]
  },
  {
   "cell_type": "code",
   "execution_count": null,
   "id": "8e9c9f5e",
   "metadata": {},
   "outputs": [],
   "source": []
  },
  {
   "cell_type": "markdown",
   "id": "a5e73c44",
   "metadata": {},
   "source": [
    "## Preparing pairwise features"
   ]
  },
  {
   "cell_type": "code",
   "execution_count": 43,
   "id": "b6c83711",
   "metadata": {},
   "outputs": [],
   "source": [
    "# Train feature pairs\n",
    "pair_features_train =[]\n",
    "for pair in total_indices_train:\n",
    "    pair_features_train.append((cellFeaturesScaled[pair[0]],\\\n",
    "                          cellFeaturesScaled[pair[1]]))"
   ]
  },
  {
   "cell_type": "code",
   "execution_count": 44,
   "id": "dd64a12d",
   "metadata": {},
   "outputs": [
    {
     "data": {
      "text/plain": [
       "(array([7.05564724e-01, 4.69600971e-01, 2.61258294e-01, 3.46799460e-01,\n",
       "        4.76682711e-01, 4.34782609e-02, 1.99983229e-04, 1.65355553e-01]),\n",
       " array([7.07529058e-01, 4.90033260e-01, 2.66297121e-01, 3.48760830e-01,\n",
       "        4.92344469e-01, 4.34782609e-02, 1.83149582e-04, 1.65607871e-01]))"
      ]
     },
     "execution_count": 44,
     "metadata": {},
     "output_type": "execute_result"
    }
   ],
   "source": [
    "pair_features_train[0]"
   ]
  },
  {
   "cell_type": "code",
   "execution_count": 45,
   "id": "701055d0",
   "metadata": {},
   "outputs": [],
   "source": [
    "# Convert data to PyTorch tensors\n",
    "pairs = [(torch.Tensor(pair[0]), torch.Tensor(pair[1])) for pair in pair_features_train]\n",
    "labels = torch.tensor(truth_label_train, dtype=torch.float32)"
   ]
  },
  {
   "cell_type": "code",
   "execution_count": 47,
   "id": "891402cd",
   "metadata": {},
   "outputs": [],
   "source": [
    "# Test feature pairs\n",
    "pair_features_test =[]\n",
    "for pair in total_indices_test:\n",
    "    pair_features_test.append((cellFeaturesScaled[pair[0]],\\\n",
    "                          cellFeaturesScaled[pair[1]]))"
   ]
  },
  {
   "cell_type": "code",
   "execution_count": 48,
   "id": "56396c20",
   "metadata": {},
   "outputs": [],
   "source": [
    "# Convert data to PyTorch tensors\n",
    "testPairs = [(torch.Tensor(pair[0]), torch.Tensor(pair[1])) for pair in pair_features_test]\n",
    "testLabels = torch.tensor(truth_label_test, dtype=torch.float32)"
   ]
  },
  {
   "cell_type": "markdown",
   "id": "b433481d",
   "metadata": {},
   "source": [
    "### Making Pytorch specific dataset and Network and Loss"
   ]
  },
  {
   "cell_type": "code",
   "execution_count": 50,
   "id": "8647a419",
   "metadata": {},
   "outputs": [],
   "source": [
    "# Custom dataset for pairwise training\n",
    "class SiameseDataset(Dataset):\n",
    "    def __init__(self, data, labels, transform=None):\n",
    "        self.data = data\n",
    "        self.labels = labels\n",
    "        self.transform = transform\n",
    "\n",
    "    def __len__(self):\n",
    "        return len(self.data)\n",
    "\n",
    "    def __getitem__(self, index):\n",
    "        pair = (self.data[index][0], self.data[index][1])\n",
    "        label = torch.tensor(self.labels[index], dtype=torch.float32)\n",
    "\n",
    "        if self.transform:\n",
    "            pair = (self.transform(pair[0]), self.transform(pair[1]))\n",
    "\n",
    "        return pair, label\n"
   ]
  },
  {
   "cell_type": "code",
   "execution_count": 51,
   "id": "b02cb662",
   "metadata": {},
   "outputs": [],
   "source": [
    "# taking fewer training sample to resolve exploding network weight\n",
    "pairs_50k = pairs[:]\n",
    "labels_50k = labels[:]"
   ]
  },
  {
   "cell_type": "code",
   "execution_count": 81,
   "id": "9df988b8",
   "metadata": {},
   "outputs": [],
   "source": [
    "#pairs_50k"
   ]
  },
  {
   "cell_type": "code",
   "execution_count": 81,
   "id": "b3faf977",
   "metadata": {},
   "outputs": [],
   "source": [
    "class SiameseNetwork(nn.Module):\n",
    "    def __init__(self, input_size):\n",
    "        super(SiameseNetwork, self).__init__()\n",
    "\n",
    "        # Define the architecture for one branch of the Siamese network\n",
    "        self.branch = nn.Sequential(\n",
    "            nn.Linear(input_size, 128),\n",
    "            #nn.BatchNorm1d(128),\n",
    "            nn.ReLU(inplace=True),\n",
    "            nn.Linear(128, 128),\n",
    "            #nn.BatchNorm1d(128),\n",
    "            nn.ReLU(inplace=True),\n",
    "            nn.Linear(128, 128),\n",
    "            #nn.BatchNorm1d(128),\n",
    "            nn.ReLU(inplace=True),\n",
    "            nn.Linear(128, 64),\n",
    "            #nn.BatchNorm1d(64),\n",
    "            nn.ReLU(inplace=True),\n",
    "            nn.Linear(64, 32),\n",
    "            #nn.BatchNorm1d(32),\n",
    "            nn.ReLU(inplace=True),\n",
    "            nn.Linear(32, 16),\n",
    "        )\n",
    "\n",
    "    def forward_one(self, x):\n",
    "        # Forward pass for one branch of the Siamese network\n",
    "        return self.branch(x)\n",
    "\n",
    "    def forward(self, input1, input2):\n",
    "        # Forward pass for both branches of the Siamese network\n",
    "        output1 = self.forward_one(input1)\n",
    "        output2 = self.forward_one(input2)\n",
    "        return output1, output2"
   ]
  },
  {
   "cell_type": "code",
   "execution_count": 82,
   "id": "d3c45d08",
   "metadata": {},
   "outputs": [],
   "source": [
    "input_size = 8# Adjust this based on your input data size\n",
    "#hidden_size = 32  # You can customize this based on your task\n",
    "\n",
    "# Create a Siamese network\n",
    "siamese_net = SiameseNetwork(input_size)\n",
    "\n",
    "# Create a pairwise hinge loss criterion\n",
    "#criterion = PairwiseHingeLoss()\n",
    "\n",
    "# Set up data loaders\n",
    "#transform = transforms.Compose([transforms.ToTensor()])\n",
    "#dataset = SiameseDataset(data=pairs, labels=labels, transform=transform)\n",
    "dataset = SiameseDataset(data=pairs_50k, labels=labels_50k)\n",
    "dataloader = DataLoader(dataset, batch_size=1024, shuffle=True)\n",
    "\n",
    "testDataset = SiameseDataset(data=testPairs, labels=testLabels)\n",
    "testDataloader = DataLoader(testDataset, batch_size=300000, shuffle=False)\n",
    "\n",
    "#ev1Dataset = SiameseDataset(data=ev1Pairs, labels=ev1Labels)\n",
    "#ev1Dataloader = DataLoader(ev1Dataset, batch_size=950580, shuffle=False)"
   ]
  },
  {
   "cell_type": "markdown",
   "id": "e5830a68",
   "metadata": {},
   "source": [
    "## Analysis of test Data before training in 8D space"
   ]
  },
  {
   "cell_type": "code",
   "execution_count": 83,
   "id": "3ff3d718",
   "metadata": {},
   "outputs": [
    {
     "name": "stderr",
     "output_type": "stream",
     "text": [
      "/var/folders/k8/cklb1sxj1p35mft4gbkymsc091k_dc/T/ipykernel_94884/98518432.py:13: UserWarning: To copy construct from a tensor, it is recommended to use sourceTensor.clone().detach() or sourceTensor.clone().detach().requires_grad_(True), rather than torch.tensor(sourceTensor).\n",
      "  label = torch.tensor(self.labels[index], dtype=torch.float32)\n"
     ]
    }
   ],
   "source": [
    "# Distance of test sample before training\n",
    "testDist = []\n",
    "testLabel = []\n",
    "for batch in testDataloader:\n",
    "        inputs, target = batch\n",
    "        input1, input2 = inputs\n",
    "\n",
    "        # Forward pass\n",
    "        #output1, output2 = siamese_net(input1, input2)\n",
    "        distances = torch.pairwise_distance(input1, input2)\n",
    "        testDist.append(distances)\n",
    "        testLabel.append(target)"
   ]
  },
  {
   "cell_type": "code",
   "execution_count": 84,
   "id": "c61c24f2",
   "metadata": {},
   "outputs": [],
   "source": [
    "distArray_b4 = testDist[0].detach().numpy()\n",
    "labelArray_b4 = testLabel[0].detach().numpy()"
   ]
  },
  {
   "cell_type": "code",
   "execution_count": 85,
   "id": "b880c1bb",
   "metadata": {},
   "outputs": [],
   "source": [
    "simCells_b4 = [i for i in range(len(labelArray_b4)) if labelArray_b4[i]==1]\n",
    "asimCells_b4 = [i for i in range(len(labelArray_b4)) if labelArray_b4[i]==-1]\n",
    "simArray_b4 = distArray_b4[simCells_b4]\n",
    "asimArray_b4 = distArray_b4[asimCells_b4]"
   ]
  },
  {
   "cell_type": "code",
   "execution_count": 86,
   "id": "7e27520b",
   "metadata": {},
   "outputs": [
    {
     "data": {
      "image/png": "[encoded data removed]",
      "text/plain": [
       "<Figure size 432x288 with 1 Axes>"
      ]
     },
     "metadata": {
      "needs_background": "light"
     },
     "output_type": "display_data"
    }
   ],
   "source": [
    "plt.hist(simArray_b4, bins = 100)\n",
    "plt.yscale(\"log\")\n",
    "#plt.xlim(0,0.1)\n",
    "plt.show()"
   ]
  },
  {
   "cell_type": "code",
   "execution_count": 87,
   "id": "cb98bf1a",
   "metadata": {},
   "outputs": [
    {
     "data": {
      "text/plain": [
       "1.0048507"
      ]
     },
     "execution_count": 87,
     "metadata": {},
     "output_type": "execute_result"
    }
   ],
   "source": [
    "max(simArray_b4)"
   ]
  },
  {
   "cell_type": "code",
   "execution_count": 88,
   "id": "3c9507b3",
   "metadata": {},
   "outputs": [
    {
     "data": {
      "image/png": "[encoded data removed]",
      "text/plain": [
       "<Figure size 432x288 with 1 Axes>"
      ]
     },
     "metadata": {
      "needs_background": "light"
     },
     "output_type": "display_data"
    }
   ],
   "source": [
    "plt.hist(asimArray_b4, bins=100)\n",
    "plt.yscale(\"log\")\n",
    "#plt.xlim(0,0.1)\n",
    "plt.show()"
   ]
  },
  {
   "cell_type": "code",
   "execution_count": 89,
   "id": "3b69ef79",
   "metadata": {},
   "outputs": [
    {
     "data": {
      "image/png": "[encoded data removed]",
      "text/plain": [
       "<Figure size 432x288 with 1 Axes>"
      ]
     },
     "metadata": {
      "needs_background": "light"
     },
     "output_type": "display_data"
    }
   ],
   "source": [
    "plt.hist(asimArray_b4, bins=100)\n",
    "plt.yscale(\"log\")\n",
    "plt.xlim(0,0.5)\n",
    "plt.show()"
   ]
  },
  {
   "cell_type": "code",
   "execution_count": 95,
   "id": "e038c057",
   "metadata": {},
   "outputs": [
    {
     "data": {
      "text/plain": [
       "300000"
      ]
     },
     "execution_count": 95,
     "metadata": {},
     "output_type": "execute_result"
    }
   ],
   "source": [
    "len(total_indices_test)"
   ]
  },
  {
   "cell_type": "code",
   "execution_count": 96,
   "id": "d6a12249",
   "metadata": {},
   "outputs": [
    {
     "data": {
      "text/plain": [
       "300000"
      ]
     },
     "execution_count": 96,
     "metadata": {},
     "output_type": "execute_result"
    }
   ],
   "source": [
    "len(testLabel[0])"
   ]
  },
  {
   "cell_type": "code",
   "execution_count": 97,
   "id": "9a802f96",
   "metadata": {},
   "outputs": [
    {
     "data": {
      "text/plain": [
       "150505"
      ]
     },
     "execution_count": 97,
     "metadata": {},
     "output_type": "execute_result"
    }
   ],
   "source": [
    "nopairIndex = total_indices_test[asimCells_b4]\n",
    "len(nopairIndex)"
   ]
  },
  {
   "cell_type": "code",
   "execution_count": 98,
   "id": "9dadd5ac",
   "metadata": {},
   "outputs": [
    {
     "data": {
      "text/plain": [
       "150505"
      ]
     },
     "execution_count": 98,
     "metadata": {},
     "output_type": "execute_result"
    }
   ],
   "source": [
    "len(asimArray_b4)"
   ]
  },
  {
   "cell_type": "code",
   "execution_count": 99,
   "id": "9a6cf516",
   "metadata": {},
   "outputs": [],
   "source": [
    "asym_sort_index_b4 = sorted(range(len(asimArray_b4)), key=lambda k: asimArray_b4[k])"
   ]
  },
  {
   "cell_type": "code",
   "execution_count": 100,
   "id": "65d3ccb9",
   "metadata": {},
   "outputs": [],
   "source": [
    "sym_sort_index_b4 = sorted(range(len(simArray_b4)), key=lambda k: simArray_b4[k])"
   ]
  },
  {
   "cell_type": "code",
   "execution_count": 101,
   "id": "920de418",
   "metadata": {},
   "outputs": [],
   "source": [
    "asimArray_b4_sorted = asimArray_b4[asym_sort_index_b4]\n",
    "simArray_b4_sorted = simArray_b4[sym_sort_index_b4]\n",
    "nopairIndex_sorted = nopairIndex[asym_sort_index_b4]"
   ]
  },
  {
   "cell_type": "code",
   "execution_count": 102,
   "id": "923b0f73",
   "metadata": {},
   "outputs": [],
   "source": [
    "asimArray_b4_sorted_100 = asimArray_b4_sorted[:100]"
   ]
  },
  {
   "cell_type": "code",
   "execution_count": 103,
   "id": "40bdb1e0",
   "metadata": {},
   "outputs": [
    {
     "data": {
      "image/png": "[encoded data removed]",
      "text/plain": [
       "<Figure size 432x288 with 1 Axes>"
      ]
     },
     "metadata": {
      "needs_background": "light"
     },
     "output_type": "display_data"
    }
   ],
   "source": [
    "plt.plot(simArray_b4_sorted)\n",
    "#plt.yscale(\"log\")\n",
    "#plt.xlim(0,0.5)\n",
    "plt.show()"
   ]
  },
  {
   "cell_type": "code",
   "execution_count": 104,
   "id": "26fe02ed",
   "metadata": {},
   "outputs": [
    {
     "name": "stdout",
     "output_type": "stream",
     "text": [
      "SiameseNetwork(\n",
      "  (branch): Sequential(\n",
      "    (0): Linear(in_features=8, out_features=128, bias=True)\n",
      "    (1): ReLU(inplace=True)\n",
      "    (2): Linear(in_features=128, out_features=128, bias=True)\n",
      "    (3): ReLU(inplace=True)\n",
      "    (4): Linear(in_features=128, out_features=128, bias=True)\n",
      "    (5): ReLU(inplace=True)\n",
      "    (6): Linear(in_features=128, out_features=64, bias=True)\n",
      "    (7): ReLU(inplace=True)\n",
      "    (8): Linear(in_features=64, out_features=32, bias=True)\n",
      "    (9): ReLU(inplace=True)\n",
      "    (10): Linear(in_features=32, out_features=16, bias=True)\n",
      "  )\n",
      ")\n"
     ]
    }
   ],
   "source": [
    "print(siamese_net)"
   ]
  },
  {
   "cell_type": "code",
   "execution_count": 105,
   "id": "d18ea96d",
   "metadata": {},
   "outputs": [
    {
     "data": {
      "text/plain": [
       "684"
      ]
     },
     "execution_count": 105,
     "metadata": {},
     "output_type": "execute_result"
    }
   ],
   "source": [
    "len(dataloader)"
   ]
  },
  {
   "cell_type": "code",
   "execution_count": 76,
   "id": "a8841c0b",
   "metadata": {},
   "outputs": [],
   "source": [
    "#dataset.data"
   ]
  },
  {
   "cell_type": "code",
   "execution_count": 106,
   "id": "b4a9953f",
   "metadata": {},
   "outputs": [],
   "source": [
    "# Set up optimizer\n",
    "optimizer = optim.Adam(siamese_net.parameters(), lr=0.001)"
   ]
  },
  {
   "cell_type": "code",
   "execution_count": 107,
   "id": "5153a3b3",
   "metadata": {},
   "outputs": [],
   "source": [
    "# Accuracy calculation function\n",
    "def calculate_accuracy(output1, output2, target, threshold=1):\n",
    "    distances = nn.functional.pairwise_distance(output1, output2)\n",
    "    #print(\"distances: \",distances)\n",
    "    predictions = (distances < threshold).float()\n",
    "    #print(\"predictions: \",predictions)\n",
    "    #print(\"target: \",target)\n",
    "    correct_predictions = (predictions == target).float()\n",
    "    #print(\"correct_predictions: \",correct_predictions)\n",
    "    accuracy = correct_predictions.mean().item()\n",
    "    #print(\"accuracy: \",accuracy)\n",
    "    return accuracy"
   ]
  },
  {
   "cell_type": "code",
   "execution_count": 108,
   "id": "8586c258",
   "metadata": {},
   "outputs": [],
   "source": [
    "# Margin for hinge loss\n",
    "margin = 1\n",
    "\n",
    "# Define the Hinge Embedding Loss\n",
    "hinge_loss = nn.HingeEmbeddingLoss(margin=margin)"
   ]
  },
  {
   "cell_type": "code",
   "execution_count": 109,
   "id": "68ce6423",
   "metadata": {},
   "outputs": [
    {
     "name": "stderr",
     "output_type": "stream",
     "text": [
      "/var/folders/k8/cklb1sxj1p35mft4gbkymsc091k_dc/T/ipykernel_94884/98518432.py:13: UserWarning: To copy construct from a tensor, it is recommended to use sourceTensor.clone().detach() or sourceTensor.clone().detach().requires_grad_(True), rather than torch.tensor(sourceTensor).\n",
      "  label = torch.tensor(self.labels[index], dtype=torch.float32)\n"
     ]
    },
    {
     "name": "stdout",
     "output_type": "stream",
     "text": [
      "Epoch [1/100], Avg Loss: 0.0763, Avg Accuracy: 0.4982\n",
      "Epoch [2/100], Avg Loss: 0.0532, Avg Accuracy: 0.5006\n",
      "Epoch [3/100], Avg Loss: 0.0485, Avg Accuracy: 0.5006\n",
      "Epoch [4/100], Avg Loss: 0.0431, Avg Accuracy: 0.5006\n",
      "Epoch [5/100], Avg Loss: 0.0383, Avg Accuracy: 0.5006\n",
      "Epoch [6/100], Avg Loss: 0.0352, Avg Accuracy: 0.5005\n",
      "Epoch [7/100], Avg Loss: 0.0330, Avg Accuracy: 0.5005\n",
      "Epoch [8/100], Avg Loss: 0.0312, Avg Accuracy: 0.5005\n",
      "Epoch [9/100], Avg Loss: 0.0297, Avg Accuracy: 0.5004\n",
      "Epoch [10/100], Avg Loss: 0.0290, Avg Accuracy: 0.5005\n",
      "Epoch [11/100], Avg Loss: 0.0282, Avg Accuracy: 0.5005\n",
      "Epoch [12/100], Avg Loss: 0.0269, Avg Accuracy: 0.5005\n",
      "Epoch [13/100], Avg Loss: 0.0265, Avg Accuracy: 0.5005\n",
      "Epoch [14/100], Avg Loss: 0.0258, Avg Accuracy: 0.5005\n",
      "Epoch [15/100], Avg Loss: 0.0254, Avg Accuracy: 0.5005\n",
      "Epoch [16/100], Avg Loss: 0.0246, Avg Accuracy: 0.5005\n",
      "Epoch [17/100], Avg Loss: 0.0242, Avg Accuracy: 0.5006\n",
      "Epoch [18/100], Avg Loss: 0.0238, Avg Accuracy: 0.5005\n",
      "Epoch [19/100], Avg Loss: 0.0237, Avg Accuracy: 0.5005\n",
      "Epoch [20/100], Avg Loss: 0.0230, Avg Accuracy: 0.5005\n",
      "Epoch [21/100], Avg Loss: 0.0226, Avg Accuracy: 0.5005\n",
      "Epoch [22/100], Avg Loss: 0.0223, Avg Accuracy: 0.5005\n",
      "Epoch [23/100], Avg Loss: 0.0219, Avg Accuracy: 0.5006\n",
      "Epoch [24/100], Avg Loss: 0.0215, Avg Accuracy: 0.5005\n",
      "Epoch [25/100], Avg Loss: 0.0210, Avg Accuracy: 0.5005\n",
      "Epoch [26/100], Avg Loss: 0.0207, Avg Accuracy: 0.5006\n",
      "Epoch [27/100], Avg Loss: 0.0204, Avg Accuracy: 0.5005\n",
      "Epoch [28/100], Avg Loss: 0.0202, Avg Accuracy: 0.5006\n",
      "Epoch [29/100], Avg Loss: 0.0200, Avg Accuracy: 0.5005\n",
      "Epoch [30/100], Avg Loss: 0.0197, Avg Accuracy: 0.5006\n",
      "Epoch [31/100], Avg Loss: 0.0195, Avg Accuracy: 0.5006\n",
      "Epoch [32/100], Avg Loss: 0.0192, Avg Accuracy: 0.5005\n",
      "Epoch [33/100], Avg Loss: 0.0191, Avg Accuracy: 0.5006\n",
      "Epoch [34/100], Avg Loss: 0.0186, Avg Accuracy: 0.5006\n",
      "Epoch [35/100], Avg Loss: 0.0185, Avg Accuracy: 0.5006\n",
      "Epoch [36/100], Avg Loss: 0.0184, Avg Accuracy: 0.5006\n",
      "Epoch [37/100], Avg Loss: 0.0181, Avg Accuracy: 0.5005\n",
      "Epoch [38/100], Avg Loss: 0.0179, Avg Accuracy: 0.5006\n",
      "Epoch [39/100], Avg Loss: 0.0178, Avg Accuracy: 0.5006\n",
      "Epoch [40/100], Avg Loss: 0.0176, Avg Accuracy: 0.5005\n",
      "Epoch [41/100], Avg Loss: 0.0175, Avg Accuracy: 0.5005\n",
      "Epoch [42/100], Avg Loss: 0.0175, Avg Accuracy: 0.5006\n",
      "Epoch [43/100], Avg Loss: 0.0173, Avg Accuracy: 0.5005\n",
      "Epoch [44/100], Avg Loss: 0.0170, Avg Accuracy: 0.5006\n",
      "Epoch [45/100], Avg Loss: 0.0170, Avg Accuracy: 0.5006\n",
      "Epoch [46/100], Avg Loss: 0.0167, Avg Accuracy: 0.5006\n",
      "Epoch [47/100], Avg Loss: 0.0165, Avg Accuracy: 0.5006\n",
      "Epoch [48/100], Avg Loss: 0.0165, Avg Accuracy: 0.5006\n",
      "Epoch [49/100], Avg Loss: 0.0161, Avg Accuracy: 0.5006\n",
      "Epoch [50/100], Avg Loss: 0.0162, Avg Accuracy: 0.5006\n",
      "Epoch [51/100], Avg Loss: 0.0157, Avg Accuracy: 0.5006\n",
      "Epoch [52/100], Avg Loss: 0.0155, Avg Accuracy: 0.5006\n",
      "Epoch [53/100], Avg Loss: 0.0156, Avg Accuracy: 0.5006\n",
      "Epoch [54/100], Avg Loss: 0.0152, Avg Accuracy: 0.5006\n",
      "Epoch [55/100], Avg Loss: 0.0154, Avg Accuracy: 0.5006\n",
      "Epoch [56/100], Avg Loss: 0.0153, Avg Accuracy: 0.5006\n",
      "Epoch [57/100], Avg Loss: 0.0150, Avg Accuracy: 0.5006\n",
      "Epoch [58/100], Avg Loss: 0.0145, Avg Accuracy: 0.5006\n",
      "Epoch [59/100], Avg Loss: 0.0143, Avg Accuracy: 0.5006\n",
      "Epoch [60/100], Avg Loss: 0.0148, Avg Accuracy: 0.5006\n",
      "Epoch [61/100], Avg Loss: 0.0143, Avg Accuracy: 0.5006\n",
      "Epoch [62/100], Avg Loss: 0.0142, Avg Accuracy: 0.5006\n",
      "Epoch [63/100], Avg Loss: 0.0141, Avg Accuracy: 0.5006\n",
      "Epoch [64/100], Avg Loss: 0.0143, Avg Accuracy: 0.5006\n",
      "Epoch [65/100], Avg Loss: 0.0142, Avg Accuracy: 0.5006\n",
      "Epoch [66/100], Avg Loss: 0.0138, Avg Accuracy: 0.5006\n",
      "Epoch [67/100], Avg Loss: 0.0138, Avg Accuracy: 0.5006\n",
      "Epoch [68/100], Avg Loss: 0.0137, Avg Accuracy: 0.5006\n",
      "Epoch [69/100], Avg Loss: 0.0138, Avg Accuracy: 0.5006\n",
      "Epoch [70/100], Avg Loss: 0.0134, Avg Accuracy: 0.5006\n",
      "Epoch [71/100], Avg Loss: 0.0137, Avg Accuracy: 0.5006\n",
      "Epoch [72/100], Avg Loss: 0.0135, Avg Accuracy: 0.5006\n",
      "Epoch [73/100], Avg Loss: 0.0133, Avg Accuracy: 0.5006\n",
      "Epoch [74/100], Avg Loss: 0.0134, Avg Accuracy: 0.5006\n",
      "Epoch [75/100], Avg Loss: 0.0134, Avg Accuracy: 0.5006\n",
      "Epoch [76/100], Avg Loss: 0.0132, Avg Accuracy: 0.5006\n",
      "Epoch [77/100], Avg Loss: 0.0132, Avg Accuracy: 0.5006\n",
      "Epoch [78/100], Avg Loss: 0.0132, Avg Accuracy: 0.5006\n",
      "Epoch [79/100], Avg Loss: 0.0130, Avg Accuracy: 0.5006\n",
      "Epoch [80/100], Avg Loss: 0.0129, Avg Accuracy: 0.5006\n",
      "Epoch [81/100], Avg Loss: 0.0130, Avg Accuracy: 0.5006\n",
      "Epoch [82/100], Avg Loss: 0.0128, Avg Accuracy: 0.5006\n",
      "Epoch [83/100], Avg Loss: 0.0126, Avg Accuracy: 0.5006\n",
      "Epoch [84/100], Avg Loss: 0.0129, Avg Accuracy: 0.5006\n",
      "Epoch [85/100], Avg Loss: 0.0130, Avg Accuracy: 0.5006\n",
      "Epoch [86/100], Avg Loss: 0.0126, Avg Accuracy: 0.5006\n",
      "Epoch [87/100], Avg Loss: 0.0127, Avg Accuracy: 0.5006\n",
      "Epoch [88/100], Avg Loss: 0.0127, Avg Accuracy: 0.5006\n",
      "Epoch [89/100], Avg Loss: 0.0127, Avg Accuracy: 0.5006\n",
      "Epoch [90/100], Avg Loss: 0.0127, Avg Accuracy: 0.5006\n",
      "Epoch [91/100], Avg Loss: 0.0124, Avg Accuracy: 0.5006\n",
      "Epoch [92/100], Avg Loss: 0.0123, Avg Accuracy: 0.5006\n",
      "Epoch [93/100], Avg Loss: 0.0122, Avg Accuracy: 0.5006\n",
      "Epoch [94/100], Avg Loss: 0.0122, Avg Accuracy: 0.5006\n",
      "Epoch [95/100], Avg Loss: 0.0123, Avg Accuracy: 0.5006\n",
      "Epoch [96/100], Avg Loss: 0.0119, Avg Accuracy: 0.5006\n",
      "Epoch [97/100], Avg Loss: 0.0121, Avg Accuracy: 0.5006\n",
      "Epoch [98/100], Avg Loss: 0.0121, Avg Accuracy: 0.5006\n",
      "Epoch [99/100], Avg Loss: 0.0119, Avg Accuracy: 0.5006\n",
      "Epoch [100/100], Avg Loss: 0.0121, Avg Accuracy: 0.5006\n"
     ]
    }
   ],
   "source": [
    "# Training loop\n",
    "Loss =[]\n",
    "Accuracy =[]\n",
    "num_epochs = 100\n",
    "for epoch in range(num_epochs):\n",
    "    total_loss = 0.0\n",
    "    total_accuracy = 0.0\n",
    "    for batch in dataloader:\n",
    "        inputs, target = batch\n",
    "        input1, input2 = inputs\n",
    "\n",
    "        # Forward pass\n",
    "        output1, output2 = siamese_net(input1, input2)\n",
    "        distances = torch.pairwise_distance(output1, output2)\n",
    "        #print(\"output1: \",output1)\n",
    "        #print(\"output2: \",output2)\n",
    "        #print(\"distances: \", distances)\n",
    "        #print(\"target: \", target)\n",
    "        loss = hinge_loss(distances, target)\n",
    "        #print(\"loss: \",loss)\n",
    "        #loss = criterion(output1, output2, target)\n",
    "        accuracy = calculate_accuracy(output1, output2, target)\n",
    "        #correct_order = (distances * target > 0).sum().item()\n",
    "        # Backward pass and optimization\n",
    "        optimizer.zero_grad()\n",
    "        torch.nn.utils.clip_grad_norm_(siamese_net.parameters(), max_norm=1.0)\n",
    "        loss.backward()\n",
    "        optimizer.step()\n",
    "        \n",
    "        total_loss += loss.item()\n",
    "        \n",
    "        total_accuracy += accuracy\n",
    "    #Loss.append(loss.item())\n",
    "    #print(\"total_loss: \",total_loss)\n",
    "    avg_loss = total_loss / len(dataloader)\n",
    "    Loss.append(avg_loss)\n",
    "    avg_accuracy = total_accuracy / len(dataloader)\n",
    "    Accuracy.append(avg_accuracy)\n",
    "    #print(f'Epoch [{epoch+1}/{num_epochs}], Loss: {loss.item():.4f}')\n",
    "    print(f'Epoch [{epoch+1}/{num_epochs}], Avg Loss: {avg_loss:.4f}, Avg Accuracy: {avg_accuracy:.4f}')"
   ]
  },
  {
   "cell_type": "code",
   "execution_count": 110,
   "id": "f8ea2870",
   "metadata": {},
   "outputs": [
    {
     "data": {
      "image/png": "[encoded data removed]",
      "text/plain": [
       "<Figure size 432x288 with 1 Axes>"
      ]
     },
     "metadata": {
      "needs_background": "light"
     },
     "output_type": "display_data"
    }
   ],
   "source": [
    "plt.plot(Loss)\n",
    "plt.show()"
   ]
  },
  {
   "cell_type": "code",
   "execution_count": 111,
   "id": "a2e98a15",
   "metadata": {},
   "outputs": [],
   "source": [
    "path = \"/Users/bakshiguptad/ML/MLBasedCaloClusteringPipeLine/siamese_net.pth\"\n",
    "torch.save(siamese_net, path)"
   ]
  },
  {
   "cell_type": "markdown",
   "id": "023db3f6",
   "metadata": {},
   "source": [
    "## Analysis of test Data before training in 16D space"
   ]
  },
  {
   "cell_type": "code",
   "execution_count": 287,
   "id": "9377ea1d",
   "metadata": {},
   "outputs": [],
   "source": [
    "input_size = 8\n",
    "path = \"/Users/bakshiguptad/ML/MLBasedCaloClusteringPipeLine/siamese_net.pth\"\n",
    "model = SiameseNetwork(input_size)\n",
    "#model.load(torch.load(path))\n",
    "model = torch.load(path)"
   ]
  },
  {
   "cell_type": "code",
   "execution_count": 288,
   "id": "d8f546f3",
   "metadata": {},
   "outputs": [
    {
     "name": "stderr",
     "output_type": "stream",
     "text": [
      "/var/folders/k8/cklb1sxj1p35mft4gbkymsc091k_dc/T/ipykernel_67354/98518432.py:13: UserWarning: To copy construct from a tensor, it is recommended to use sourceTensor.clone().detach() or sourceTensor.clone().detach().requires_grad_(True), rather than torch.tensor(sourceTensor).\n",
      "  label = torch.tensor(self.labels[index], dtype=torch.float32)\n"
     ]
    }
   ],
   "source": [
    "dist = []\n",
    "label = []\n",
    "for batch in testDataloader:\n",
    "        inputs, target = batch\n",
    "        input1, input2 = inputs\n",
    "\n",
    "        # Forward pass\n",
    "        #output1, output2 = siamese_net(input1, input2)\n",
    "        output1, output2 = model(input1, input2)\n",
    "        distances = torch.pairwise_distance(output1, output2)\n",
    "        dist.append(distances)\n",
    "        label.append(target)"
   ]
  },
  {
   "cell_type": "code",
   "execution_count": 289,
   "id": "9ec60ab9",
   "metadata": {},
   "outputs": [
    {
     "data": {
      "text/plain": [
       "1"
      ]
     },
     "execution_count": 289,
     "metadata": {},
     "output_type": "execute_result"
    }
   ],
   "source": [
    "len(dist)"
   ]
  },
  {
   "cell_type": "code",
   "execution_count": 290,
   "id": "aac656b7",
   "metadata": {},
   "outputs": [],
   "source": [
    "distArray = dist[0].detach().numpy()"
   ]
  },
  {
   "cell_type": "code",
   "execution_count": 291,
   "id": "a19d9c05",
   "metadata": {},
   "outputs": [],
   "source": [
    "labelArray = label[0].detach().numpy()"
   ]
  },
  {
   "cell_type": "code",
   "execution_count": 292,
   "id": "63ec3c11",
   "metadata": {},
   "outputs": [],
   "source": [
    "simCells = [i for i in range(len(labelArray)) if labelArray[i]==1]\n",
    "asimCells = [i for i in range(len(labelArray)) if labelArray[i]==-1]"
   ]
  },
  {
   "cell_type": "code",
   "execution_count": 293,
   "id": "a4a189ce",
   "metadata": {},
   "outputs": [],
   "source": [
    "#asimCells"
   ]
  },
  {
   "cell_type": "code",
   "execution_count": 294,
   "id": "7263045f",
   "metadata": {},
   "outputs": [],
   "source": [
    "simArray = distArray[simCells]\n",
    "asimArray = distArray[asimCells]"
   ]
  },
  {
   "cell_type": "code",
   "execution_count": 295,
   "id": "77b0e5c3",
   "metadata": {},
   "outputs": [
    {
     "data": {
      "text/plain": [
       "3.0386622"
      ]
     },
     "execution_count": 295,
     "metadata": {},
     "output_type": "execute_result"
    }
   ],
   "source": [
    "asimArray[105591]"
   ]
  },
  {
   "cell_type": "code",
   "execution_count": 296,
   "id": "82a774ab",
   "metadata": {},
   "outputs": [],
   "source": [
    "# asimilar pair\n",
    "asimTestCells = total_indices_test[asimCells]"
   ]
  },
  {
   "cell_type": "code",
   "execution_count": 297,
   "id": "1e9aa290",
   "metadata": {},
   "outputs": [
    {
     "data": {
      "text/plain": [
       "150508"
      ]
     },
     "execution_count": 297,
     "metadata": {},
     "output_type": "execute_result"
    }
   ],
   "source": [
    "len(asimArray)"
   ]
  },
  {
   "cell_type": "code",
   "execution_count": 298,
   "id": "61ff5e04",
   "metadata": {},
   "outputs": [
    {
     "data": {
      "text/plain": [
       "150508"
      ]
     },
     "execution_count": 298,
     "metadata": {},
     "output_type": "execute_result"
    }
   ],
   "source": [
    "len(asimTestCells)"
   ]
  },
  {
   "cell_type": "code",
   "execution_count": 299,
   "id": "8d51837d",
   "metadata": {},
   "outputs": [
    {
     "data": {
      "image/png": "[encoded data removed]",
      "text/plain": [
       "<Figure size 432x288 with 1 Axes>"
      ]
     },
     "metadata": {
      "needs_background": "light"
     },
     "output_type": "display_data"
    }
   ],
   "source": [
    "plt.hist(simArray, bins=100)\n",
    "plt.yscale(\"log\")\n",
    "#plt.xlim(0,0.1)\n",
    "plt.show()"
   ]
  },
  {
   "cell_type": "code",
   "execution_count": 300,
   "id": "6514f0b7",
   "metadata": {},
   "outputs": [
    {
     "data": {
      "image/png": "[encoded data removed]",
      "text/plain": [
       "<Figure size 432x288 with 1 Axes>"
      ]
     },
     "metadata": {
      "needs_background": "light"
     },
     "output_type": "display_data"
    }
   ],
   "source": [
    "plt.hist(asimArray, bins=100)\n",
    "plt.yscale(\"log\")\n",
    "plt.show()"
   ]
  },
  {
   "cell_type": "code",
   "execution_count": 301,
   "id": "c1233083",
   "metadata": {},
   "outputs": [
    {
     "data": {
      "image/png": "[encoded data removed]",
      "text/plain": [
       "<Figure size 432x288 with 1 Axes>"
      ]
     },
     "metadata": {
      "needs_background": "light"
     },
     "output_type": "display_data"
    }
   ],
   "source": [
    "plt.hist(simArray,  \n",
    "         alpha=0.5, # the transaparency parameter \n",
    "         label='true_pairs 16D',bins=100) \n",
    "  \n",
    "plt.hist(simArray_b4, \n",
    "         alpha=0.5, \n",
    "         label='true_pairs 8D',bins=100) \n",
    "  \n",
    "plt.legend(loc='upper right') \n",
    "plt.yscale(\"log\")\n",
    "plt.xlabel(\"distance\")\n",
    "plt.title('true pairs distance comparison b4 and after training') \n",
    "plt.show()"
   ]
  },
  {
   "cell_type": "code",
   "execution_count": 302,
   "id": "5a503bbe",
   "metadata": {},
   "outputs": [
    {
     "data": {
      "image/png": "[encoded data removed]",
      "text/plain": [
       "<Figure size 432x288 with 1 Axes>"
      ]
     },
     "metadata": {
      "needs_background": "light"
     },
     "output_type": "display_data"
    }
   ],
   "source": [
    "plt.hist(asimArray,  \n",
    "         alpha=0.5, # the transaparency parameter \n",
    "         label='false_pairs 16D',bins=100) \n",
    "  \n",
    "plt.hist(asimArray_b4, \n",
    "         alpha=0.5, \n",
    "         label='false_pairs 8D',bins=100) \n",
    "  \n",
    "plt.legend(loc='upper right') \n",
    "plt.yscale(\"log\")\n",
    "plt.xlabel(\"distance\")\n",
    "plt.title('false pairs distance comparison b4 and after training') \n",
    "plt.show()"
   ]
  },
  {
   "cell_type": "code",
   "execution_count": 303,
   "id": "65661644",
   "metadata": {},
   "outputs": [],
   "source": [
    "asimArray_sorted = asimArray[asym_sort_index_b4]\n",
    "simArray_sorted = simArray[sym_sort_index_b4]"
   ]
  },
  {
   "cell_type": "code",
   "execution_count": 304,
   "id": "a1751b96",
   "metadata": {},
   "outputs": [
    {
     "data": {
      "image/png": "[encoded data removed]",
      "text/plain": [
       "<Figure size 432x288 with 1 Axes>"
      ]
     },
     "metadata": {
      "needs_background": "light"
     },
     "output_type": "display_data"
    }
   ],
   "source": [
    "plt.plot(asimArray_sorted,  \n",
    "         #alpha=0.5, # the transaparency parameter \n",
    "         label='false_pairs 16D') \n",
    "  \n",
    "plt.plot(asimArray_b4_sorted, \n",
    "         #alpha=0.5, \n",
    "         label='false_pairs 8D') \n",
    "  \n",
    "plt.legend(loc='upper right') \n",
    "plt.yscale(\"log\")\n",
    "plt.ylabel(\"distance\")\n",
    "plt.xlabel(\"indices\")\n",
    "plt.title('false pairs sorted distance comparison b4 and after training') \n",
    "plt.show()"
   ]
  },
  {
   "cell_type": "code",
   "execution_count": 305,
   "id": "b021b6ef",
   "metadata": {},
   "outputs": [
    {
     "data": {
      "image/png": "[encoded data removed]",
      "text/plain": [
       "<Figure size 432x288 with 1 Axes>"
      ]
     },
     "metadata": {
      "needs_background": "light"
     },
     "output_type": "display_data"
    }
   ],
   "source": [
    "plt.plot(simArray_sorted,  \n",
    "         #alpha=0.5, # the transaparency parameter \n",
    "         label='true_pairs 16D') \n",
    "  \n",
    "plt.plot(simArray_b4_sorted, \n",
    "         #alpha=0.5, \n",
    "         label='true_pairs 8D') \n",
    "  \n",
    "plt.legend(loc='upper right') \n",
    "plt.yscale(\"log\")\n",
    "plt.ylabel(\"distance\")\n",
    "plt.xlabel(\"indices\")\n",
    "plt.title('true pairs sorted distance comparison b4 and after training') \n",
    "plt.show()"
   ]
  },
  {
   "cell_type": "code",
   "execution_count": 306,
   "id": "0f3dd83c",
   "metadata": {},
   "outputs": [
    {
     "name": "stderr",
     "output_type": "stream",
     "text": [
      "/var/folders/k8/cklb1sxj1p35mft4gbkymsc091k_dc/T/ipykernel_67354/98518432.py:13: UserWarning: To copy construct from a tensor, it is recommended to use sourceTensor.clone().detach() or sourceTensor.clone().detach().requires_grad_(True), rather than torch.tensor(sourceTensor).\n",
      "  label = torch.tensor(self.labels[index], dtype=torch.float32)\n"
     ]
    }
   ],
   "source": [
    "dist_ev1 = []\n",
    "label_ev1 = []\n",
    "for batch in ev1Dataloader:\n",
    "        inputs, target = batch\n",
    "        input1, input2 = inputs\n",
    "\n",
    "        # Forward pass\n",
    "        output1, output2 = model(input1, input2)\n",
    "        distances = torch.pairwise_distance(output1, output2)\n",
    "        dist_ev1.append(distances)\n",
    "        label_ev1.append(target)"
   ]
  },
  {
   "cell_type": "code",
   "execution_count": 307,
   "id": "c4f18695",
   "metadata": {},
   "outputs": [],
   "source": [
    "distArray_ev1 = dist_ev1[0].detach().numpy()\n",
    "labelArray_ev1 = label_ev1[0].detach().numpy()"
   ]
  },
  {
   "cell_type": "code",
   "execution_count": 308,
   "id": "9e21f3ca",
   "metadata": {},
   "outputs": [],
   "source": [
    "simCells_ev1 = [i for i in range(len(labelArray_ev1)) if labelArray_ev1[i]==1]\n",
    "asimCells_ev1 = [i for i in range(len(labelArray_ev1)) if labelArray_ev1[i]==-1]"
   ]
  },
  {
   "cell_type": "code",
   "execution_count": 309,
   "id": "44aff6dd",
   "metadata": {},
   "outputs": [],
   "source": [
    "simArray_ev1 = distArray_ev1[simCells_ev1]\n",
    "asimArray_ev1 = distArray_ev1[asimCells_ev1]"
   ]
  },
  {
   "cell_type": "code",
   "execution_count": 310,
   "id": "ee7391c9",
   "metadata": {},
   "outputs": [
    {
     "data": {
      "image/png": "[encoded data removed]",
      "text/plain": [
       "<Figure size 432x288 with 1 Axes>"
      ]
     },
     "metadata": {
      "needs_background": "light"
     },
     "output_type": "display_data"
    }
   ],
   "source": [
    "plt.hist(simArray_ev1, bins=100)\n",
    "plt.yscale(\"log\")\n",
    "#plt.xlim(0,0.1)\n",
    "plt.show()"
   ]
  },
  {
   "cell_type": "code",
   "execution_count": 311,
   "id": "e1d28ddb",
   "metadata": {},
   "outputs": [
    {
     "data": {
      "image/png": "[encoded data removed]",
      "text/plain": [
       "<Figure size 432x288 with 1 Axes>"
      ]
     },
     "metadata": {
      "needs_background": "light"
     },
     "output_type": "display_data"
    }
   ],
   "source": [
    "plt.hist(asimArray_ev1, bins=100)\n",
    "plt.yscale(\"log\")\n",
    "#plt.xlim(0,0.1)\n",
    "plt.show()"
   ]
  },
  {
   "cell_type": "code",
   "execution_count": 205,
   "id": "2c6870cf",
   "metadata": {},
   "outputs": [
    {
     "data": {
      "text/plain": [
       "(187652, 8)"
      ]
     },
     "execution_count": 205,
     "metadata": {},
     "output_type": "execute_result"
    }
   ],
   "source": [
    "cellFeatures.shape"
   ]
  },
  {
   "cell_type": "code",
   "execution_count": 206,
   "id": "6cff4c6e",
   "metadata": {},
   "outputs": [],
   "source": [
    "cellFeatures_3D = cellFeatures[:,:3]"
   ]
  },
  {
   "cell_type": "code",
   "execution_count": 207,
   "id": "d5599b64",
   "metadata": {},
   "outputs": [
    {
     "data": {
      "text/plain": [
       "(187652, 3)"
      ]
     },
     "execution_count": 207,
     "metadata": {},
     "output_type": "execute_result"
    }
   ],
   "source": [
    "cellFeatures_3D.shape"
   ]
  },
  {
   "cell_type": "code",
   "execution_count": 208,
   "id": "357440d2",
   "metadata": {},
   "outputs": [],
   "source": [
    "pair_features_test_3D =[]\n",
    "for pair in total_indices_test:\n",
    "    pair_features_test_3D.append((cellFeatures_3D[pair[0]],\\\n",
    "                          cellFeatures_3D[pair[1]]))"
   ]
  },
  {
   "cell_type": "code",
   "execution_count": 209,
   "id": "39bf9277",
   "metadata": {},
   "outputs": [
    {
     "data": {
      "text/plain": [
       "300000"
      ]
     },
     "execution_count": 209,
     "metadata": {},
     "output_type": "execute_result"
    }
   ],
   "source": [
    "len(pair_features_test_3D)"
   ]
  },
  {
   "cell_type": "code",
   "execution_count": 210,
   "id": "49158795",
   "metadata": {},
   "outputs": [],
   "source": [
    "pair_3D_dist =[]\n",
    "for pair in total_indices_test:\n",
    "    first = cellFeatures_3D[pair[0]]\n",
    "    second = cellFeatures_3D[pair[1]]\n",
    "    dist = np.linalg.norm(first - second)/1000\n",
    "    pair_3D_dist.append(dist)"
   ]
  },
  {
   "cell_type": "code",
   "execution_count": 212,
   "id": "c73ee4a0",
   "metadata": {},
   "outputs": [],
   "source": [
    "pair_3D_dist = np.array(pair_3D_dist)"
   ]
  },
  {
   "cell_type": "code",
   "execution_count": 213,
   "id": "d2ae28f8",
   "metadata": {},
   "outputs": [],
   "source": [
    "simArray_3D = pair_3D_dist[simCells_b4]\n",
    "asimArray_3D = pair_3D_dist[asimCells_b4]"
   ]
  },
  {
   "cell_type": "code",
   "execution_count": 214,
   "id": "23fe83ee",
   "metadata": {},
   "outputs": [],
   "source": [
    "sym_sort_index_3D = sorted(range(len(simArray_3D)), key=lambda k: simArray_3D[k])\n",
    "asym_sort_index_3D = sorted(range(len(asimArray_3D)), key=lambda k: asimArray_3D[k])"
   ]
  },
  {
   "cell_type": "code",
   "execution_count": 219,
   "id": "fce3cee6",
   "metadata": {},
   "outputs": [],
   "source": [
    "simArray_sorted_3D = simArray_3D[sym_sort_index_3D]\n",
    "asymArray_sorted_3D = asimArray_3D[asym_sort_index_3D]"
   ]
  },
  {
   "cell_type": "code",
   "execution_count": 221,
   "id": "fea05c6b",
   "metadata": {},
   "outputs": [
    {
     "data": {
      "text/plain": [
       "array([0.00421253, 0.00421253, 0.00421253, ..., 3.48467988, 3.55122784,\n",
       "       3.60876206])"
      ]
     },
     "execution_count": 221,
     "metadata": {},
     "output_type": "execute_result"
    }
   ],
   "source": [
    "simArray_sorted_3D"
   ]
  },
  {
   "cell_type": "code",
   "execution_count": 226,
   "id": "b8035ae0",
   "metadata": {},
   "outputs": [],
   "source": [
    "asimArray_sorted_16D = asimArray[asym_sort_index_3D]\n",
    "simArray_sorted_16D= simArray[sym_sort_index_3D]\n",
    "simArray_b4_sorted_8D = simArray_b4[sym_sort_index_3D]\n",
    "asimArray_b4_sorted_8D = asimArray_b4[asym_sort_index_3D]"
   ]
  },
  {
   "cell_type": "code",
   "execution_count": 228,
   "id": "c5821569",
   "metadata": {},
   "outputs": [
    {
     "data": {
      "image/png": "[encoded data removed]",
      "text/plain": [
       "<Figure size 432x288 with 1 Axes>"
      ]
     },
     "metadata": {
      "needs_background": "light"
     },
     "output_type": "display_data"
    }
   ],
   "source": [
    "plt.plot(asimArray_sorted_16D,  \n",
    "         alpha=0.5, # the transaparency parameter \n",
    "         label='false_pairs 16D') \n",
    "  \n",
    "plt.plot(asimArray_b4_sorted_8D, \n",
    "         alpha=0.5, \n",
    "         label='false_pairs 8D') \n",
    "\n",
    "plt.plot(asymArray_sorted_3D, \n",
    "         alpha=0.5, \n",
    "         label='false_pairs 3D') \n",
    "  \n",
    "plt.legend(loc='lower right') \n",
    "plt.yscale(\"log\")\n",
    "plt.ylabel(\"distance\")\n",
    "plt.xlabel(\"indices\")\n",
    "plt.title('false pairs sorted distance comparison 3D with b4 and after training') \n",
    "plt.show()"
   ]
  },
  {
   "cell_type": "code",
   "execution_count": 231,
   "id": "097b9c60",
   "metadata": {},
   "outputs": [
    {
     "data": {
      "image/png": "[encoded data removed]",
      "text/plain": [
       "<Figure size 432x288 with 1 Axes>"
      ]
     },
     "metadata": {
      "needs_background": "light"
     },
     "output_type": "display_data"
    }
   ],
   "source": [
    "plt.plot(simArray_sorted_16D,  \n",
    "         alpha=0.5, # the transaparency parameter \n",
    "         label='true_pairs 16D') \n",
    "  \n",
    "plt.plot(simArray_b4_sorted_8D, \n",
    "         alpha=0.5, \n",
    "         label='true_pairs 8D') \n",
    "\n",
    "plt.plot(simArray_sorted_3D, \n",
    "         alpha=0.5, \n",
    "         label='true_pairs 3D') \n",
    "  \n",
    "plt.legend(loc='lower right') \n",
    "plt.yscale(\"log\")\n",
    "plt.ylabel(\"distance\")\n",
    "plt.xlabel(\"indices\")\n",
    "plt.title('true pairs sorted distance comparison 3D with b4 and after training') \n",
    "plt.show()"
   ]
  },
  {
   "cell_type": "code",
   "execution_count": null,
   "id": "26c50953",
   "metadata": {},
   "outputs": [],
   "source": []
  }
 ],
 "metadata": {
  "kernelspec": {
   "display_name": "my_env",
   "language": "python",
   "name": "my_env"
  },
  "language_info": {
   "codemirror_mode": {
    "name": "ipython",
    "version": 3
   },
   "file_extension": ".py",
   "mimetype": "text/x-python",
   "name": "python",
   "nbconvert_exporter": "python",
   "pygments_lexer": "ipython3",
   "version": "3.8.6"
  }
 },
 "nbformat": 4,
 "nbformat_minor": 5
}
