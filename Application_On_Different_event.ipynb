{
 "cells": [
  {
   "cell_type": "code",
   "execution_count": 1,
   "id": "099a9353",
   "metadata": {},
   "outputs": [],
   "source": [
    "import uproot\n",
    "import numpy as np\n",
    "import networkx as nx\n",
    "import matplotlib.pyplot as plt\n",
    "from scipy.spatial.distance import cdist\n",
    "from sklearn.model_selection import cross_val_score, cross_val_predict, train_test_split\n",
    "from collections import namedtuple, defaultdict\n",
    "import open3d as o3d\n",
    "import random\n",
    "random.seed(42)\n",
    "import h5py\n",
    "import torch\n",
    "import torch.nn as nn\n",
    "import torch.optim as optim\n",
    "from torch.utils.data import DataLoader, Dataset\n",
    "from torchvision import transforms\n",
    "from sklearn.preprocessing import StandardScaler, MinMaxScaler\n",
    "import joblib"
   ]
  },
  {
   "cell_type": "code",
   "execution_count": 2,
   "id": "c754c494",
   "metadata": {},
   "outputs": [],
   "source": [
    "hf_pair_indices_ev1= h5py.File(\"./true_pair_index_ev1.hdf5\", 'r')\n",
    "hf_nopair_indices_ev1 = h5py.File(\"./false_pair_index_ev1.hdf5\", 'r')\n",
    "hf_cellFeatures_ev1 = h5py.File(\"./cellFeatures_ev1.hdf5\", 'r')\n",
    "hf_sharedCellsIndices = h5py.File(\"./sharedCellsIndices.hdf5\", 'r')"
   ]
  },
  {
   "cell_type": "code",
   "execution_count": 3,
   "id": "36aba985",
   "metadata": {},
   "outputs": [],
   "source": [
    "true_pair_ev1 = hf_pair_indices_ev1.get('true_pair')[:]\n",
    "false_pair_ev1 = hf_nopair_indices_ev1.get('false_pair')[:]\n",
    "cellFeatures_ev1 = hf_cellFeatures_ev1.get('cellFeatures')[:]"
   ]
  },
  {
   "cell_type": "code",
   "execution_count": 4,
   "id": "f8c34ddd",
   "metadata": {},
   "outputs": [],
   "source": [
    "hf_pair_indices_ev1.close()\n",
    "hf_nopair_indices_ev1.close()\n",
    "hf_cellFeatures_ev1.close()"
   ]
  },
  {
   "cell_type": "code",
   "execution_count": 5,
   "id": "dd726bf8",
   "metadata": {},
   "outputs": [
    {
     "name": "stdout",
     "output_type": "stream",
     "text": [
      "true_pair_ev1.shape:  (2199950, 2)\n",
      "false_pair_ev1.shape:  (450580, 2)\n",
      "cellFeatures_ev1.shape:  (187652, 8)\n"
     ]
    }
   ],
   "source": [
    "print(\"true_pair_ev1.shape: \",true_pair_ev1.shape)\n",
    "print(\"false_pair_ev1.shape: \",false_pair_ev1.shape)\n",
    "print(\"cellFeatures_ev1.shape: \",cellFeatures_ev1.shape)"
   ]
  },
  {
   "cell_type": "code",
   "execution_count": 7,
   "id": "634d2f61",
   "metadata": {},
   "outputs": [],
   "source": [
    "false_pair_ev1_400k = false_pair_ev1[:400000] # using 500k nopais\n",
    "true_pair_ev1_400k = true_pair_ev1[:400000]          # using 500k pais"
   ]
  },
  {
   "cell_type": "code",
   "execution_count": 8,
   "id": "93e1ca11",
   "metadata": {},
   "outputs": [
    {
     "name": "stdout",
     "output_type": "stream",
     "text": [
      "pair_500k.shape:  (400000, 2)\n",
      "nopair_500k.shape:  (400000, 2)\n"
     ]
    }
   ],
   "source": [
    "print(\"pair_500k.shape: \",true_pair_ev1_400k.shape)\n",
    "print(\"nopair_500k.shape: \",false_pair_ev1_400k.shape)"
   ]
  },
  {
   "cell_type": "code",
   "execution_count": 9,
   "id": "bdd569b4",
   "metadata": {},
   "outputs": [],
   "source": [
    "total_indices_ev1 = np.concatenate((true_pair_ev1_400k,false_pair_ev1_400k),axis=0)"
   ]
  },
  {
   "cell_type": "code",
   "execution_count": 10,
   "id": "daf81250",
   "metadata": {},
   "outputs": [
    {
     "data": {
      "text/plain": [
       "(800000, 2)"
      ]
     },
     "execution_count": 10,
     "metadata": {},
     "output_type": "execute_result"
    }
   ],
   "source": [
    "total_indices_ev1.shape"
   ]
  },
  {
   "cell_type": "code",
   "execution_count": 14,
   "id": "d1c53161",
   "metadata": {},
   "outputs": [],
   "source": [
    "total_label_ev1 = np.concatenate(([1]*400000,[-1]*400000),axis=0)"
   ]
  },
  {
   "cell_type": "code",
   "execution_count": 12,
   "id": "fee782b1",
   "metadata": {},
   "outputs": [],
   "source": [
    "scaler = joblib.load('./scaler.save')\n",
    "cellFeatures_ev1S = scaler.transform(cellFeatures_ev1)"
   ]
  },
  {
   "cell_type": "code",
   "execution_count": 13,
   "id": "54168c53",
   "metadata": {},
   "outputs": [],
   "source": [
    "pair_features_ev1 = []\n",
    "for pair in total_indices_ev1:\n",
    "    pair_features_ev1.append((cellFeatures_ev1S[pair[0]],\\\n",
    "                        cellFeatures_ev1S[pair[1]]))"
   ]
  },
  {
   "cell_type": "code",
   "execution_count": 15,
   "id": "63f3dd44",
   "metadata": {},
   "outputs": [],
   "source": [
    "# Convert data to PyTorch tensors\n",
    "ev1Pairs = [(torch.Tensor(pair[0]), torch.Tensor(pair[1])) for pair in pair_features_ev1]\n",
    "ev1Labels = torch.tensor(total_label_ev1, dtype=torch.float32)"
   ]
  },
  {
   "cell_type": "code",
   "execution_count": 16,
   "id": "166a6e67",
   "metadata": {},
   "outputs": [],
   "source": [
    "# Custom dataset for pairwise training\n",
    "class SiameseDataset(Dataset):\n",
    "    def __init__(self, data, labels, transform=None):\n",
    "        self.data = data\n",
    "        self.labels = labels\n",
    "        self.transform = transform\n",
    "\n",
    "    def __len__(self):\n",
    "        return len(self.data)\n",
    "\n",
    "    def __getitem__(self, index):\n",
    "        pair = (self.data[index][0], self.data[index][1])\n",
    "        label = torch.tensor(self.labels[index], dtype=torch.float32)\n",
    "\n",
    "        if self.transform:\n",
    "            pair = (self.transform(pair[0]), self.transform(pair[1]))\n",
    "\n",
    "        return pair, label"
   ]
  },
  {
   "cell_type": "code",
   "execution_count": 17,
   "id": "a428f7fe",
   "metadata": {},
   "outputs": [],
   "source": [
    "ev1Dataset = SiameseDataset(data=ev1Pairs, labels=ev1Labels)\n",
    "ev1Dataloader = DataLoader(ev1Dataset, batch_size=800000, shuffle=False)"
   ]
  },
  {
   "cell_type": "code",
   "execution_count": 18,
   "id": "b2a259c6",
   "metadata": {},
   "outputs": [
    {
     "name": "stderr",
     "output_type": "stream",
     "text": [
      "/var/folders/k8/cklb1sxj1p35mft4gbkymsc091k_dc/T/ipykernel_97223/1935613023.py:13: UserWarning: To copy construct from a tensor, it is recommended to use sourceTensor.clone().detach() or sourceTensor.clone().detach().requires_grad_(True), rather than torch.tensor(sourceTensor).\n",
      "  label = torch.tensor(self.labels[index], dtype=torch.float32)\n"
     ]
    }
   ],
   "source": [
    "# Distance of test sample before training\n",
    "ev1Dist = []\n",
    "ev1Label = []\n",
    "for batch in ev1Dataloader:\n",
    "        inputs, target = batch\n",
    "        input1, input2 = inputs\n",
    "\n",
    "        # Forward pass\n",
    "        distances = torch.pairwise_distance(input1, input2)\n",
    "        ev1Dist.append(distances)\n",
    "        ev1Label.append(target)"
   ]
  },
  {
   "cell_type": "code",
   "execution_count": 19,
   "id": "2e879275",
   "metadata": {},
   "outputs": [],
   "source": [
    "distArray_b4_ev1 = ev1Dist[0].detach().numpy()\n",
    "labelArray_b4_ev1 = ev1Label[0].detach().numpy()"
   ]
  },
  {
   "cell_type": "code",
   "execution_count": 20,
   "id": "5f6068cd",
   "metadata": {},
   "outputs": [],
   "source": [
    "simCells_b4_ev1 = [i for i in range(len(labelArray_b4_ev1)) if labelArray_b4_ev1[i]==1]\n",
    "asimCells_b4_ev1 = [i for i in range(len(labelArray_b4_ev1)) if labelArray_b4_ev1[i]==-1]\n",
    "simArray_b4_ev1 = distArray_b4_ev1[simCells_b4_ev1]\n",
    "asimArray_b4_ev1 = distArray_b4_ev1[asimCells_b4_ev1]"
   ]
  },
  {
   "cell_type": "code",
   "execution_count": 22,
   "id": "ee79b30e",
   "metadata": {},
   "outputs": [
    {
     "data": {
      "image/png": "[encoded data removed]",
      "text/plain": [
       "<Figure size 432x288 with 1 Axes>"
      ]
     },
     "metadata": {
      "needs_background": "light"
     },
     "output_type": "display_data"
    }
   ],
   "source": [
    "plt.hist(simArray_b4_ev1, bins = 100)\n",
    "plt.yscale(\"log\")\n",
    "plt.xlabel(\"distance 8D\")\n",
    "plt.show()"
   ]
  },
  {
   "cell_type": "code",
   "execution_count": 23,
   "id": "dc8e460e",
   "metadata": {},
   "outputs": [
    {
     "data": {
      "image/png": "[encoded data removed]",
      "text/plain": [
       "<Figure size 432x288 with 1 Axes>"
      ]
     },
     "metadata": {
      "needs_background": "light"
     },
     "output_type": "display_data"
    }
   ],
   "source": [
    "plt.hist(asimArray_b4_ev1, bins=100)\n",
    "plt.yscale(\"log\")\n",
    "plt.xlabel(\"distance 8D\")\n",
    "plt.show()"
   ]
  },
  {
   "cell_type": "code",
   "execution_count": 24,
   "id": "f0dce94a",
   "metadata": {},
   "outputs": [],
   "source": [
    "class SiameseNetwork(nn.Module):\n",
    "    def __init__(self, input_size):\n",
    "        super(SiameseNetwork, self).__init__()\n",
    "\n",
    "        # Define the architecture for one branch of the Siamese network\n",
    "        self.branch = nn.Sequential(\n",
    "            nn.Linear(input_size, 128),\n",
    "            #nn.BatchNorm1d(128),\n",
    "            nn.ReLU(inplace=True),\n",
    "            nn.Linear(128, 128),\n",
    "            #nn.BatchNorm1d(128),\n",
    "            nn.ReLU(inplace=True),\n",
    "            nn.Linear(128, 128),\n",
    "            #nn.BatchNorm1d(128),\n",
    "            nn.ReLU(inplace=True),\n",
    "            nn.Linear(128, 64),\n",
    "            #nn.BatchNorm1d(64),\n",
    "            nn.ReLU(inplace=True),\n",
    "            nn.Linear(64, 32),\n",
    "            #nn.BatchNorm1d(32),\n",
    "            nn.ReLU(inplace=True),\n",
    "            nn.Linear(32, 16),\n",
    "        )\n",
    "\n",
    "    def forward_one(self, x):\n",
    "        # Forward pass for one branch of the Siamese network\n",
    "        return self.branch(x)\n",
    "\n",
    "    def forward(self, input1, input2):\n",
    "        # Forward pass for both branches of the Siamese network\n",
    "        output1 = self.forward_one(input1)\n",
    "        output2 = self.forward_one(input2)\n",
    "        return output1, output2"
   ]
  },
  {
   "cell_type": "code",
   "execution_count": 25,
   "id": "9acc9e4c",
   "metadata": {},
   "outputs": [],
   "source": [
    "input_size = 8\n",
    "path = \"/Users/bakshiguptad/ML/MLBasedCaloClusteringPipeLine/siamese_net.pth\"\n",
    "model = SiameseNetwork(input_size)\n",
    "#model.load(torch.load(path))\n",
    "model = torch.load(path)"
   ]
  },
  {
   "cell_type": "code",
   "execution_count": 26,
   "id": "3f392ace",
   "metadata": {},
   "outputs": [
    {
     "name": "stderr",
     "output_type": "stream",
     "text": [
      "/var/folders/k8/cklb1sxj1p35mft4gbkymsc091k_dc/T/ipykernel_97223/1935613023.py:13: UserWarning: To copy construct from a tensor, it is recommended to use sourceTensor.clone().detach() or sourceTensor.clone().detach().requires_grad_(True), rather than torch.tensor(sourceTensor).\n",
      "  label = torch.tensor(self.labels[index], dtype=torch.float32)\n"
     ]
    }
   ],
   "source": [
    "dist_ev1 = []\n",
    "label_ev1 = []\n",
    "for batch in ev1Dataloader:\n",
    "        inputs, target = batch\n",
    "        input1, input2 = inputs\n",
    "\n",
    "        # Forward pass\n",
    "        output1, output2 = model(input1, input2)\n",
    "        distances = torch.pairwise_distance(output1, output2)\n",
    "        dist_ev1.append(distances)\n",
    "        label_ev1.append(target)"
   ]
  },
  {
   "cell_type": "code",
   "execution_count": 27,
   "id": "c0b85306",
   "metadata": {},
   "outputs": [],
   "source": [
    "distArray_ev1 = dist_ev1[0].detach().numpy()\n",
    "labelArray_ev1 = label_ev1[0].detach().numpy()"
   ]
  },
  {
   "cell_type": "code",
   "execution_count": 28,
   "id": "6d9fbbac",
   "metadata": {},
   "outputs": [],
   "source": [
    "simArray_ev1 = distArray_ev1[simCells_b4_ev1]\n",
    "asimArray_ev1 = distArray_ev1[asimCells_b4_ev1]"
   ]
  },
  {
   "cell_type": "code",
   "execution_count": 29,
   "id": "13ce8a1c",
   "metadata": {},
   "outputs": [
    {
     "data": {
      "image/png": "[encoded data removed]",
      "text/plain": [
       "<Figure size 432x288 with 1 Axes>"
      ]
     },
     "metadata": {
      "needs_background": "light"
     },
     "output_type": "display_data"
    }
   ],
   "source": [
    "plt.hist(simArray_ev1, bins=100)\n",
    "plt.yscale(\"log\")\n",
    "#plt.xlim(0,0.1)\n",
    "plt.show()"
   ]
  },
  {
   "cell_type": "code",
   "execution_count": 30,
   "id": "0b938f64",
   "metadata": {},
   "outputs": [
    {
     "data": {
      "image/png": "[encoded data removed]",
      "text/plain": [
       "<Figure size 432x288 with 1 Axes>"
      ]
     },
     "metadata": {
      "needs_background": "light"
     },
     "output_type": "display_data"
    }
   ],
   "source": [
    "plt.hist(asimArray_ev1, bins=100)\n",
    "plt.yscale(\"log\")\n",
    "#plt.xlim(0,0.1)\n",
    "plt.show()"
   ]
  },
  {
   "cell_type": "code",
   "execution_count": 31,
   "id": "25aa60db",
   "metadata": {},
   "outputs": [
    {
     "data": {
      "image/png": "[encoded data removed]",
      "text/plain": [
       "<Figure size 432x288 with 1 Axes>"
      ]
     },
     "metadata": {
      "needs_background": "light"
     },
     "output_type": "display_data"
    }
   ],
   "source": [
    "plt.hist(simArray_ev1,  \n",
    "         alpha=0.5, # the transaparency parameter \n",
    "         label='true_pairs 16D',bins=100) \n",
    "  \n",
    "plt.hist(simArray_b4_ev1, \n",
    "         alpha=0.5, \n",
    "         label='true_pairs 8D',bins=100) \n",
    "  \n",
    "plt.legend(loc='upper right') \n",
    "plt.yscale(\"log\")\n",
    "plt.xlabel(\"distance\")\n",
    "plt.title('true pairs distance comparison b4 and after training') \n",
    "plt.show()"
   ]
  },
  {
   "cell_type": "code",
   "execution_count": 32,
   "id": "f36eed90",
   "metadata": {},
   "outputs": [
    {
     "data": {
      "image/png": "[encoded data removed]",
      "text/plain": [
       "<Figure size 432x288 with 1 Axes>"
      ]
     },
     "metadata": {
      "needs_background": "light"
     },
     "output_type": "display_data"
    }
   ],
   "source": [
    "plt.hist(asimArray_ev1,  \n",
    "         alpha=0.5, # the transaparency parameter \n",
    "         label='true_pairs 16D',bins=100) \n",
    "  \n",
    "plt.hist(asimArray_b4_ev1, \n",
    "         alpha=0.5, \n",
    "         label='true_pairs 8D',bins=100) \n",
    "  \n",
    "plt.legend(loc='upper right') \n",
    "plt.yscale(\"log\")\n",
    "plt.xlabel(\"distance\")\n",
    "plt.title('false pairs distance comparison b4 and after training') \n",
    "plt.show()"
   ]
  },
  {
   "cell_type": "code",
   "execution_count": null,
   "id": "d8b54c54",
   "metadata": {},
   "outputs": [],
   "source": []
  }
 ],
 "metadata": {
  "kernelspec": {
   "display_name": "my_env",
   "language": "python",
   "name": "my_env"
  },
  "language_info": {
   "codemirror_mode": {
    "name": "ipython",
    "version": 3
   },
   "file_extension": ".py",
   "mimetype": "text/x-python",
   "name": "python",
   "nbconvert_exporter": "python",
   "pygments_lexer": "ipython3",
   "version": "3.8.6"
  }
 },
 "nbformat": 4,
 "nbformat_minor": 5
}
