{
 "cells": [
  {
   "cell_type": "code",
   "execution_count": 89,
   "id": "47f0bae2",
   "metadata": {},
   "outputs": [],
   "source": [
    "import uproot\n",
    "import numpy as np\n",
    "import networkx as nx\n",
    "import matplotlib.pyplot as plt\n",
    "from scipy.spatial.distance import cdist\n",
    "from sklearn.model_selection import cross_val_score, cross_val_predict, train_test_split\n",
    "from collections import namedtuple, defaultdict\n",
    "import open3d as o3d\n",
    "import random\n",
    "random.seed(42)\n",
    "import h5py\n",
    "import torch\n",
    "import torch.nn as nn\n",
    "import torch.optim as optim\n",
    "from torch.utils.data import DataLoader, Dataset\n",
    "from torch_geometric.data import Data\n",
    "from torch_geometric.nn import GCNConv\n",
    "from torch_geometric.utils import add_self_loops\n",
    "from torchvision import transforms\n",
    "from sklearn.preprocessing import StandardScaler, MinMaxScaler\n",
    "import joblib"
   ]
  },
  {
   "cell_type": "code",
   "execution_count": 90,
   "id": "c93f811e",
   "metadata": {},
   "outputs": [],
   "source": [
    "hf_neighbor_pairs_inCluster = h5py.File(\"./neighbor_pairs_inCluster.hdf5\", 'r')\n",
    "hf_neighbor_pairs_notInCluster = h5py.File(\"./neighbor_pairs_notInCluster.hdf5\", 'r')\n",
    "hf_cellFeatures = h5py.File(\"./cellFeatures.hdf5\", 'r')"
   ]
  },
  {
   "cell_type": "code",
   "execution_count": 91,
   "id": "814dd2ba",
   "metadata": {},
   "outputs": [],
   "source": [
    "true_pair = hf_neighbor_pairs_inCluster.get('neighbor_pairs_inCluster')[:]\n",
    "false_pair = hf_neighbor_pairs_notInCluster.get('neighbor_pairs_notInCluster')[:]\n",
    "cellFeatures = hf_cellFeatures.get('cellFeatures')[:]"
   ]
  },
  {
   "cell_type": "code",
   "execution_count": 92,
   "id": "f4e1ece3",
   "metadata": {},
   "outputs": [],
   "source": [
    "hf_neighbor_pairs_inCluster.close()\n",
    "hf_neighbor_pairs_notInCluster.close()\n",
    "hf_cellFeatures.close()"
   ]
  },
  {
   "cell_type": "code",
   "execution_count": 93,
   "id": "338afc77",
   "metadata": {},
   "outputs": [
    {
     "name": "stdout",
     "output_type": "stream",
     "text": [
      "true_pair.shape:  (256793, 2)\n",
      "false_pair.shape:  (993449, 2)\n",
      "cellFeatures.shape:  (187652, 8)\n"
     ]
    }
   ],
   "source": [
    "print(\"true_pair.shape: \",true_pair.shape)\n",
    "print(\"false_pair.shape: \",false_pair.shape)\n",
    "print(\"cellFeatures.shape: \",cellFeatures.shape)"
   ]
  },
  {
   "cell_type": "code",
   "execution_count": 94,
   "id": "a947b1d4",
   "metadata": {},
   "outputs": [],
   "source": [
    "true_pair_250k = true_pair[:250000]\n",
    "false_pair_250k = false_pair[:250000]"
   ]
  },
  {
   "cell_type": "markdown",
   "id": "04f82f87",
   "metadata": {},
   "source": [
    "## Concatenating +ve and -ve examples"
   ]
  },
  {
   "cell_type": "code",
   "execution_count": 95,
   "id": "d3b5ed5a",
   "metadata": {},
   "outputs": [],
   "source": [
    "total_indices = np.concatenate((true_pair_250k,false_pair_250k),axis=0)"
   ]
  },
  {
   "cell_type": "code",
   "execution_count": 96,
   "id": "de6bbf20",
   "metadata": {},
   "outputs": [
    {
     "data": {
      "text/plain": [
       "(500000, 2)"
      ]
     },
     "execution_count": 96,
     "metadata": {},
     "output_type": "execute_result"
    }
   ],
   "source": [
    "total_indices.shape"
   ]
  },
  {
   "cell_type": "markdown",
   "id": "39aabbab",
   "metadata": {},
   "source": [
    "## Making labels 1 for +ve e.g and 0 for -ve e.g"
   ]
  },
  {
   "cell_type": "code",
   "execution_count": 97,
   "id": "3d0dfda6",
   "metadata": {},
   "outputs": [],
   "source": [
    "total_label = np.concatenate(([1]*250000,[0]*250000),axis=0)"
   ]
  },
  {
   "cell_type": "code",
   "execution_count": 98,
   "id": "f6b64af3",
   "metadata": {},
   "outputs": [
    {
     "data": {
      "text/plain": [
       "(500000,)"
      ]
     },
     "execution_count": 98,
     "metadata": {},
     "output_type": "execute_result"
    }
   ],
   "source": [
    "total_label.shape"
   ]
  },
  {
   "cell_type": "markdown",
   "id": "de383f39",
   "metadata": {},
   "source": [
    "## Randomizing data and dividing into train, test parts"
   ]
  },
  {
   "cell_type": "code",
   "execution_count": 99,
   "id": "fc8d18cb",
   "metadata": {},
   "outputs": [],
   "source": [
    "arr = np.arange(500000)\n",
    "np.random.shuffle(arr)\n",
    "total_indices_rand = total_indices[arr]\n",
    "total_label_rand =  total_label[arr]"
   ]
  },
  {
   "cell_type": "code",
   "execution_count": 100,
   "id": "e3c69f5f",
   "metadata": {},
   "outputs": [],
   "source": [
    "total_indices_train, total_indices_test, truth_label_train, truth_label_test = train_test_split(\n",
    "    total_indices_rand, total_label_rand, train_size=0.70)"
   ]
  },
  {
   "cell_type": "code",
   "execution_count": 101,
   "id": "eba65ef7",
   "metadata": {},
   "outputs": [
    {
     "data": {
      "text/plain": [
       "(350000, 2)"
      ]
     },
     "execution_count": 101,
     "metadata": {},
     "output_type": "execute_result"
    }
   ],
   "source": [
    "total_indices_train.shape"
   ]
  },
  {
   "cell_type": "code",
   "execution_count": 102,
   "id": "84d12c18",
   "metadata": {},
   "outputs": [
    {
     "data": {
      "text/plain": [
       "(150000, 2)"
      ]
     },
     "execution_count": 102,
     "metadata": {},
     "output_type": "execute_result"
    }
   ],
   "source": [
    "total_indices_test.shape"
   ]
  },
  {
   "cell_type": "code",
   "execution_count": 103,
   "id": "28b6d086",
   "metadata": {},
   "outputs": [],
   "source": [
    "# creating pair and no pair indices file\n",
    "with h5py.File('./test_pair_neighbor.hdf5', 'w') as f: \n",
    "    dset = f.create_dataset(\"test_pair\", data = total_indices_test)\n",
    "\n",
    "with h5py.File('./test_truth_neighbor.hdf5', 'w') as f: \n",
    "    dset = f.create_dataset(\"test_truth_label\", data = truth_label_test)"
   ]
  },
  {
   "cell_type": "markdown",
   "id": "c972b4dc",
   "metadata": {},
   "source": [
    "### Based on the train-test cell indices find the cell features and scale them"
   ]
  },
  {
   "cell_type": "code",
   "execution_count": 104,
   "id": "ff04ff54",
   "metadata": {},
   "outputs": [],
   "source": [
    "# find the unique cell indices in the pair\n",
    "train_index_set = set()\n",
    "for item in total_indices_train:\n",
    "    if item[0] not in train_index_set:\n",
    "        train_index_set.add(item[0])\n",
    "    elif item[1] not in train_index_set:\n",
    "        train_index_set.add(item[1])"
   ]
  },
  {
   "cell_type": "code",
   "execution_count": 105,
   "id": "9191e9f1",
   "metadata": {},
   "outputs": [
    {
     "data": {
      "text/plain": [
       "108462"
      ]
     },
     "execution_count": 105,
     "metadata": {},
     "output_type": "execute_result"
    }
   ],
   "source": [
    "len(train_index_set)"
   ]
  },
  {
   "cell_type": "code",
   "execution_count": 106,
   "id": "721ed81e",
   "metadata": {},
   "outputs": [],
   "source": [
    "# find the unique cell indices in the pair\n",
    "test_index_set = set()\n",
    "for item in total_indices_test:\n",
    "    if item[0] not in test_index_set:\n",
    "        test_index_set.add(item[0])\n",
    "    elif item[1] not in test_index_set:\n",
    "        test_index_set.add(item[1])"
   ]
  },
  {
   "cell_type": "code",
   "execution_count": 107,
   "id": "d87e499f",
   "metadata": {},
   "outputs": [
    {
     "data": {
      "text/plain": [
       "87301"
      ]
     },
     "execution_count": 107,
     "metadata": {},
     "output_type": "execute_result"
    }
   ],
   "source": [
    "len(test_index_set)"
   ]
  },
  {
   "cell_type": "markdown",
   "id": "8dc19c9e",
   "metadata": {},
   "source": [
    "## MinMax Scaling training set"
   ]
  },
  {
   "cell_type": "code",
   "execution_count": 108,
   "id": "aaa0c42c",
   "metadata": {},
   "outputs": [],
   "source": [
    "train_index_list = list(train_index_set)\n",
    "test_index_list = list(test_index_set)"
   ]
  },
  {
   "cell_type": "code",
   "execution_count": 109,
   "id": "0cdff7d9",
   "metadata": {},
   "outputs": [],
   "source": [
    "with h5py.File('./test_index_list_neighbor.hdf5', 'w') as f: \n",
    "    dset = f.create_dataset(\"test_index_list\", data = test_index_list)"
   ]
  },
  {
   "cell_type": "code",
   "execution_count": 110,
   "id": "332596a2",
   "metadata": {},
   "outputs": [],
   "source": [
    "for item in test_index_list:\n",
    "    if item in train_index_list:\n",
    "        index = test_index_list.index(item)\n",
    "        test_index_list.pop(index)"
   ]
  },
  {
   "cell_type": "code",
   "execution_count": 111,
   "id": "c19f30df",
   "metadata": {},
   "outputs": [
    {
     "data": {
      "text/plain": [
       "45973"
      ]
     },
     "execution_count": 111,
     "metadata": {},
     "output_type": "execute_result"
    }
   ],
   "source": [
    "len(test_index_list)"
   ]
  },
  {
   "cell_type": "code",
   "execution_count": 112,
   "id": "f53a544f",
   "metadata": {},
   "outputs": [],
   "source": [
    "cellFeatures_train = cellFeatures[train_index_list]\n",
    "cellFeatures_test = cellFeatures[test_index_list]"
   ]
  },
  {
   "cell_type": "code",
   "execution_count": 113,
   "id": "6824f5c5",
   "metadata": {},
   "outputs": [
    {
     "data": {
      "text/plain": [
       "['./scaler_neighbor.save']"
      ]
     },
     "execution_count": 113,
     "metadata": {},
     "output_type": "execute_result"
    }
   ],
   "source": [
    "scaler = MinMaxScaler()\n",
    "cellFeatures_trainS = scaler.fit_transform(cellFeatures_train)\n",
    "scaler_filename = \"./scaler_neighbor.save\"\n",
    "joblib.dump(scaler, scaler_filename)"
   ]
  },
  {
   "cell_type": "code",
   "execution_count": 114,
   "id": "9dd3fddb",
   "metadata": {},
   "outputs": [],
   "source": [
    "scaler = joblib.load('./scaler_neighbor.save') \n",
    "cellFeatures_testS = scaler.transform(cellFeatures_test)"
   ]
  },
  {
   "cell_type": "markdown",
   "id": "960836fe",
   "metadata": {},
   "source": [
    "### Insert cellFeatures_train/test in a cellFeaturesScaled array "
   ]
  },
  {
   "cell_type": "code",
   "execution_count": 115,
   "id": "31a65393",
   "metadata": {},
   "outputs": [
    {
     "data": {
      "text/plain": [
       "(187652, 8)"
      ]
     },
     "execution_count": 115,
     "metadata": {},
     "output_type": "execute_result"
    }
   ],
   "source": [
    "cellFeatures.shape"
   ]
  },
  {
   "cell_type": "code",
   "execution_count": 116,
   "id": "7c323ed6",
   "metadata": {},
   "outputs": [],
   "source": [
    "cellFeaturesScaled =np.zeros((187652, 8))\n",
    "cell = 0\n",
    "for i in train_index_list:\n",
    "    cellFeaturesScaled[i] = cellFeatures_trainS[cell]\n",
    "    cell = cell+1"
   ]
  },
  {
   "cell_type": "code",
   "execution_count": 117,
   "id": "67adad1e",
   "metadata": {},
   "outputs": [],
   "source": [
    "cell = 0\n",
    "for i in test_index_list:\n",
    "    cellFeaturesScaled[i] = cellFeatures_testS[cell]\n",
    "    cell = cell+1"
   ]
  },
  {
   "cell_type": "code",
   "execution_count": 118,
   "id": "fac98508",
   "metadata": {},
   "outputs": [],
   "source": [
    "# creating Scaled Cell Feature file\n",
    "with h5py.File('./cellFeaturesScaled_neighbor.hdf5', 'w') as f: \n",
    "    dset = f.create_dataset(\"cellFeaturesScaled\", data = cellFeaturesScaled)"
   ]
  },
  {
   "cell_type": "code",
   "execution_count": 119,
   "id": "9657e944",
   "metadata": {},
   "outputs": [
    {
     "data": {
      "text/plain": [
       "array([[108470, 129112],\n",
       "       [ 88516, 105476],\n",
       "       [ 84083,  84340],\n",
       "       ...,\n",
       "       [155598, 166075],\n",
       "       [  8224,  19715],\n",
       "       [ 21126,  21127]])"
      ]
     },
     "execution_count": 119,
     "metadata": {},
     "output_type": "execute_result"
    }
   ],
   "source": [
    "total_indices_train"
   ]
  },
  {
   "cell_type": "code",
   "execution_count": 120,
   "id": "11850527",
   "metadata": {},
   "outputs": [],
   "source": [
    "train_edge_source_noBD =[]\n",
    "for pair in total_indices_train:\n",
    "    train_edge_source_noBD.append(pair[0])\n",
    "\n",
    "train_edge_dest_noBD =[]\n",
    "for pair in total_indices_train:\n",
    "    train_edge_dest_noBD.append(pair[1])"
   ]
  },
  {
   "cell_type": "code",
   "execution_count": 121,
   "id": "2b2b9b10",
   "metadata": {},
   "outputs": [],
   "source": [
    "test_edge_source_noBD =[]\n",
    "for pair in total_indices_test:\n",
    "    test_edge_source_noBD.append(pair[0])\n",
    "\n",
    "test_edge_dest_noBD =[]\n",
    "for pair in total_indices_test:\n",
    "    test_edge_dest_noBD.append(pair[1])"
   ]
  },
  {
   "cell_type": "code",
   "execution_count": 122,
   "id": "d3058d42",
   "metadata": {},
   "outputs": [],
   "source": [
    "train_edge_source_BD =[]\n",
    "for pair in total_indices_train:\n",
    "    train_edge_source_BD.append(pair[0])\n",
    "    train_edge_source_BD.append(pair[1])"
   ]
  },
  {
   "cell_type": "code",
   "execution_count": null,
   "id": "f27cd8e0",
   "metadata": {},
   "outputs": [],
   "source": []
  },
  {
   "cell_type": "code",
   "execution_count": 123,
   "id": "401c9d6c",
   "metadata": {},
   "outputs": [],
   "source": [
    "train_edge_source_BD = np.array(train_edge_source_BD)"
   ]
  },
  {
   "cell_type": "code",
   "execution_count": 124,
   "id": "219765dc",
   "metadata": {},
   "outputs": [
    {
     "data": {
      "text/plain": [
       "(700000,)"
      ]
     },
     "execution_count": 124,
     "metadata": {},
     "output_type": "execute_result"
    }
   ],
   "source": [
    "train_edge_source_BD.shape"
   ]
  },
  {
   "cell_type": "code",
   "execution_count": 125,
   "id": "bf5a3ff9",
   "metadata": {},
   "outputs": [],
   "source": [
    "train_edge_dest_BD =[]\n",
    "for pair in total_indices_train:\n",
    "    train_edge_dest_BD.append(pair[1])\n",
    "    train_edge_dest_BD.append(pair[0])"
   ]
  },
  {
   "cell_type": "code",
   "execution_count": 126,
   "id": "7342849c",
   "metadata": {},
   "outputs": [],
   "source": [
    "train_edge_dest_BD = np.array(train_edge_dest_BD)"
   ]
  },
  {
   "cell_type": "code",
   "execution_count": 127,
   "id": "3670454e",
   "metadata": {},
   "outputs": [
    {
     "data": {
      "text/plain": [
       "(700000,)"
      ]
     },
     "execution_count": 127,
     "metadata": {},
     "output_type": "execute_result"
    }
   ],
   "source": [
    "train_edge_dest_BD.shape"
   ]
  },
  {
   "cell_type": "code",
   "execution_count": 128,
   "id": "4503b2c1",
   "metadata": {},
   "outputs": [],
   "source": [
    "test_edge_source_BD =[]\n",
    "for pair in total_indices_test:\n",
    "    test_edge_source_BD.append(pair[0])\n",
    "    test_edge_source_BD.append(pair[1])\n",
    "    \n",
    "test_edge_dest_BD =[]\n",
    "for pair in total_indices_test:\n",
    "    test_edge_dest_BD.append(pair[1])\n",
    "    test_edge_dest_BD.append(pair[0])"
   ]
  },
  {
   "cell_type": "code",
   "execution_count": 129,
   "id": "c07bf223",
   "metadata": {},
   "outputs": [],
   "source": [
    "test_edge_source_BD = np.array(test_edge_source_BD)\n",
    "test_edge_dest_BD = np.array(test_edge_dest_BD)"
   ]
  },
  {
   "cell_type": "code",
   "execution_count": 130,
   "id": "d8cb9233",
   "metadata": {},
   "outputs": [
    {
     "data": {
      "text/plain": [
       "(300000,)"
      ]
     },
     "execution_count": 130,
     "metadata": {},
     "output_type": "execute_result"
    }
   ],
   "source": [
    "test_edge_source_BD.shape"
   ]
  },
  {
   "cell_type": "code",
   "execution_count": 131,
   "id": "c70a7462",
   "metadata": {},
   "outputs": [
    {
     "data": {
      "text/plain": [
       "(300000,)"
      ]
     },
     "execution_count": 131,
     "metadata": {},
     "output_type": "execute_result"
    }
   ],
   "source": [
    "test_edge_dest_BD.shape"
   ]
  },
  {
   "cell_type": "code",
   "execution_count": 132,
   "id": "83e3cb74",
   "metadata": {},
   "outputs": [
    {
     "data": {
      "text/plain": [
       "array([ 36759,  36760,  49458, ...,   4262, 101605, 101606])"
      ]
     },
     "execution_count": 132,
     "metadata": {},
     "output_type": "execute_result"
    }
   ],
   "source": [
    "test_edge_source_BD"
   ]
  },
  {
   "cell_type": "code",
   "execution_count": 133,
   "id": "f0b58b0a",
   "metadata": {},
   "outputs": [
    {
     "data": {
      "text/plain": [
       "array([ 36760,  36759,  72008, ...,   4197, 101606, 101605])"
      ]
     },
     "execution_count": 133,
     "metadata": {},
     "output_type": "execute_result"
    }
   ],
   "source": [
    "test_edge_dest_BD"
   ]
  },
  {
   "cell_type": "code",
   "execution_count": 134,
   "id": "c786c053",
   "metadata": {},
   "outputs": [],
   "source": [
    "with h5py.File('./train_edge_source_BD.hdf5', 'w') as f: \n",
    "    dset = f.create_dataset(\"train_edge_source_BD\", data = train_edge_source_BD)\n",
    "\n",
    "with h5py.File('./train_edge_dest_BD.hdf5', 'w') as f: \n",
    "    dset = f.create_dataset(\"train_edge_dest_BD\", data = train_edge_dest_BD)"
   ]
  },
  {
   "cell_type": "code",
   "execution_count": 135,
   "id": "4bbda844",
   "metadata": {},
   "outputs": [],
   "source": [
    "with h5py.File('./test_edge_source_BD.hdf5', 'w') as f: \n",
    "    dset = f.create_dataset(\"test_edge_source_BD\", data = test_edge_source_BD)\n",
    "\n",
    "with h5py.File('./test_edge_dest_BD.hdf5', 'w') as f: \n",
    "    dset = f.create_dataset(\"test_edge_dest_BD\", data = test_edge_dest_BD)"
   ]
  },
  {
   "cell_type": "code",
   "execution_count": 136,
   "id": "2c73082c",
   "metadata": {},
   "outputs": [],
   "source": [
    "with h5py.File('./truth_label_train_neighbor.hdf5', 'w') as f: \n",
    "    dset = f.create_dataset(\"truth_label_train\", data = truth_label_train)\n",
    "\n",
    "with h5py.File('./truth_label_test_neighbor.hdf5', 'w') as f: \n",
    "    dset = f.create_dataset(\"truth_label_test\", data = truth_label_test)"
   ]
  },
  {
   "cell_type": "code",
   "execution_count": 137,
   "id": "daead1d3",
   "metadata": {},
   "outputs": [],
   "source": [
    "with h5py.File('./train_edge_source_noBD.hdf5', 'w') as f: \n",
    "    dset = f.create_dataset(\"train_edge_source_noBD\", data = train_edge_source_noBD)\n",
    "\n",
    "with h5py.File('./train_edge_dest_noBD.hdf5', 'w') as f: \n",
    "    dset = f.create_dataset(\"train_edge_dest_noBD\", data = train_edge_dest_noBD)\n",
    "    \n",
    "with h5py.File('./test_edge_source_noBD.hdf5', 'w') as f: \n",
    "    dset = f.create_dataset(\"test_edge_source_noBD\", data = test_edge_source_noBD)\n",
    "\n",
    "with h5py.File('./test_edge_dest_noBD.hdf5', 'w') as f: \n",
    "    dset = f.create_dataset(\"test_edge_dest_noBD\", data = test_edge_dest_noBD)"
   ]
  },
  {
   "cell_type": "code",
   "execution_count": null,
   "id": "309ceabf",
   "metadata": {},
   "outputs": [],
   "source": []
  }
 ],
 "metadata": {
  "kernelspec": {
   "display_name": "my_env",
   "language": "python",
   "name": "my_env"
  },
  "language_info": {
   "codemirror_mode": {
    "name": "ipython",
    "version": 3
   },
   "file_extension": ".py",
   "mimetype": "text/x-python",
   "name": "python",
   "nbconvert_exporter": "python",
   "pygments_lexer": "ipython3",
   "version": "3.8.6"
  }
 },
 "nbformat": 4,
 "nbformat_minor": 5
}
